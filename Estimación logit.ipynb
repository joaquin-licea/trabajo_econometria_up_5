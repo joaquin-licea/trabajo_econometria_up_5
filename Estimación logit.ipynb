{
 "cells": [
  {
   "cell_type": "code",
   "execution_count": 1,
   "metadata": {},
   "outputs": [],
   "source": [
    "import matplotlib.pyplot as plt\n",
    "plt.style.use('ggplot')\n",
    "import pandas as pd\n",
    "import numpy as np\n",
    "import statsmodels.api as sm"
   ]
  },
  {
   "cell_type": "code",
   "execution_count": 2,
   "metadata": {},
   "outputs": [],
   "source": [
    "Base_final = pd.read_excel('/Users/carolinasanchez/Desktop/trabajo_econometria_up_5-master-3/base_final_1.xlsx')"
   ]
  },
  {
   "cell_type": "code",
   "execution_count": 3,
   "metadata": {},
   "outputs": [],
   "source": [
    "Base_final = Base_final.drop(['Unnamed: 0'], axis=1)"
   ]
  },
  {
   "cell_type": "code",
   "execution_count": 4,
   "metadata": {},
   "outputs": [],
   "source": [
    "Base_final=Base_final.rename(columns={'Defaults_prev':'y_binaria'})"
   ]
  },
  {
   "cell_type": "code",
   "execution_count": 5,
   "metadata": {},
   "outputs": [],
   "source": [
    "Base_final = Base_final.join(pd.get_dummies(Base_final['pais']))"
   ]
  },
  {
   "cell_type": "code",
   "execution_count": 6,
   "metadata": {},
   "outputs": [],
   "source": [
    "x_columns = ['Deuda', 'Inflacion', 'Reservas', 'Gasto público', 'Tasa fiscal',  'Tipo de cambio'] + list(Base_final['pais'].unique())"
   ]
  },
  {
   "cell_type": "code",
   "execution_count": 7,
   "metadata": {},
   "outputs": [
    {
     "name": "stdout",
     "output_type": "stream",
     "text": [
      "Warning: Maximum number of iterations has been exceeded.\n",
      "         Current function value: 0.162815\n",
      "         Iterations: 35\n",
      "                           Logit Regression Results                           \n",
      "==============================================================================\n",
      "Dep. Variable:              y_binaria   No. Observations:                  294\n",
      "Model:                          Logit   Df Residuals:                      274\n",
      "Method:                           MLE   Df Model:                           19\n",
      "Date:                Mon, 18 May 2020   Pseudo R-squ.:                  0.7345\n",
      "Time:                        23:03:50   Log-Likelihood:                -47.868\n",
      "converged:                      False   LL-Null:                       -180.27\n",
      "Covariance Type:            nonrobust   LLR p-value:                 3.075e-45\n",
      "==================================================================================\n",
      "                     coef    std err          z      P>|z|      [0.025      0.975]\n",
      "----------------------------------------------------------------------------------\n",
      "const             -9.7554        nan        nan        nan         nan         nan\n",
      "Deuda              0.0986      0.039      2.528      0.011       0.022       0.175\n",
      "Inflacion          0.2781      0.118      2.357      0.018       0.047       0.509\n",
      "Reservas        1.347e-11   1.02e-11      1.322      0.186    -6.5e-12    3.34e-11\n",
      "Gasto público      0.3860      0.150      2.581      0.010       0.093       0.679\n",
      "Tasa fiscal       -0.2242      0.224     -1.003      0.316      -0.662       0.214\n",
      "Tipo de cambio    -0.3445      0.082     -4.217      0.000      -0.505      -0.184\n",
      "Australia        -13.8213        nan        nan        nan         nan         nan\n",
      "Bhutan             9.7144        nan        nan        nan         nan         nan\n",
      "Guatemala          7.7651        nan        nan        nan         nan         nan\n",
      "Iceland           16.3527        nan        nan        nan         nan         nan\n",
      "India              5.8334        nan        nan        nan         nan         nan\n",
      "Jamaica           38.5925        nan        nan        nan         nan         nan\n",
      "Jordan            30.4344        nan        nan        nan         nan         nan\n",
      "Mauritius          7.9243        nan        nan        nan         nan         nan\n",
      "Singapore        -39.5452        nan        nan        nan         nan         nan\n",
      "Switzerland      -15.4322        nan        nan        nan         nan         nan\n",
      "Thailand          13.9281        nan        nan        nan         nan         nan\n",
      "Tunisia           -2.9905        nan        nan        nan         nan         nan\n",
      "United Kingdom   -34.6638        nan        nan        nan         nan         nan\n",
      "United States    -33.8692        nan        nan        nan         nan         nan\n",
      "==================================================================================\n",
      "\n",
      "Possibly complete quasi-separation: A fraction 0.52 of observations can be\n",
      "perfectly predicted. This might indicate that there is complete\n",
      "quasi-separation. In this case some parameters will not be identified.\n"
     ]
    },
    {
     "name": "stderr",
     "output_type": "stream",
     "text": [
      "/Users/carolinasanchez/opt/anaconda3/lib/python3.7/site-packages/numpy/core/fromnumeric.py:2495: FutureWarning: Method .ptp is deprecated and will be removed in a future version. Use numpy.ptp instead.\n",
      "  return ptp(axis=axis, out=out, **kwargs)\n",
      "/Users/carolinasanchez/opt/anaconda3/lib/python3.7/site-packages/statsmodels/base/model.py:512: ConvergenceWarning: Maximum Likelihood optimization failed to converge. Check mle_retvals\n",
      "  \"Check mle_retvals\", ConvergenceWarning)\n",
      "/Users/carolinasanchez/opt/anaconda3/lib/python3.7/site-packages/statsmodels/base/model.py:1286: RuntimeWarning: invalid value encountered in sqrt\n",
      "  bse_ = np.sqrt(np.diag(self.cov_params()))\n",
      "/Users/carolinasanchez/opt/anaconda3/lib/python3.7/site-packages/scipy/stats/_distn_infrastructure.py:901: RuntimeWarning: invalid value encountered in greater\n",
      "  return (a < x) & (x < b)\n",
      "/Users/carolinasanchez/opt/anaconda3/lib/python3.7/site-packages/scipy/stats/_distn_infrastructure.py:901: RuntimeWarning: invalid value encountered in less\n",
      "  return (a < x) & (x < b)\n",
      "/Users/carolinasanchez/opt/anaconda3/lib/python3.7/site-packages/scipy/stats/_distn_infrastructure.py:1892: RuntimeWarning: invalid value encountered in less_equal\n",
      "  cond2 = cond0 & (x <= _a)\n"
     ]
    }
   ],
   "source": [
    "X = Base_final[x_columns]\n",
    "Y = Base_final['y_binaria']\n",
    "X = sm.add_constant(X)\n",
    "model = sm.Logit(Y, X).fit()\n",
    "print(model.summary())"
   ]
  },
  {
   "cell_type": "code",
   "execution_count": null,
   "metadata": {},
   "outputs": [],
   "source": []
  }
 ],
 "metadata": {
  "kernelspec": {
   "display_name": "Python 3",
   "language": "python",
   "name": "python3"
  },
  "language_info": {
   "codemirror_mode": {
    "name": "ipython",
    "version": 3
   },
   "file_extension": ".py",
   "mimetype": "text/x-python",
   "name": "python",
   "nbconvert_exporter": "python",
   "pygments_lexer": "ipython3",
   "version": "3.7.4"
  }
 },
 "nbformat": 4,
 "nbformat_minor": 2
}
