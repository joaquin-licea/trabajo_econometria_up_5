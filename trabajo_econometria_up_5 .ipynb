{
 "cells": [
  {
   "cell_type": "markdown",
   "metadata": {},
   "source": [
    "<a id=\"Volver_al_inicio\"></a>"
   ]
  },
  {
   "cell_type": "markdown",
   "metadata": {},
   "source": [
    "# Proyecto Econometría II\n",
    "### **Tema**: *La probabilidad de default de deuda soberana.*\n",
    "## Objetivo del modelo:"
   ]
  },
  {
   "cell_type": "markdown",
   "metadata": {},
   "source": [
    "Estimar un modelo logit para pronosticar la probabilidad de default de la deuda soberana dadas las condiciones actuales."
   ]
  },
  {
   "cell_type": "markdown",
   "metadata": {},
   "source": [
    "# Objetivos Especificos:\n",
    "* Analizar el impago de la deuda pública a través de las variables explicativas\n",
    "* Probar y verificar si las variables explicativas son significativas con fines de pronóstico.\n",
    "* Calcular el promedio de las variables explicativas de 1985 a 2017."
   ]
  },
  {
   "cell_type": "markdown",
   "metadata": {},
   "source": [
    "## Motivación de la investigación\n",
    "Los incumplimientos soberanos impactan la estabilidad financiera mundial, afectando más a las economías emergentes y de bajos ingresos. Dichas economías no sólo tienden a experimentar altas tasas de impago, igual se caracterizan por una gran desigualdad de ingresos. El aumento de la desigualdad de los ingreso es un problema que muchos países tienen. Por lo tanto es importante comprender cómo la desigualdad induce a incumplimientos soberanos que causan grandes pérdidas durante mucho tiempo. De igual forma es de gran importancia saber si la actual pandemia causada por el COVID 19 afectará a la probabilidad de impago, provocando una crisis de deuda global. Además, podría interrumpir las negociaciones de reestructura de deuda, como es el caso de Argentina, aumentando la probabilidad de default.  Por lo tanto, conocer o pronosticar el “default” de un país es importante porque sus efectos pueden ser muy graves en el país y su población, tanto a corto como a largo plazo."
   ]
  },
  {
   "cell_type": "markdown",
   "metadata": {},
   "source": [
    "## Especificaciones del modelo."
   ]
  },
  {
   "cell_type": "markdown",
   "metadata": {},
   "source": [
    "#### Modelo:\n"
   ]
  },
  {
   "cell_type": "markdown",
   "metadata": {},
   "source": [
    "$$Y_i^t=G(\\alpha+ \\beta_1*Riesgo_ \\ país_i^t+ \\beta_2*Reservas \\ internacionales_i^t+ \\beta_3*Tasa \\ de \\ interés \\ real_i^t+ \\beta_4*Tasa \\ fiscal_i^t+ \\beta_5*Desigualdad_i^t+ \\beta_6*Producción_i^t+ \\beta_7*Tipo \\ de \\ cambio_i^t+ \\beta_8*Defaults \\ previos_i^t+ \\beta_9*Pandemia_i^t)$$\n",
    "\n",
    "$Y_i^t = 1$ si el país $i$ incurre en default en el tiempo $t$\n",
    "\n",
    "Al ser un modelo \"lineal de probabilidad\" vamos a  utilizar la función \"G\" también conocida como **_sigmoide_**, la cuál se utilizará para asignar la probabilidad de éxito o fracaso (valores 1 y 0 respectivamente), en este caso sería la probabilidad que un país incurra en default. Además la forma sigmoidea de las probabilidades logit se observa en la mayoría de los modelos de elección discreta y tiene implicaciones importantes para los reguladores y responsables de legislar."
   ]
  },
  {
   "cell_type": "markdown",
   "metadata": {},
   "source": [
    "## Justificación del modelo\n",
    "\n",
    "La deuda soberana es una obligación contractual, el incumplimiento de esta obligación contractual de pagar intereses o capital en su totalidad en la fecha de vencimiento proporciona un claro ejemplo de incumplimiento soberano. Otro ejemplo es una falla de un gobierno para honrar la deuda que ha garantizado legalmente donde hay disposiciones claras para el garante para hacer el pago a tiempo. \n",
    "\n",
    "Teniendo en cuenta esto, en 2018 la deuda global era de USD 188 billones y para finales de 2019 había aumentado a la cifra más alta historicamente que es de USD 255 billones, esto corresponde a 322% del PIB global, esto sumado a la crisis causada por el COVID-19 con la que inició el año y la recesión a nivel global, aumentan la probabilidad de impago de deuda soberana aparte del aumento de deuda que tendrán que hacer más paises. \n",
    "\n",
    "Se va a estimar la probabilidad de incumplimiento de deuda soberana basado en las variables: default, riesgo país, reservas internacionales, tasa de referencias (Tasa de interés real),  tasas fiscales, desigualdad, producción, tipo de cambio, default histórico y pandemia. \n",
    "\n",
    "### Teoría detrás de las variables\n",
    "\n",
    "**Default**: Se decidió ocupar el monto total defaulteado como nuestra variable dependiente con la finalidad de saber si el país ha incumplido o no. Con estos datos, se hará la variable dicotómica (0 = no default y 1= default).\n",
    "(Se explicará la aplicación en el apendice 1)\n",
    "\n",
    "\n",
    "1. **Riesgo país**: El riesgo soberano sería el adecuado para utilizar como variable, sin embargo al no encontrar dicha base de datos. Decidimos utilizar el riesgo país, porque el riesgo soberano es un subconjunto del riesgo país ya que sólo considera la volatilidad en las variaciones no anticipadas en los flujos de inversión pública producto de una exposición al riesgo soberano y una mayor volatilidad en las variaciones no anticipadas de la prima por riesgo soberano. Así, el riesgo país involucra a todos los agentes (públicos y privados) que financian sus inversiones con capital propio o con préstamos extranjeros. Mientras que el riesgo soberano sólo involucra la inversión pública donde su principal o único componente será siempre el sistemático. La teoría muestra que varíos economistas han introducido dicha variable en su modelo, por ejemplo, Eaton y Gersovitz reconocieron la presencia del riesgo de incumplimiento que se derivan de la ausencia de aplicación legal y concluyó que el racionamiento del crédito es el instrumento más importante para reducir el riesgo de incumplimiento. Generalmente los mercados son incompletos, lo que genera riesgo de impago , ya que es más costoso reembolsar los préstamos no condicionados en épocas en que las relaciones de intercambio son bajas, y por tanto, la producción y el consumo son bajos. La justificación de elegir la guía Internacional de Riesgo País (ICRG), es porque es una forma de estimar el riesgo país mediante la estimación de\n",
    "los índices de riesgo político, riesgo económico y riesgo financiero que influyen sobre la voluntad y capacidad de pago de los deudores en un país.\n",
    "\n",
    "\n",
    "2. **Reservas internacionales**: Las reservas internacionales nos hablan por una parte de liquidez y sirven para respaldar a la moneda nacional y como garantía del pago de las obligaciones extranjeras, lo cual ayuda a mejorar la percepción del riesgo-país y contribuye a mejorar las condiciones bajo las cuales el país accede a los mercados internacionales.\n",
    "\n",
    "\n",
    "3. **Tasa de interés real (Tasa de Referencia)**: Un aumento de la tasa de interés eleva directamente la carga financiera de la deuda y, consecuentemente, conduce al aumento de la deuda. Con base en el trabajo seminal de Domar (1944), sugiere que cuando la autoridad monetaria sigue la regla de la paridad de tasas de intereses y el déficit público es indexado a la tasa básica del Banco Central, la causalidad entre la tasa de interés y el déficit fiscal se revierte. En consecuencia, una tasa de interés más elevada se traducirá en un aumento en el pago de intereses sobre la deuda y en un déficit nominal más grande. \n",
    "En un comienzo, a medida que el país deudor aumenta su deuda externa, las tasas de interés se harán más altas y el mayor interés lo representa una prima de riesgo que compensa a los acreedores por el creciente riesgo de incumplimiento. En consecuencia, el repunte de las tasas de interés eleva el déficit al aumentar el valor de los pagos por intereses en el presupuesto. Sin embargo, el gobierno debe recaudar mayores impuestos y reducir su nivel de gastos de tal modo que cree un superávit fiscal para cubrir los intereses, por lo tanto habría default si no llegara a hacer una recaudación más alta.\n",
    "En resumen, se eligió esta variable porque puede acontecer de tres maneras:\n",
    "    1. Es posible que las altas tasas de interés generen presiones políticas para una rápida expansión de la oferta monetaria, y si la autoridad monetaria cede, pone en peligro el nuevo tipo de cambio estable;\n",
    "    2. Las altas tasas de interés pueden deteriorar la situación presupuestal, es decir puede provocar una mayor probabilidad de impago de la deuda.\n",
    "    3. Las altas tasas de interés de la deuda y una imposibilidad de pago pueden crear dificultades financieras en empresas y, por tanto estimular quiebras, desempleo y tensiones políticas.\n",
    "Por ejemplo,la razón básica de la crisis de la deuda de los países periféricos de la década de 1980 se encuentra en la explosión de tasas de interés, motivada por una política explícita del Gobierno de Estados Unidos de enjugar su déficit fiscal mediante endeudamiento; esto produjo una rápida y severa reducción en los niveles de liquidez del sistema financiero internacional, esto puede razonablemente fundamentar un default.\n",
    "\n",
    "\n",
    "4. **Tasas fiscales**: De acuerdo con Kiyoung Jeon y Zeynep Kabukcuoglu, esta variable está relacionada con la desigualdad porque cuando la economía está sujeta tanto a una desigualdad adversa como a choques de producción, la utilidad marginal del consumo de los pobres aumenta significativamente en relación con la utilidad marginal del consumo de los ricos. Esto genera una gran carga fiscal, en particular para los hogares pobres, y el gobierno opta por el incumplimiento con mayor frecuencia. Con esta variable demostraremos que a medida que la progresividad del impuesto aumenta, la probabilidad de impago disminuye.\n",
    "Por ejemplo, si Argentina impusiera un régimen fiscal tan progresivo como el de Alemania, el riesgo de impago en Argentina disminuiría alrededor de un 33%. \n",
    "Cuadra y Ramos Francia (2014) estudian la política fiscal y el riesgo de impago utilizando un modelo de agente representativo, en el que el impuesto sobre el consumo se determina de forma endógena y los ingresos se utilizan para financiar bienes públicos. Nosotros ocuparemos, la política fiscal como variable independiente para ver que tan problabe es que ocurra default.\n",
    "\n",
    "\n",
    "5. **Desigualdad**: Esta variable la incorpora  Kiyoung Jeon y Zeynep Kabukcuoglu en su artículo “Income inequality and sovereign default”, su modelo se basa en que los mercados emergentes no sólo tienden a experimentar altas tasas de impago soberano, sino que también se caracterizan por una gran desigualdad de ingresos que cambia con el tiempo y estudian cómo la desigualdad de ingresos afecta a los préstamos del gobierno y a las decisiones de incumplimiento. Ellos, comentan que tanto las perturbaciones de la producción como las de la desigualdad tienen efectos diferentes sobre las dotaciones; una perturbación adversa de la producción reduce las dotaciones de ambos tipos, pero una perturbación adversa de la desigualdad aumenta la tasa de interés, lo que crea una limitación de los préstamos para el gobierno. La conclusión de este trabajo es que las crisis de desigualdad pueden aumentar significativamente el riesgo de impago. La intuición clave, como ya mencionamos, es que cuando la economía está sujeta tanto a una desigualdad adversa como a choques de producción, la utilidad marginal del consumo de los pobres aumenta significativamente en relación con la utilidad marginal del consumo de los ricos. Esto genera una gran carga fiscal, en particular para los hogares pobres, y el gobierno opta por el incumplimiento con mayor frecuencia para eliminar la carga de la deuda. \n",
    "Al estudiar el artículo sobre la desigualdad y la deuda, concluimos que es importante incluirla al modelo para estudiar como afecta las decisiones de incumplimiento del gobierno ocasionando un default. Para la desigualdad de ingresos, utilizaremos os índices de Gini de mercado proporcionados por la Base de Datos del Banco Mundial. Se trata de un conjunto de datos de panel desequilibrado que contiene información sobre la desigualdad de 167 países que abarca desde 1960 hasta 2013.\n",
    "\n",
    "\n",
    "6. **Producción**: Eaton y Gersovitz (1981) se han centrado principalmente en los efectos de las perturbaciones de la producción en el endeudamiento del gobierno y en las decisiones sobre el incumplimiento. Todos los países que introducimos al modelo dependen en gran medida de sus productos primarios para sus ingresos de exportación, y dependen en gran medida de los bienes de capital importados y de los insumos intermedios para la producción nacional. Por lo que pensamos, que un buen indicador es la PTF (productividad total de los factores); es decir entre mejor indicador de producción tengan, menor será la probabilidad de default.\n",
    "\n",
    "\n",
    "7. **Tipo de cambio**: Las variaciones del tipo de cambio guardan una relación directa con el déficit público, en el sentido de que un incremento en el tipo de cambio invariablemente conduce al crecimiento del déficit. \n",
    "\n",
    "\n",
    "8. **Defaults previos**: Se decidió incluir esta variable porque es razonable que un país que incurrió en default previamente, tenga más probabilidad de incurrir en default nuevamente. (Se explicará la aplicación en el apéndice 1)\n",
    "\n",
    "\n",
    "9. **Pandemias**: La escala global, la velocidad y susceptibilidad de contagio de una pandemia representa un riesgo no solo a la salud pública, las estimaciones de las pérdidas en los ingresos nacionales que podrían darse como resultado de una gran epidemia o pandemia son de un nivel de preocupación e incertidumbre muy altos. \n",
    "\n"
   ]
  },
  {
   "cell_type": "markdown",
   "metadata": {},
   "source": [
    "## Descripción de bases de datos\n",
    "\n",
    "1. **Deafault**: El Grupo de Evaluación de Calificación Crediticia (CRAG) del Banco de Canadá ha desarrollado una base de datos integral de incumplimientos soberanos publicada en el sitio web del Banco de Canadá. Su base de datos se basa en conjuntos de datos publicados previamente compilados por varias fuentes del sector público y privado. Combina elementos de estos, junto con nueva información, para desarrollar estimaciones de existencias de obligaciones gubernamentales en incumplimiento, incluidos bonos y otros valores negociables, préstamos bancarios y préstamos oficiales en incumplimiento, valorados en dólares estadounidenses, para los años 1960 a 2018, tanto país por país como a nivel mundial. El dato obtenido es “el monto total defaulteado” (TOTAL) para saber si incumplió en su deuda o no.\n",
    "\n",
    "\n",
    "2. **Riesgo País**: Base de datos encontrada en Simon Faiser University library (free) \"ICRG Researchers Dataset. Political risk points by component. Table 3B\". La guía Internacional de Riesgo País (ICRG), es publicada por el Grupo PRS (Servicio de Riesgo Político), el ICRG es \"una de las mejores fuentes comerciales mundiales de análisis y calificaciones de riesgo país\".                                       \n",
    "    *Fuente*: [tabla 3B, Puntos de riesgo político por componente](https://sfu-primo.hosted.exlibrisgroup.com/primo-explore/fulldisplay?docid=01SFUL_ALMA21148165550003611&context=L&vid=SFUL&search_scope=default_scope&tab=default_tab&lang=en_US)\n",
    "    \n",
    "    Una parte sustancial del análisis de ERP del riesgo general de cada país es su evaluación de la estabilidad política de los países cubiertos. Esta tabla proporciona esos datos anualmente para aproximadamente 140 países, lo que permite una fácil comparación entre años o entre países.\n",
    "\n",
    "3. **Reservas internacionales**: Total de reservas (incluye oro, USD a precios actuales)El total de reservas comprenden las tenencias de oro monetario, derechos especiales de giro, reservas de los miembros del FMI que mantiene el FMI y tenencias de divisas bajo el control de autoridades monetarias. El componente de oro de estas reservas se \n",
    "valora a los precios de fin de año (31 de diciembre) de Londres. Datos en US$ a precios actuales.          \n",
    "    *Fuente*: [Banco Mundial](https://datos.bancomundial.org/indicator/FI.RES.TOTL.CD)\n",
    "    \n",
    "    \n",
    "4. **Tasa de interés real (Tasa de referencia)**: Es la rentabilidad nominal o tasa de interés de un activo descontando la pérdida de valor del dinero a causa de la inflación.                        \n",
    "    *Fuente*: [Banco Mundial](https://datos.bancomundial.org/indicator/FR.INR.RINR)\n",
    "    \n",
    "    \n",
    "5. **Tasa fiscal/régimen fiscal**: Se proponen **dos** datos:\n",
    "**_Tasa tributaria total_** (% de utilidades comerciales) del banco mundial: La tasa tributaria total mide el monto de impuestos y contribuciones obligatorias que pagan las empresas después de justificar las exenciones y deducciones permitidas como porción de las utilidades comerciales. Se excluyen los impuestos retenidos (como impuesto al ingreso personal) o cobrados y remitidos a autoridades fiscales (como impuestos al valor agregado, impuestos a las ventas o impuestos a los bienes y servicios). Sin embargo, solo hay datos desde 2015.\n",
    "    *Fuente*: [Banco Mundial](https://datos.bancomundial.org/indicador/IC.TAX.TOTL.CP.ZS?view=chart)                   \n",
    "    _Tax Revenue as % of GDP de la OECD_: Se muestra el total de ingresos que anualmente recibe el gobierno federal respecto al tamaño total de la economía. Tales ingresos están compuestos por ingresos tributarios (impuestos), ingresos petroleros e ingresos no tributarios no petroleros.                          \n",
    "    *Fuente*: [OECD](https://stats.oecd.org/Index.aspx?DataSetCode=RS_GBL)\n",
    "    \n",
    "    \n",
    "6. **Desigualdad**: *Índice de Gini del Banco Mundial*: Es una medida económica que sirve para calcular la desigualdad de ingresos que existe entre los ciudadanos de un territorio, normalmente de un país.          \n",
    "    *Fuente*: [Banco Mundial](https://datos.bancomundial.org/indicador/SI.POV.GINI)                           \n",
    "*Economic Inequality*: Es la distribución desigual de ingresos entre diferentes grupos de la sociedad. El indicador considera no solo la desigualdad real, sino también algunas percepciones de la desigualdad, reconociendo que las percepciones de la desigualdad económica pueden alimentar el agravio tanto como la desigualdad real, y pueden reforzar las tensiones comunales o la retórica nacionalista.                                \n",
    "    *Fuente*: [Fragile States Index](https://fragilestatesindex.org/excel/)\n",
    "    \n",
    "    \n",
    "7. **Productivo**: *CTFP level at current PPPs (USA=1) de la PWT91*: Informa los niveles de productividad total de factores (PTF) a tasas de paridad de poder adquisitivo (PPA) constantes en relación con los EE. UU. En términos de los precios en ese período(es decir, precios actuales). PTF es la parte de la producción que no se explica por la cantidad de insumos utilizados en la producción.                                       \n",
    "    *Fuente*: [Penn World Table 9.1](https://www.rug.nl/ggdc/productivity/pwt/)\n",
    "\n",
    "\n",
    "8. **Tipo de cambio**: *Tasa de cambio oficial (UMN por US$, promedio para un período)*: El tipo de cambio oficial se refiere al tipo de cambio determinado por las autoridades nacionales o al tipo de cambio determinado en el mercado cambiario autorizado legalmente. Se calcula como un promedio anual basado en los promedios mensuales (unidades de moneda local en relación con el dólar de los Estados Unidos).                          \n",
    "    *Fuente*: [Banco Mundial](https://datos.bancomundial.org/indicador/PA.NUS.FCRF)\n",
    "\n",
    "\n",
    "9. **Defaults previos**: Elaboración propia con la base de datos CRAG del banco de Canadá.\n",
    "\n",
    "\n",
    "10. **Pandemias**: Elaboración propia con datos de la OMS y CDC donde se agrupan datos de distintas pandemias y se clasificarán las muertes por cada *100,000 casos\n",
    "   *Fuente*: [OMS](https://www.who.int/csr/don/archive/year/es/),[OMS](https://www.who.int/csr/don/2010_08_06/en/)\n",
    "\n",
    "\n",
    "\n",
    "**Tamaño (n)**: 145 países de 1985-2017"
   ]
  },
  {
   "cell_type": "markdown",
   "metadata": {},
   "source": [
    "### Literatura\n",
    "   Cuadra, G., & Sapriza, H. (2006). Sovereign Default, **Terms of Trade and Interest Rates in Emerging Markets.** *Banco de México*. \n",
    "   \n",
    "   Andritzky, J. (2006). **Sovereign Default Risk Valuation.** *Bielefeld, Germany: A. Basile, A. Drexl, H. Dawid, K. Inderfurth, W. Kürsten, U. Schittko.*\n",
    "    \n",
    "   Fuenzalida, D., Mongrut, S., & Nash, M. (2005). **RIESGO PAÍS Y RIESGO SOBERANO: CONCEPTO Y MEDICIÓN.** *Revista Mexicana de Economía y Finanzas*, 347-367.\n",
    "   \n",
    "   Gumus, I., & Junko, K. (July 2018). **Model-Based Estimation of Sovereign Default.**\n",
    "    Hernandez-Trillo, F. (1994). **A model-based estimation of the probability of default in sovereign credit markets**. *ELSEVIER, JOURNAL OF Development ECONOMICS*.\n",
    "   \n",
    "   Jeon, K., & Kabukcuoglu, Z. (2018). **Income inequality and sovereign default.** *ELSEVIER, Journal of Economic Dynamics & Control*.\n",
    "  \n",
    "   Journal of Banking Regulation. (2019). **Sovereign debt defaults: Paradigms and challenges**. *Guest Editorial, 91-94*.\n",
    "   \n",
    "   Kaas, L., Mellert, J., & Scholl, A. (2020). **Sovereign and private default risks over the business cycle.** ELSEVIER, *Journal of International Economics.*\n",
    "   \n",
    "   Salas, G. (s.f.). **LA DEUDA PÚBLICA Y SUS IMPLICACIONES. UN MODELO.** *Investigador de la CGR y Profesor del Departamento de Historia de la Universidad Nacional*.\n",
    "  \n",
    "   Trillo, F. H., & Villagómez, A. A. (2000). **La Estructura de la Deuda Pública en México: Lecciones y Perspectivas. Inter-American Development Bank**, *Latin American Research Network.*"
   ]
  },
  {
   "cell_type": "markdown",
   "metadata": {},
   "source": [
    "## Apéndice"
   ]
  },
  {
   "cell_type": "markdown",
   "metadata": {},
   "source": [
    "Apéndice 1:\n",
    "![Apendice](img/Apendice.png)\n",
    "\n",
    "Explicación:\n",
    "1. No se considera los años durante los que el país siguió en default. Solo se considera el primer año.\n",
    "2. Agregar una variable de control importante: el número de defaults previos.\n",
    "3. Calcular el promedio de todas las X:\n",
    "    a. De los países que sí han tenido default calcular el promedio de X durante el período previo al default. \n",
    "    b. De los países que nunca han tenido un default, calcular el promedio de X durante todo el período (1985 a 2017). \n",
    "4. Necesitamos el promedio de las X para tener un solo valor por cada país y por cada característica.  \n",
    "    a. La idea es armar una base cross-sectional. \n",
    "    b. El promedio de X te resume las condiciones económicas del país antes del default.\n",
    "5. Solo se promedian variables que no tienen tendencia. \n",
    "    a. Si alguna variable tiene tendencia (por ejemplo, riesgo país, tasa de interés real, tasa fiscal, tasa de cambio) conviene calcular la tasa de crecimiento y promediar la tasa.\n"
   ]
  },
  {
   "cell_type": "markdown",
   "metadata": {},
   "source": [
    "### Posibles extensiones\n",
    "\n",
    "El modelo podría extenderse e incluir la variable del petroléo ya que es un factor determinante de ingreso para muchos paises. Se reevaluarán las variables en la práctica para hacer ajustes en el modelo y que tenga los mejores predictores. El modelo así mismo podría extenderse en cuanto al tamaño (n) con la probabilidad de quitar algunas variables o agregar otras, esto con el fin de abarcar más años y tener una predicción más acertada."
   ]
  },
  {
   "cell_type": "markdown",
   "metadata": {},
   "source": [
    "[Volver arriba](#Volver_al_inicio)"
   ]
  }
 ],
 "metadata": {
  "kernelspec": {
   "display_name": "Python 3",
   "language": "python",
   "name": "python3"
  },
  "language_info": {
   "codemirror_mode": {
    "name": "ipython",
    "version": 3
   },
   "file_extension": ".py",
   "mimetype": "text/x-python",
   "name": "python",
   "nbconvert_exporter": "python",
   "pygments_lexer": "ipython3",
   "version": "3.7.4"
  }
 },
 "nbformat": 4,
 "nbformat_minor": 2
}
