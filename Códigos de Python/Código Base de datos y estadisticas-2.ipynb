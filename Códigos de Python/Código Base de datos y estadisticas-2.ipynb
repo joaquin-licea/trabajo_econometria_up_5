{
 "cells": [
  {
   "cell_type": "markdown",
   "metadata": {},
   "source": [
    "# Construcción de la base de datos"
   ]
  },
  {
   "cell_type": "markdown",
   "metadata": {},
   "source": [
    "### 1) *Importar los datos*"
   ]
  },
  {
   "cell_type": "code",
   "execution_count": 1,
   "metadata": {},
   "outputs": [],
   "source": [
    "import wbdata"
   ]
  },
  {
   "cell_type": "code",
   "execution_count": 2,
   "metadata": {},
   "outputs": [],
   "source": [
    "wb_regions = ['Arab World', 'Caribbean small states',\n",
    "              'Central Europe and the Baltics', 'Early-demographic dividend',\n",
    "              'East Asia & Pacific', 'East Asia & Pacific (excluding high income)',\n",
    "              'East Asia & Pacific (IDA & IBRD countries)',\n",
    "              'Euro area', 'Europe & Central Asia',\n",
    "              'Europe & Central Asia (excluding high income)',\n",
    "              'Europe & Central Asia (IDA & IBRD countries)',\n",
    "              'European Union',\n",
    "              'Fragile and conflict affected situations',\n",
    "              'Heavily indebted poor countries (HIPC)',\n",
    "              'High income',\n",
    "              'IBRD only',\n",
    "              'IDA & IBRD total',\n",
    "              'IDA blend',\n",
    "              'IDA only',\n",
    "              'IDA total',\n",
    "              'Late-demographic dividend',\n",
    "              'Latin America & Caribbean',\n",
    "              'Latin America & Caribbean (excluding high income)',\n",
    "              'Latin America & the Caribbean (IDA & IBRD countries)',\n",
    "              'Least developed countries',\n",
    "              'Least developed countries: UN classification',\n",
    "              'Low & middle income',\n",
    "              'Low income',\n",
    "              'Lower middle income',\n",
    "              'Middle East & North Africa',\n",
    "              'Middle East & North Africa (excluding high income)',\n",
    "              'Middle East & North Africa (IDA & IBRD countries)',\n",
    "              'Middle income',\n",
    "              'North America',\n",
    "              'Not classified',\n",
    "              'OECD members',\n",
    "              'Other small states',\n",
    "              'Pacific island small states',\n",
    "              'Post-demographic dividend',\n",
    "              'Pre-demographic dividend',\n",
    "              'Small states',\n",
    "              'South Asia',\n",
    "              'South Asia (IDA & IBRD)',\n",
    "              'Sub-Saharan Africa',\n",
    "              'Sub-Saharan Africa (excluding high income)',\n",
    "              'Sub-Saharan Africa (IDA & IBRD countries)',\n",
    "              'Upper middle income',\n",
    "              'World']"
   ]
  },
  {
   "cell_type": "code",
   "execution_count": 3,
   "metadata": {},
   "outputs": [],
   "source": [
    "import matplotlib.pyplot as plt\n",
    "plt.style.use('ggplot')\n",
    "import pandas as pd\n",
    "import numpy as np\n",
    "import statsmodels.api as sm"
   ]
  },
  {
   "cell_type": "markdown",
   "metadata": {},
   "source": [
    "### 2) *Definir  y limpiar las Variables*"
   ]
  },
  {
   "cell_type": "code",
   "execution_count": 4,
   "metadata": {},
   "outputs": [],
   "source": [
    "Governmentdebt_raw = wbdata.get_data(\"GC.DOD.TOTL.GD.ZS\")"
   ]
  },
  {
   "cell_type": "code",
   "execution_count": 5,
   "metadata": {},
   "outputs": [],
   "source": [
    "Inflation_raw = wbdata.get_data(\"FP.CPI.TOTL.ZG\")"
   ]
  },
  {
   "cell_type": "code",
   "execution_count": 6,
   "metadata": {},
   "outputs": [],
   "source": [
    "Expense_raw = wbdata.get_data(\"GC.XPN.TOTL.GD.ZS\")"
   ]
  },
  {
   "cell_type": "code",
   "execution_count": 7,
   "metadata": {},
   "outputs": [],
   "source": [
    "Tax_raw = wbdata.get_data(\"GC.TAX.TOTL.GD.ZS\")"
   ]
  },
  {
   "cell_type": "code",
   "execution_count": 8,
   "metadata": {},
   "outputs": [],
   "source": [
    "Reserves_raw = wbdata.get_data(\"FI.RES.TOTL.CD\")"
   ]
  },
  {
   "cell_type": "code",
   "execution_count": 9,
   "metadata": {},
   "outputs": [],
   "source": [
    "Officialexchange_raw = wbdata.get_data(\"PA.NUS.FCRF\")"
   ]
  },
  {
   "cell_type": "code",
   "execution_count": 10,
   "metadata": {},
   "outputs": [],
   "source": [
    "Interestrate_raw = wbdata.get_data(\"FR.INR.RINR\")"
   ]
  },
  {
   "cell_type": "code",
   "execution_count": 11,
   "metadata": {},
   "outputs": [],
   "source": [
    "Unemployment_raw = wbdata.get_data(\"SL.UEM.TOTL.ZS\")"
   ]
  },
  {
   "cell_type": "code",
   "execution_count": 12,
   "metadata": {},
   "outputs": [],
   "source": [
    "def wb_clean_year_data(wb_raw, year):\n",
    "    rv = {}\n",
    "    for X in wb_raw:\n",
    "        date = X['date']\n",
    "        country = X['country']['value']\n",
    "        if date == year and country not in wb_regions:\n",
    "            try:\n",
    "                value = float(X['value'])\n",
    "                rv[country] = value\n",
    "            except:\n",
    "                pass\n",
    "    return rv"
   ]
  },
  {
   "cell_type": "code",
   "execution_count": 13,
   "metadata": {},
   "outputs": [],
   "source": [
    "def wb_dict_to_dataframe(dict_clean, nombre_variable, año):\n",
    "    df = pd.DataFrame({'pais': list(dict_clean.keys()),\n",
    "                       nombre_variable: list(dict_clean.values()),\n",
    "                       'año': [año] * len(dict_clean)})\n",
    "    return df"
   ]
  },
  {
   "cell_type": "markdown",
   "metadata": {},
   "source": [
    "### 3) *Obtenemos las variables limpias*"
   ]
  },
  {
   "cell_type": "code",
   "execution_count": 14,
   "metadata": {},
   "outputs": [],
   "source": [
    "variables=['GC.DOD.TOTL.GD.ZS','FP.CPI.TOTL.ZG','GC.XPN.TOTL.GD.ZS','GC.TAX.TOTL.GD.ZS','FI.RES.TOTL.CD','PA.NUS.FCRF','FR.INR.RINR','SL.UEM.TOTL.ZS']"
   ]
  },
  {
   "cell_type": "code",
   "execution_count": 15,
   "metadata": {},
   "outputs": [],
   "source": [
    "Governmentdebt_raw = wbdata.get_data(\"GC.DOD.TOTL.GD.ZS\")\n",
    "Inflation_raw = wbdata.get_data(\"FP.CPI.TOTL.ZG\")\n",
    "Expense_raw = wbdata.get_data(\"GC.XPN.TOTL.GD.ZS\")\n",
    "Tax_raw = wbdata.get_data(\"GC.TAX.TOTL.GD.ZS\")\n",
    "Reserves_raw = wbdata.get_data(\"FI.RES.TOTL.CD\")\n",
    "Officialexchange_raw = wbdata.get_data(\"PA.NUS.FCRF\")\n",
    "Interestrate_raw = wbdata.get_data(\"FR.INR.RINR\")\n",
    "Unemployment_raw = wbdata.get_data(\"SL.UEM.TOTL.ZS\")"
   ]
  },
  {
   "cell_type": "code",
   "execution_count": 16,
   "metadata": {},
   "outputs": [],
   "source": [
    "raw_lists = {'Deuda': Governmentdebt_raw,\n",
    "             'Inflacion': Inflation_raw,\n",
    "             'Gasto público': Expense_raw,\n",
    "             'Tasa fiscal': Tax_raw,\n",
    "             'Reservas':Reserves_raw,\n",
    "             'Tipo de cambio':Officialexchange_raw,\n",
    "             'Tasa de interes':Interestrate_raw,}\n",
    "            "
   ]
  },
  {
   "cell_type": "code",
   "execution_count": 17,
   "metadata": {},
   "outputs": [],
   "source": [
    "for año in range(1989, 2011):\n",
    "    dfs_año = []\n",
    "    for k, v in raw_lists.items():\n",
    "        v_clean = wb_clean_year_data(v, str(año))\n",
    "        df = wb_dict_to_dataframe(v_clean, k, str(año))\n",
    "        dfs_año.append(df)\n",
    "    if año == 1989:\n",
    "        for i, df in enumerate(dfs_año):\n",
    "            if i == 0:\n",
    "                df_año = df.merge(dfs_año[i + 1], on=['pais', 'año'])\n",
    "            else:\n",
    "                try:\n",
    "                    df_año = df_año.merge(dfs_año[i + 1], on=['pais', 'año'])\n",
    "                except:\n",
    "                    pass\n",
    "    else:\n",
    "        for i, df in enumerate(dfs_año):\n",
    "            if i == 0:\n",
    "                df_otros_años = df.merge(dfs_año[i + 1], on=['pais', 'año'])\n",
    "            else:\n",
    "                try:\n",
    "                    df_otros_años = df_otros_años.merge(dfs_año[i + 1], on=['pais', 'año'])\n",
    "                except:\n",
    "                    pass\n",
    "        df_año = df_año.append(df_otros_años, ignore_index=True,)"
   ]
  },
  {
   "cell_type": "code",
   "execution_count": 18,
   "metadata": {},
   "outputs": [
    {
     "data": {
      "text/plain": [
       "array(['1989', '1990', '1991', '1992', '1993', '1994', '1995', '1996',\n",
       "       '1997', '1998', '1999', '2000', '2001', '2002', '2003', '2004',\n",
       "       '2005', '2006', '2007', '2008', '2009', '2010'], dtype=object)"
      ]
     },
     "execution_count": 18,
     "metadata": {},
     "output_type": "execute_result"
    }
   ],
   "source": [
    "df_año['año'].unique()"
   ]
  },
  {
   "cell_type": "code",
   "execution_count": 19,
   "metadata": {},
   "outputs": [
    {
     "data": {
      "text/plain": [
       "United States          22\n",
       "Singapore              21\n",
       "Jamaica                21\n",
       "United Kingdom         21\n",
       "Australia              21\n",
       "                       ..\n",
       "Czech Republic          2\n",
       "Trinidad and Tobago     2\n",
       "Italy                   2\n",
       "Zambia                  1\n",
       "Egypt, Arab Rep.        1\n",
       "Name: pais, Length: 63, dtype: int64"
      ]
     },
     "execution_count": 19,
     "metadata": {},
     "output_type": "execute_result"
    }
   ],
   "source": [
    "df_año ['pais'].value_counts()"
   ]
  },
  {
   "cell_type": "markdown",
   "metadata": {},
   "source": [
    "### 4) *Balanceamos la base de datos*"
   ]
  },
  {
   "cell_type": "code",
   "execution_count": 20,
   "metadata": {},
   "outputs": [],
   "source": [
    "paises_buenos = []\n",
    "for country, counts in dict(df_año['pais'].value_counts()).items():\n",
    "    if counts >= 21:\n",
    "        paises_buenos.append(country)"
   ]
  },
  {
   "cell_type": "code",
   "execution_count": 21,
   "metadata": {},
   "outputs": [],
   "source": [
    "df_año_paises_buenos = df_año.loc[df_año['pais'].isin(paises_buenos)]"
   ]
  },
  {
   "cell_type": "code",
   "execution_count": 22,
   "metadata": {},
   "outputs": [],
   "source": [
    "df_año_paises_buenos = df_año_paises_buenos.loc[df_año_paises_buenos['año']!=\"1989\"]"
   ]
  },
  {
   "cell_type": "code",
   "execution_count": 23,
   "metadata": {},
   "outputs": [
    {
     "data": {
      "text/plain": [
       "Singapore         21\n",
       "India             21\n",
       "Australia         21\n",
       "Iceland           21\n",
       "United States     21\n",
       "Mauritius         21\n",
       "Bhutan            21\n",
       "Jamaica           21\n",
       "United Kingdom    21\n",
       "Name: pais, dtype: int64"
      ]
     },
     "execution_count": 23,
     "metadata": {},
     "output_type": "execute_result"
    }
   ],
   "source": [
    "df_año_paises_buenos ['pais'].value_counts()"
   ]
  },
  {
   "cell_type": "code",
   "execution_count": 24,
   "metadata": {},
   "outputs": [
    {
     "data": {
      "text/html": [
       "<div>\n",
       "<style scoped>\n",
       "    .dataframe tbody tr th:only-of-type {\n",
       "        vertical-align: middle;\n",
       "    }\n",
       "\n",
       "    .dataframe tbody tr th {\n",
       "        vertical-align: top;\n",
       "    }\n",
       "\n",
       "    .dataframe thead th {\n",
       "        text-align: right;\n",
       "    }\n",
       "</style>\n",
       "<table border=\"1\" class=\"dataframe\">\n",
       "  <thead>\n",
       "    <tr style=\"text-align: right;\">\n",
       "      <th></th>\n",
       "      <th>pais</th>\n",
       "      <th>Deuda</th>\n",
       "      <th>año</th>\n",
       "      <th>Inflacion</th>\n",
       "      <th>Gasto público</th>\n",
       "      <th>Tasa fiscal</th>\n",
       "      <th>Reservas</th>\n",
       "      <th>Tipo de cambio</th>\n",
       "      <th>Tasa de interes</th>\n",
       "    </tr>\n",
       "  </thead>\n",
       "  <tbody>\n",
       "    <tr>\n",
       "      <td>1</td>\n",
       "      <td>Australia</td>\n",
       "      <td>12.253160</td>\n",
       "      <td>1990</td>\n",
       "      <td>7.333022</td>\n",
       "      <td>21.861559</td>\n",
       "      <td>22.476879</td>\n",
       "      <td>1.931874e+10</td>\n",
       "      <td>1.281057</td>\n",
       "      <td>9.669791</td>\n",
       "    </tr>\n",
       "    <tr>\n",
       "      <td>4</td>\n",
       "      <td>Bhutan</td>\n",
       "      <td>51.188019</td>\n",
       "      <td>1990</td>\n",
       "      <td>10.000000</td>\n",
       "      <td>20.557124</td>\n",
       "      <td>4.413943</td>\n",
       "      <td>8.883421e+07</td>\n",
       "      <td>17.505325</td>\n",
       "      <td>8.789378</td>\n",
       "    </tr>\n",
       "    <tr>\n",
       "      <td>7</td>\n",
       "      <td>Iceland</td>\n",
       "      <td>29.869468</td>\n",
       "      <td>1990</td>\n",
       "      <td>15.510722</td>\n",
       "      <td>29.377902</td>\n",
       "      <td>23.472225</td>\n",
       "      <td>4.549824e+08</td>\n",
       "      <td>58.283775</td>\n",
       "      <td>0.878499</td>\n",
       "    </tr>\n",
       "    <tr>\n",
       "      <td>8</td>\n",
       "      <td>India</td>\n",
       "      <td>50.783254</td>\n",
       "      <td>1990</td>\n",
       "      <td>8.971233</td>\n",
       "      <td>15.484217</td>\n",
       "      <td>9.993591</td>\n",
       "      <td>5.637446e+09</td>\n",
       "      <td>17.503500</td>\n",
       "      <td>5.269527</td>\n",
       "    </tr>\n",
       "    <tr>\n",
       "      <td>10</td>\n",
       "      <td>Jamaica</td>\n",
       "      <td>138.741328</td>\n",
       "      <td>1990</td>\n",
       "      <td>21.960175</td>\n",
       "      <td>22.642856</td>\n",
       "      <td>23.486431</td>\n",
       "      <td>1.681553e+08</td>\n",
       "      <td>7.184025</td>\n",
       "      <td>4.302951</td>\n",
       "    </tr>\n",
       "    <tr>\n",
       "      <td>...</td>\n",
       "      <td>...</td>\n",
       "      <td>...</td>\n",
       "      <td>...</td>\n",
       "      <td>...</td>\n",
       "      <td>...</td>\n",
       "      <td>...</td>\n",
       "      <td>...</td>\n",
       "      <td>...</td>\n",
       "      <td>...</td>\n",
       "    </tr>\n",
       "    <tr>\n",
       "      <td>284</td>\n",
       "      <td>Mauritius</td>\n",
       "      <td>32.117443</td>\n",
       "      <td>2000</td>\n",
       "      <td>4.199288</td>\n",
       "      <td>20.092293</td>\n",
       "      <td>16.953664</td>\n",
       "      <td>9.143661e+08</td>\n",
       "      <td>26.249558</td>\n",
       "      <td>16.788430</td>\n",
       "    </tr>\n",
       "    <tr>\n",
       "      <td>291</td>\n",
       "      <td>Singapore</td>\n",
       "      <td>83.842292</td>\n",
       "      <td>2000</td>\n",
       "      <td>1.361624</td>\n",
       "      <td>15.716732</td>\n",
       "      <td>14.855789</td>\n",
       "      <td>8.108498e+10</td>\n",
       "      <td>1.723963</td>\n",
       "      <td>1.897404</td>\n",
       "    </tr>\n",
       "    <tr>\n",
       "      <td>297</td>\n",
       "      <td>United Kingdom</td>\n",
       "      <td>42.607454</td>\n",
       "      <td>2000</td>\n",
       "      <td>1.182956</td>\n",
       "      <td>32.251054</td>\n",
       "      <td>26.072901</td>\n",
       "      <td>5.093939e+10</td>\n",
       "      <td>0.660931</td>\n",
       "      <td>4.028270</td>\n",
       "    </tr>\n",
       "    <tr>\n",
       "      <td>298</td>\n",
       "      <td>United States</td>\n",
       "      <td>33.263120</td>\n",
       "      <td>2000</td>\n",
       "      <td>3.376857</td>\n",
       "      <td>17.924094</td>\n",
       "      <td>12.969032</td>\n",
       "      <td>1.283995e+11</td>\n",
       "      <td>1.000000</td>\n",
       "      <td>6.844844</td>\n",
       "    </tr>\n",
       "    <tr>\n",
       "      <td>299</td>\n",
       "      <td>Australia</td>\n",
       "      <td>0.027813</td>\n",
       "      <td>2001</td>\n",
       "      <td>4.407135</td>\n",
       "      <td>26.264917</td>\n",
       "      <td>24.940218</td>\n",
       "      <td>1.866398e+10</td>\n",
       "      <td>1.933442</td>\n",
       "      <td>2.122769</td>\n",
       "    </tr>\n",
       "  </tbody>\n",
       "</table>\n",
       "<p>100 rows × 9 columns</p>\n",
       "</div>"
      ],
      "text/plain": [
       "               pais       Deuda   año  Inflacion  Gasto público  Tasa fiscal  \\\n",
       "1         Australia   12.253160  1990   7.333022      21.861559    22.476879   \n",
       "4            Bhutan   51.188019  1990  10.000000      20.557124     4.413943   \n",
       "7           Iceland   29.869468  1990  15.510722      29.377902    23.472225   \n",
       "8             India   50.783254  1990   8.971233      15.484217     9.993591   \n",
       "10          Jamaica  138.741328  1990  21.960175      22.642856    23.486431   \n",
       "..              ...         ...   ...        ...            ...          ...   \n",
       "284       Mauritius   32.117443  2000   4.199288      20.092293    16.953664   \n",
       "291       Singapore   83.842292  2000   1.361624      15.716732    14.855789   \n",
       "297  United Kingdom   42.607454  2000   1.182956      32.251054    26.072901   \n",
       "298   United States   33.263120  2000   3.376857      17.924094    12.969032   \n",
       "299       Australia    0.027813  2001   4.407135      26.264917    24.940218   \n",
       "\n",
       "         Reservas  Tipo de cambio  Tasa de interes  \n",
       "1    1.931874e+10        1.281057         9.669791  \n",
       "4    8.883421e+07       17.505325         8.789378  \n",
       "7    4.549824e+08       58.283775         0.878499  \n",
       "8    5.637446e+09       17.503500         5.269527  \n",
       "10   1.681553e+08        7.184025         4.302951  \n",
       "..            ...             ...              ...  \n",
       "284  9.143661e+08       26.249558        16.788430  \n",
       "291  8.108498e+10        1.723963         1.897404  \n",
       "297  5.093939e+10        0.660931         4.028270  \n",
       "298  1.283995e+11        1.000000         6.844844  \n",
       "299  1.866398e+10        1.933442         2.122769  \n",
       "\n",
       "[100 rows x 9 columns]"
      ]
     },
     "execution_count": 24,
     "metadata": {},
     "output_type": "execute_result"
    }
   ],
   "source": [
    "df_año_paises_buenos.head(100)"
   ]
  },
  {
   "cell_type": "code",
   "execution_count": 25,
   "metadata": {},
   "outputs": [],
   "source": [
    "df_año_paises_buenos.to_excel('base_final.xlsx')"
   ]
  },
  {
   "cell_type": "markdown",
   "metadata": {},
   "source": [
    "### 5) *Agregamos la variable dummy*"
   ]
  },
  {
   "cell_type": "code",
   "execution_count": 26,
   "metadata": {},
   "outputs": [],
   "source": [
    "Base_final = pd.read_excel('/Users/joaco/Downloads/trabajo_econometria_up_5-master 4/base_final_1.xlsx')"
   ]
  },
  {
   "cell_type": "code",
   "execution_count": 27,
   "metadata": {
    "scrolled": true
   },
   "outputs": [
    {
     "data": {
      "text/html": [
       "<div>\n",
       "<style scoped>\n",
       "    .dataframe tbody tr th:only-of-type {\n",
       "        vertical-align: middle;\n",
       "    }\n",
       "\n",
       "    .dataframe tbody tr th {\n",
       "        vertical-align: top;\n",
       "    }\n",
       "\n",
       "    .dataframe thead th {\n",
       "        text-align: right;\n",
       "    }\n",
       "</style>\n",
       "<table border=\"1\" class=\"dataframe\">\n",
       "  <thead>\n",
       "    <tr style=\"text-align: right;\">\n",
       "      <th></th>\n",
       "      <th>Pais</th>\n",
       "      <th>Año</th>\n",
       "      <th>Deuda</th>\n",
       "      <th>Inflacion</th>\n",
       "      <th>Gasto_público</th>\n",
       "      <th>Tasa_fiscal</th>\n",
       "      <th>Reservas</th>\n",
       "      <th>Tipo_de_cambio</th>\n",
       "      <th>Defaults_prev</th>\n",
       "      <th>Default_previo_c_t (3 años)</th>\n",
       "    </tr>\n",
       "  </thead>\n",
       "  <tbody>\n",
       "    <tr>\n",
       "      <td>0</td>\n",
       "      <td>Australia</td>\n",
       "      <td>1990</td>\n",
       "      <td>12.253160</td>\n",
       "      <td>7.333022</td>\n",
       "      <td>21.861559</td>\n",
       "      <td>22.476879</td>\n",
       "      <td>1.931874e+10</td>\n",
       "      <td>1.281057</td>\n",
       "      <td>0</td>\n",
       "      <td>0</td>\n",
       "    </tr>\n",
       "    <tr>\n",
       "      <td>1</td>\n",
       "      <td>Bhutan</td>\n",
       "      <td>1990</td>\n",
       "      <td>51.188019</td>\n",
       "      <td>10.000000</td>\n",
       "      <td>20.557124</td>\n",
       "      <td>4.413943</td>\n",
       "      <td>8.883421e+07</td>\n",
       "      <td>17.505325</td>\n",
       "      <td>1</td>\n",
       "      <td>0</td>\n",
       "    </tr>\n",
       "    <tr>\n",
       "      <td>2</td>\n",
       "      <td>Guatemala</td>\n",
       "      <td>1990</td>\n",
       "      <td>24.480685</td>\n",
       "      <td>41.221867</td>\n",
       "      <td>9.131265</td>\n",
       "      <td>6.865212</td>\n",
       "      <td>3.618105e+08</td>\n",
       "      <td>4.485758</td>\n",
       "      <td>1</td>\n",
       "      <td>1</td>\n",
       "    </tr>\n",
       "    <tr>\n",
       "      <td>3</td>\n",
       "      <td>Iceland</td>\n",
       "      <td>1990</td>\n",
       "      <td>29.869468</td>\n",
       "      <td>15.510722</td>\n",
       "      <td>29.377902</td>\n",
       "      <td>23.472225</td>\n",
       "      <td>4.549824e+08</td>\n",
       "      <td>58.283775</td>\n",
       "      <td>0</td>\n",
       "      <td>0</td>\n",
       "    </tr>\n",
       "    <tr>\n",
       "      <td>4</td>\n",
       "      <td>India</td>\n",
       "      <td>1990</td>\n",
       "      <td>50.783254</td>\n",
       "      <td>8.971233</td>\n",
       "      <td>15.484217</td>\n",
       "      <td>9.993591</td>\n",
       "      <td>5.637446e+09</td>\n",
       "      <td>17.503500</td>\n",
       "      <td>0</td>\n",
       "      <td>0</td>\n",
       "    </tr>\n",
       "    <tr>\n",
       "      <td>...</td>\n",
       "      <td>...</td>\n",
       "      <td>...</td>\n",
       "      <td>...</td>\n",
       "      <td>...</td>\n",
       "      <td>...</td>\n",
       "      <td>...</td>\n",
       "      <td>...</td>\n",
       "      <td>...</td>\n",
       "      <td>...</td>\n",
       "      <td>...</td>\n",
       "    </tr>\n",
       "    <tr>\n",
       "      <td>95</td>\n",
       "      <td>Tunisia</td>\n",
       "      <td>1996</td>\n",
       "      <td>55.296518</td>\n",
       "      <td>3.725145</td>\n",
       "      <td>28.016448</td>\n",
       "      <td>19.837619</td>\n",
       "      <td>1.977688e+09</td>\n",
       "      <td>0.973408</td>\n",
       "      <td>1</td>\n",
       "      <td>1</td>\n",
       "    </tr>\n",
       "    <tr>\n",
       "      <td>96</td>\n",
       "      <td>United Kingdom</td>\n",
       "      <td>1996</td>\n",
       "      <td>43.628347</td>\n",
       "      <td>2.851782</td>\n",
       "      <td>33.857007</td>\n",
       "      <td>23.134875</td>\n",
       "      <td>4.670002e+10</td>\n",
       "      <td>0.640958</td>\n",
       "      <td>0</td>\n",
       "      <td>0</td>\n",
       "    </tr>\n",
       "    <tr>\n",
       "      <td>97</td>\n",
       "      <td>United States</td>\n",
       "      <td>1996</td>\n",
       "      <td>46.741769</td>\n",
       "      <td>2.931204</td>\n",
       "      <td>20.005396</td>\n",
       "      <td>11.373915</td>\n",
       "      <td>1.606602e+11</td>\n",
       "      <td>1.000000</td>\n",
       "      <td>0</td>\n",
       "      <td>0</td>\n",
       "    </tr>\n",
       "    <tr>\n",
       "      <td>98</td>\n",
       "      <td>Australia</td>\n",
       "      <td>1997</td>\n",
       "      <td>20.911558</td>\n",
       "      <td>0.224888</td>\n",
       "      <td>23.864424</td>\n",
       "      <td>22.430942</td>\n",
       "      <td>1.758826e+10</td>\n",
       "      <td>1.347380</td>\n",
       "      <td>0</td>\n",
       "      <td>0</td>\n",
       "    </tr>\n",
       "    <tr>\n",
       "      <td>99</td>\n",
       "      <td>Bhutan</td>\n",
       "      <td>1997</td>\n",
       "      <td>30.740875</td>\n",
       "      <td>6.513286</td>\n",
       "      <td>19.624221</td>\n",
       "      <td>6.538898</td>\n",
       "      <td>1.887168e+08</td>\n",
       "      <td>36.313286</td>\n",
       "      <td>0</td>\n",
       "      <td>1</td>\n",
       "    </tr>\n",
       "  </tbody>\n",
       "</table>\n",
       "<p>100 rows × 10 columns</p>\n",
       "</div>"
      ],
      "text/plain": [
       "              Pais   Año      Deuda  Inflacion  Gasto_público  Tasa_fiscal  \\\n",
       "0        Australia  1990  12.253160   7.333022      21.861559    22.476879   \n",
       "1           Bhutan  1990  51.188019  10.000000      20.557124     4.413943   \n",
       "2        Guatemala  1990  24.480685  41.221867       9.131265     6.865212   \n",
       "3          Iceland  1990  29.869468  15.510722      29.377902    23.472225   \n",
       "4            India  1990  50.783254   8.971233      15.484217     9.993591   \n",
       "..             ...   ...        ...        ...            ...          ...   \n",
       "95         Tunisia  1996  55.296518   3.725145      28.016448    19.837619   \n",
       "96  United Kingdom  1996  43.628347   2.851782      33.857007    23.134875   \n",
       "97   United States  1996  46.741769   2.931204      20.005396    11.373915   \n",
       "98       Australia  1997  20.911558   0.224888      23.864424    22.430942   \n",
       "99          Bhutan  1997  30.740875   6.513286      19.624221     6.538898   \n",
       "\n",
       "        Reservas  Tipo_de_cambio  Defaults_prev  Default_previo_c_t (3 años)  \n",
       "0   1.931874e+10        1.281057              0                            0  \n",
       "1   8.883421e+07       17.505325              1                            0  \n",
       "2   3.618105e+08        4.485758              1                            1  \n",
       "3   4.549824e+08       58.283775              0                            0  \n",
       "4   5.637446e+09       17.503500              0                            0  \n",
       "..           ...             ...            ...                          ...  \n",
       "95  1.977688e+09        0.973408              1                            1  \n",
       "96  4.670002e+10        0.640958              0                            0  \n",
       "97  1.606602e+11        1.000000              0                            0  \n",
       "98  1.758826e+10        1.347380              0                            0  \n",
       "99  1.887168e+08       36.313286              0                            1  \n",
       "\n",
       "[100 rows x 10 columns]"
      ]
     },
     "execution_count": 27,
     "metadata": {},
     "output_type": "execute_result"
    }
   ],
   "source": [
    "Base_final.head(100)"
   ]
  },
  {
   "cell_type": "markdown",
   "metadata": {},
   "source": [
    "# Estadísticas Descriptivas"
   ]
  },
  {
   "cell_type": "code",
   "execution_count": 53,
   "metadata": {},
   "outputs": [
    {
     "data": {
      "text/plain": [
       "Index(['Pais', 'Año', 'Deuda', 'Inflacion', 'Gasto_público', 'Tasa_fiscal',\n",
       "       'Reservas', 'Tipo_de_cambio', 'Defaults_prev',\n",
       "       'Default_previo_c_t (3 años)'],\n",
       "      dtype='object')"
      ]
     },
     "execution_count": 53,
     "metadata": {},
     "output_type": "execute_result"
    }
   ],
   "source": [
    "Base_final.columns"
   ]
  },
  {
   "cell_type": "code",
   "execution_count": 29,
   "metadata": {},
   "outputs": [],
   "source": [
    "import statistics as stats\n",
    "from scipy import stats"
   ]
  },
  {
   "cell_type": "code",
   "execution_count": 30,
   "metadata": {},
   "outputs": [
    {
     "data": {
      "text/html": [
       "<div>\n",
       "<style scoped>\n",
       "    .dataframe tbody tr th:only-of-type {\n",
       "        vertical-align: middle;\n",
       "    }\n",
       "\n",
       "    .dataframe tbody tr th {\n",
       "        vertical-align: top;\n",
       "    }\n",
       "\n",
       "    .dataframe thead th {\n",
       "        text-align: right;\n",
       "    }\n",
       "</style>\n",
       "<table border=\"1\" class=\"dataframe\">\n",
       "  <thead>\n",
       "    <tr style=\"text-align: right;\">\n",
       "      <th></th>\n",
       "      <th>Año</th>\n",
       "      <th>Deuda</th>\n",
       "      <th>Inflacion</th>\n",
       "      <th>Gasto_público</th>\n",
       "      <th>Tasa_fiscal</th>\n",
       "      <th>Reservas</th>\n",
       "      <th>Tipo_de_cambio</th>\n",
       "      <th>Defaults_prev</th>\n",
       "      <th>Default_previo_c_t (3 años)</th>\n",
       "    </tr>\n",
       "  </thead>\n",
       "  <tbody>\n",
       "    <tr>\n",
       "      <td>count</td>\n",
       "      <td>294.000000</td>\n",
       "      <td>294.000000</td>\n",
       "      <td>294.000000</td>\n",
       "      <td>294.000000</td>\n",
       "      <td>294.000000</td>\n",
       "      <td>2.940000e+02</td>\n",
       "      <td>294.000000</td>\n",
       "      <td>294.000000</td>\n",
       "      <td>294.000000</td>\n",
       "    </tr>\n",
       "    <tr>\n",
       "      <td>mean</td>\n",
       "      <td>2000.000000</td>\n",
       "      <td>50.851689</td>\n",
       "      <td>5.644940</td>\n",
       "      <td>21.875636</td>\n",
       "      <td>16.127629</td>\n",
       "      <td>4.440132e+10</td>\n",
       "      <td>19.567441</td>\n",
       "      <td>0.302721</td>\n",
       "      <td>0.367347</td>\n",
       "    </tr>\n",
       "    <tr>\n",
       "      <td>std</td>\n",
       "      <td>6.065625</td>\n",
       "      <td>33.307938</td>\n",
       "      <td>7.337135</td>\n",
       "      <td>7.293717</td>\n",
       "      <td>6.051511</td>\n",
       "      <td>7.065982e+10</td>\n",
       "      <td>24.735308</td>\n",
       "      <td>0.460219</td>\n",
       "      <td>0.482904</td>\n",
       "    </tr>\n",
       "    <tr>\n",
       "      <td>min</td>\n",
       "      <td>1990.000000</td>\n",
       "      <td>0.018398</td>\n",
       "      <td>-18.108630</td>\n",
       "      <td>7.562050</td>\n",
       "      <td>4.413943</td>\n",
       "      <td>8.512000e+07</td>\n",
       "      <td>0.499772</td>\n",
       "      <td>0.000000</td>\n",
       "      <td>0.000000</td>\n",
       "    </tr>\n",
       "    <tr>\n",
       "      <td>25%</td>\n",
       "      <td>1995.000000</td>\n",
       "      <td>26.459870</td>\n",
       "      <td>2.205611</td>\n",
       "      <td>16.466839</td>\n",
       "      <td>10.261597</td>\n",
       "      <td>1.147301e+09</td>\n",
       "      <td>1.094097</td>\n",
       "      <td>0.000000</td>\n",
       "      <td>0.000000</td>\n",
       "    </tr>\n",
       "    <tr>\n",
       "      <td>50%</td>\n",
       "      <td>2000.000000</td>\n",
       "      <td>44.853644</td>\n",
       "      <td>3.890281</td>\n",
       "      <td>20.175852</td>\n",
       "      <td>16.078596</td>\n",
       "      <td>1.052933e+10</td>\n",
       "      <td>3.209600</td>\n",
       "      <td>0.000000</td>\n",
       "      <td>0.000000</td>\n",
       "    </tr>\n",
       "    <tr>\n",
       "      <td>75%</td>\n",
       "      <td>2005.000000</td>\n",
       "      <td>64.231988</td>\n",
       "      <td>6.830412</td>\n",
       "      <td>27.094002</td>\n",
       "      <td>21.830268</td>\n",
       "      <td>6.015286e+10</td>\n",
       "      <td>35.425997</td>\n",
       "      <td>1.000000</td>\n",
       "      <td>1.000000</td>\n",
       "    </tr>\n",
       "    <tr>\n",
       "      <td>max</td>\n",
       "      <td>2010.000000</td>\n",
       "      <td>232.832211</td>\n",
       "      <td>77.296593</td>\n",
       "      <td>42.283512</td>\n",
       "      <td>27.226929</td>\n",
       "      <td>4.889285e+11</td>\n",
       "      <td>123.638381</td>\n",
       "      <td>1.000000</td>\n",
       "      <td>1.000000</td>\n",
       "    </tr>\n",
       "  </tbody>\n",
       "</table>\n",
       "</div>"
      ],
      "text/plain": [
       "               Año       Deuda   Inflacion  Gasto_público  Tasa_fiscal  \\\n",
       "count   294.000000  294.000000  294.000000     294.000000   294.000000   \n",
       "mean   2000.000000   50.851689    5.644940      21.875636    16.127629   \n",
       "std       6.065625   33.307938    7.337135       7.293717     6.051511   \n",
       "min    1990.000000    0.018398  -18.108630       7.562050     4.413943   \n",
       "25%    1995.000000   26.459870    2.205611      16.466839    10.261597   \n",
       "50%    2000.000000   44.853644    3.890281      20.175852    16.078596   \n",
       "75%    2005.000000   64.231988    6.830412      27.094002    21.830268   \n",
       "max    2010.000000  232.832211   77.296593      42.283512    27.226929   \n",
       "\n",
       "           Reservas  Tipo_de_cambio  Defaults_prev  \\\n",
       "count  2.940000e+02      294.000000     294.000000   \n",
       "mean   4.440132e+10       19.567441       0.302721   \n",
       "std    7.065982e+10       24.735308       0.460219   \n",
       "min    8.512000e+07        0.499772       0.000000   \n",
       "25%    1.147301e+09        1.094097       0.000000   \n",
       "50%    1.052933e+10        3.209600       0.000000   \n",
       "75%    6.015286e+10       35.425997       1.000000   \n",
       "max    4.889285e+11      123.638381       1.000000   \n",
       "\n",
       "       Default_previo_c_t (3 años)  \n",
       "count                   294.000000  \n",
       "mean                      0.367347  \n",
       "std                       0.482904  \n",
       "min                       0.000000  \n",
       "25%                       0.000000  \n",
       "50%                       0.000000  \n",
       "75%                       1.000000  \n",
       "max                       1.000000  "
      ]
     },
     "execution_count": 30,
     "metadata": {},
     "output_type": "execute_result"
    }
   ],
   "source": [
    "Base_final.describe()"
   ]
  },
  {
   "cell_type": "code",
   "execution_count": 31,
   "metadata": {},
   "outputs": [
    {
     "data": {
      "text/html": [
       "<div>\n",
       "<style scoped>\n",
       "    .dataframe tbody tr th:only-of-type {\n",
       "        vertical-align: middle;\n",
       "    }\n",
       "\n",
       "    .dataframe tbody tr th {\n",
       "        vertical-align: top;\n",
       "    }\n",
       "\n",
       "    .dataframe thead th {\n",
       "        text-align: right;\n",
       "    }\n",
       "</style>\n",
       "<table border=\"1\" class=\"dataframe\">\n",
       "  <thead>\n",
       "    <tr style=\"text-align: right;\">\n",
       "      <th></th>\n",
       "      <th>Año</th>\n",
       "      <th>Deuda</th>\n",
       "      <th>Inflacion</th>\n",
       "      <th>Gasto_público</th>\n",
       "      <th>Tasa_fiscal</th>\n",
       "      <th>Reservas</th>\n",
       "      <th>Tipo_de_cambio</th>\n",
       "      <th>Defaults_prev</th>\n",
       "      <th>Default_previo_c_t (3 años)</th>\n",
       "    </tr>\n",
       "  </thead>\n",
       "  <tbody>\n",
       "    <tr>\n",
       "      <td>Año</td>\n",
       "      <td>1.000000</td>\n",
       "      <td>0.062282</td>\n",
       "      <td>-0.247866</td>\n",
       "      <td>0.139231</td>\n",
       "      <td>0.040947</td>\n",
       "      <td>0.294656</td>\n",
       "      <td>0.171639</td>\n",
       "      <td>-0.204178</td>\n",
       "      <td>-0.184100</td>\n",
       "    </tr>\n",
       "    <tr>\n",
       "      <td>Deuda</td>\n",
       "      <td>0.062282</td>\n",
       "      <td>1.000000</td>\n",
       "      <td>0.276047</td>\n",
       "      <td>0.285969</td>\n",
       "      <td>0.218365</td>\n",
       "      <td>0.015810</td>\n",
       "      <td>0.194630</td>\n",
       "      <td>0.328121</td>\n",
       "      <td>0.237844</td>\n",
       "    </tr>\n",
       "    <tr>\n",
       "      <td>Inflacion</td>\n",
       "      <td>-0.247866</td>\n",
       "      <td>0.276047</td>\n",
       "      <td>1.000000</td>\n",
       "      <td>-0.094313</td>\n",
       "      <td>0.047084</td>\n",
       "      <td>-0.206723</td>\n",
       "      <td>0.171911</td>\n",
       "      <td>0.407642</td>\n",
       "      <td>0.381467</td>\n",
       "    </tr>\n",
       "    <tr>\n",
       "      <td>Gasto_público</td>\n",
       "      <td>0.139231</td>\n",
       "      <td>0.285969</td>\n",
       "      <td>-0.094313</td>\n",
       "      <td>1.000000</td>\n",
       "      <td>0.751251</td>\n",
       "      <td>-0.151823</td>\n",
       "      <td>0.129256</td>\n",
       "      <td>0.010936</td>\n",
       "      <td>-0.087885</td>\n",
       "    </tr>\n",
       "    <tr>\n",
       "      <td>Tasa_fiscal</td>\n",
       "      <td>0.040947</td>\n",
       "      <td>0.218365</td>\n",
       "      <td>0.047084</td>\n",
       "      <td>0.751251</td>\n",
       "      <td>1.000000</td>\n",
       "      <td>-0.321235</td>\n",
       "      <td>0.117547</td>\n",
       "      <td>0.064208</td>\n",
       "      <td>-0.026640</td>\n",
       "    </tr>\n",
       "    <tr>\n",
       "      <td>Reservas</td>\n",
       "      <td>0.294656</td>\n",
       "      <td>0.015810</td>\n",
       "      <td>-0.206723</td>\n",
       "      <td>-0.151823</td>\n",
       "      <td>-0.321235</td>\n",
       "      <td>1.000000</td>\n",
       "      <td>-0.217183</td>\n",
       "      <td>-0.345040</td>\n",
       "      <td>-0.402300</td>\n",
       "    </tr>\n",
       "    <tr>\n",
       "      <td>Tipo_de_cambio</td>\n",
       "      <td>0.171639</td>\n",
       "      <td>0.194630</td>\n",
       "      <td>0.171911</td>\n",
       "      <td>0.129256</td>\n",
       "      <td>0.117547</td>\n",
       "      <td>-0.217183</td>\n",
       "      <td>1.000000</td>\n",
       "      <td>0.009708</td>\n",
       "      <td>0.021968</td>\n",
       "    </tr>\n",
       "    <tr>\n",
       "      <td>Defaults_prev</td>\n",
       "      <td>-0.204178</td>\n",
       "      <td>0.328121</td>\n",
       "      <td>0.407642</td>\n",
       "      <td>0.010936</td>\n",
       "      <td>0.064208</td>\n",
       "      <td>-0.345040</td>\n",
       "      <td>0.009708</td>\n",
       "      <td>1.000000</td>\n",
       "      <td>0.757195</td>\n",
       "    </tr>\n",
       "    <tr>\n",
       "      <td>Default_previo_c_t (3 años)</td>\n",
       "      <td>-0.184100</td>\n",
       "      <td>0.237844</td>\n",
       "      <td>0.381467</td>\n",
       "      <td>-0.087885</td>\n",
       "      <td>-0.026640</td>\n",
       "      <td>-0.402300</td>\n",
       "      <td>0.021968</td>\n",
       "      <td>0.757195</td>\n",
       "      <td>1.000000</td>\n",
       "    </tr>\n",
       "  </tbody>\n",
       "</table>\n",
       "</div>"
      ],
      "text/plain": [
       "                                  Año     Deuda  Inflacion  Gasto_público  \\\n",
       "Año                          1.000000  0.062282  -0.247866       0.139231   \n",
       "Deuda                        0.062282  1.000000   0.276047       0.285969   \n",
       "Inflacion                   -0.247866  0.276047   1.000000      -0.094313   \n",
       "Gasto_público                0.139231  0.285969  -0.094313       1.000000   \n",
       "Tasa_fiscal                  0.040947  0.218365   0.047084       0.751251   \n",
       "Reservas                     0.294656  0.015810  -0.206723      -0.151823   \n",
       "Tipo_de_cambio               0.171639  0.194630   0.171911       0.129256   \n",
       "Defaults_prev               -0.204178  0.328121   0.407642       0.010936   \n",
       "Default_previo_c_t (3 años) -0.184100  0.237844   0.381467      -0.087885   \n",
       "\n",
       "                             Tasa_fiscal  Reservas  Tipo_de_cambio  \\\n",
       "Año                             0.040947  0.294656        0.171639   \n",
       "Deuda                           0.218365  0.015810        0.194630   \n",
       "Inflacion                       0.047084 -0.206723        0.171911   \n",
       "Gasto_público                   0.751251 -0.151823        0.129256   \n",
       "Tasa_fiscal                     1.000000 -0.321235        0.117547   \n",
       "Reservas                       -0.321235  1.000000       -0.217183   \n",
       "Tipo_de_cambio                  0.117547 -0.217183        1.000000   \n",
       "Defaults_prev                   0.064208 -0.345040        0.009708   \n",
       "Default_previo_c_t (3 años)    -0.026640 -0.402300        0.021968   \n",
       "\n",
       "                             Defaults_prev  Default_previo_c_t (3 años)  \n",
       "Año                              -0.204178                    -0.184100  \n",
       "Deuda                             0.328121                     0.237844  \n",
       "Inflacion                         0.407642                     0.381467  \n",
       "Gasto_público                     0.010936                    -0.087885  \n",
       "Tasa_fiscal                       0.064208                    -0.026640  \n",
       "Reservas                         -0.345040                    -0.402300  \n",
       "Tipo_de_cambio                    0.009708                     0.021968  \n",
       "Defaults_prev                     1.000000                     0.757195  \n",
       "Default_previo_c_t (3 años)       0.757195                     1.000000  "
      ]
     },
     "execution_count": 31,
     "metadata": {},
     "output_type": "execute_result"
    }
   ],
   "source": [
    "Base_final.corr()"
   ]
  },
  {
   "cell_type": "code",
   "execution_count": 70,
   "metadata": {},
   "outputs": [
    {
     "data": {
      "text/html": [
       "<div>\n",
       "<style scoped>\n",
       "    .dataframe tbody tr th:only-of-type {\n",
       "        vertical-align: middle;\n",
       "    }\n",
       "\n",
       "    .dataframe tbody tr th {\n",
       "        vertical-align: top;\n",
       "    }\n",
       "\n",
       "    .dataframe thead th {\n",
       "        text-align: right;\n",
       "    }\n",
       "</style>\n",
       "<table border=\"1\" class=\"dataframe\">\n",
       "  <thead>\n",
       "    <tr style=\"text-align: right;\">\n",
       "      <th></th>\n",
       "      <th>Año</th>\n",
       "      <th>Deuda</th>\n",
       "      <th>Inflacion</th>\n",
       "      <th>Gasto_público</th>\n",
       "      <th>Tasa_fiscal</th>\n",
       "      <th>Reservas</th>\n",
       "      <th>Tipo_de_cambio</th>\n",
       "      <th>Defaults_prev</th>\n",
       "      <th>Default_previo_c_t (3 años)</th>\n",
       "    </tr>\n",
       "  </thead>\n",
       "  <tbody>\n",
       "    <tr>\n",
       "      <td>Año</td>\n",
       "      <td>3.679181e+01</td>\n",
       "      <td>1.258308e+01</td>\n",
       "      <td>-1.103110e+01</td>\n",
       "      <td>6.159698e+00</td>\n",
       "      <td>1.503026e+00</td>\n",
       "      <td>1.262882e+11</td>\n",
       "      <td>2.575195e+01</td>\n",
       "      <td>-5.699659e-01</td>\n",
       "      <td>-5.392491e-01</td>\n",
       "    </tr>\n",
       "    <tr>\n",
       "      <td>Deuda</td>\n",
       "      <td>1.258308e+01</td>\n",
       "      <td>1.109419e+03</td>\n",
       "      <td>6.746166e+01</td>\n",
       "      <td>6.947289e+01</td>\n",
       "      <td>4.401435e+01</td>\n",
       "      <td>3.720886e+10</td>\n",
       "      <td>1.603521e+02</td>\n",
       "      <td>5.029746e+00</td>\n",
       "      <td>3.825616e+00</td>\n",
       "    </tr>\n",
       "    <tr>\n",
       "      <td>Inflacion</td>\n",
       "      <td>-1.103110e+01</td>\n",
       "      <td>6.746166e+01</td>\n",
       "      <td>5.383355e+01</td>\n",
       "      <td>-5.047144e+00</td>\n",
       "      <td>2.090575e+00</td>\n",
       "      <td>-1.071736e+11</td>\n",
       "      <td>3.119956e+01</td>\n",
       "      <td>1.376479e+00</td>\n",
       "      <td>1.351590e+00</td>\n",
       "    </tr>\n",
       "    <tr>\n",
       "      <td>Gasto_público</td>\n",
       "      <td>6.159698e+00</td>\n",
       "      <td>6.947289e+01</td>\n",
       "      <td>-5.047144e+00</td>\n",
       "      <td>5.319830e+01</td>\n",
       "      <td>3.315870e+01</td>\n",
       "      <td>-7.824540e+10</td>\n",
       "      <td>2.331946e+01</td>\n",
       "      <td>3.670799e-02</td>\n",
       "      <td>-3.095463e-01</td>\n",
       "    </tr>\n",
       "    <tr>\n",
       "      <td>Tasa_fiscal</td>\n",
       "      <td>1.503026e+00</td>\n",
       "      <td>4.401435e+01</td>\n",
       "      <td>2.090575e+00</td>\n",
       "      <td>3.315870e+01</td>\n",
       "      <td>3.662078e+01</td>\n",
       "      <td>-1.373598e+11</td>\n",
       "      <td>1.759514e+01</td>\n",
       "      <td>1.788204e-01</td>\n",
       "      <td>-7.785115e-02</td>\n",
       "    </tr>\n",
       "    <tr>\n",
       "      <td>Reservas</td>\n",
       "      <td>1.262882e+11</td>\n",
       "      <td>3.720886e+10</td>\n",
       "      <td>-1.071736e+11</td>\n",
       "      <td>-7.824540e+10</td>\n",
       "      <td>-1.373598e+11</td>\n",
       "      <td>4.992810e+21</td>\n",
       "      <td>-3.795909e+11</td>\n",
       "      <td>-1.122033e+10</td>\n",
       "      <td>-1.372726e+10</td>\n",
       "    </tr>\n",
       "    <tr>\n",
       "      <td>Tipo_de_cambio</td>\n",
       "      <td>2.575195e+01</td>\n",
       "      <td>1.603521e+02</td>\n",
       "      <td>3.119956e+01</td>\n",
       "      <td>2.331946e+01</td>\n",
       "      <td>1.759514e+01</td>\n",
       "      <td>-3.795909e+11</td>\n",
       "      <td>6.118355e+02</td>\n",
       "      <td>1.105135e-01</td>\n",
       "      <td>2.624005e-01</td>\n",
       "    </tr>\n",
       "    <tr>\n",
       "      <td>Defaults_prev</td>\n",
       "      <td>-5.699659e-01</td>\n",
       "      <td>5.029746e+00</td>\n",
       "      <td>1.376479e+00</td>\n",
       "      <td>3.670799e-02</td>\n",
       "      <td>1.788204e-01</td>\n",
       "      <td>-1.122033e+10</td>\n",
       "      <td>1.105135e-01</td>\n",
       "      <td>2.118014e-01</td>\n",
       "      <td>1.682803e-01</td>\n",
       "    </tr>\n",
       "    <tr>\n",
       "      <td>Default_previo_c_t (3 años)</td>\n",
       "      <td>-5.392491e-01</td>\n",
       "      <td>3.825616e+00</td>\n",
       "      <td>1.351590e+00</td>\n",
       "      <td>-3.095463e-01</td>\n",
       "      <td>-7.785115e-02</td>\n",
       "      <td>-1.372726e+10</td>\n",
       "      <td>2.624005e-01</td>\n",
       "      <td>1.682803e-01</td>\n",
       "      <td>2.331964e-01</td>\n",
       "    </tr>\n",
       "  </tbody>\n",
       "</table>\n",
       "</div>"
      ],
      "text/plain": [
       "                                      Año         Deuda     Inflacion  \\\n",
       "Año                          3.679181e+01  1.258308e+01 -1.103110e+01   \n",
       "Deuda                        1.258308e+01  1.109419e+03  6.746166e+01   \n",
       "Inflacion                   -1.103110e+01  6.746166e+01  5.383355e+01   \n",
       "Gasto_público                6.159698e+00  6.947289e+01 -5.047144e+00   \n",
       "Tasa_fiscal                  1.503026e+00  4.401435e+01  2.090575e+00   \n",
       "Reservas                     1.262882e+11  3.720886e+10 -1.071736e+11   \n",
       "Tipo_de_cambio               2.575195e+01  1.603521e+02  3.119956e+01   \n",
       "Defaults_prev               -5.699659e-01  5.029746e+00  1.376479e+00   \n",
       "Default_previo_c_t (3 años) -5.392491e-01  3.825616e+00  1.351590e+00   \n",
       "\n",
       "                             Gasto_público   Tasa_fiscal      Reservas  \\\n",
       "Año                           6.159698e+00  1.503026e+00  1.262882e+11   \n",
       "Deuda                         6.947289e+01  4.401435e+01  3.720886e+10   \n",
       "Inflacion                    -5.047144e+00  2.090575e+00 -1.071736e+11   \n",
       "Gasto_público                 5.319830e+01  3.315870e+01 -7.824540e+10   \n",
       "Tasa_fiscal                   3.315870e+01  3.662078e+01 -1.373598e+11   \n",
       "Reservas                     -7.824540e+10 -1.373598e+11  4.992810e+21   \n",
       "Tipo_de_cambio                2.331946e+01  1.759514e+01 -3.795909e+11   \n",
       "Defaults_prev                 3.670799e-02  1.788204e-01 -1.122033e+10   \n",
       "Default_previo_c_t (3 años)  -3.095463e-01 -7.785115e-02 -1.372726e+10   \n",
       "\n",
       "                             Tipo_de_cambio  Defaults_prev  \\\n",
       "Año                            2.575195e+01  -5.699659e-01   \n",
       "Deuda                          1.603521e+02   5.029746e+00   \n",
       "Inflacion                      3.119956e+01   1.376479e+00   \n",
       "Gasto_público                  2.331946e+01   3.670799e-02   \n",
       "Tasa_fiscal                    1.759514e+01   1.788204e-01   \n",
       "Reservas                      -3.795909e+11  -1.122033e+10   \n",
       "Tipo_de_cambio                 6.118355e+02   1.105135e-01   \n",
       "Defaults_prev                  1.105135e-01   2.118014e-01   \n",
       "Default_previo_c_t (3 años)    2.624005e-01   1.682803e-01   \n",
       "\n",
       "                             Default_previo_c_t (3 años)  \n",
       "Año                                        -5.392491e-01  \n",
       "Deuda                                       3.825616e+00  \n",
       "Inflacion                                   1.351590e+00  \n",
       "Gasto_público                              -3.095463e-01  \n",
       "Tasa_fiscal                                -7.785115e-02  \n",
       "Reservas                                   -1.372726e+10  \n",
       "Tipo_de_cambio                              2.624005e-01  \n",
       "Defaults_prev                               1.682803e-01  \n",
       "Default_previo_c_t (3 años)                 2.331964e-01  "
      ]
     },
     "execution_count": 70,
     "metadata": {},
     "output_type": "execute_result"
    }
   ],
   "source": [
    "Base_final.cov()"
   ]
  },
  {
   "cell_type": "code",
   "execution_count": 38,
   "metadata": {},
   "outputs": [
    {
     "data": {
      "text/plain": [
       "Año                            3.679181e+01\n",
       "Deuda                          1.109419e+03\n",
       "Inflacion                      5.383355e+01\n",
       "Gasto_público                  5.319830e+01\n",
       "Tasa_fiscal                    3.662078e+01\n",
       "Reservas                       4.992810e+21\n",
       "Tipo_de_cambio                 6.118355e+02\n",
       "Defaults_prev                  2.118014e-01\n",
       "Default_previo_c_t (3 años)    2.331964e-01\n",
       "dtype: float64"
      ]
     },
     "execution_count": 38,
     "metadata": {},
     "output_type": "execute_result"
    }
   ],
   "source": [
    "Base_final.var()"
   ]
  },
  {
   "cell_type": "code",
   "execution_count": 64,
   "metadata": {
    "scrolled": true
   },
   "outputs": [
    {
     "data": {
      "text/plain": [
       "Text(0, 0.5, 'Inflación')"
      ]
     },
     "execution_count": 64,
     "metadata": {},
     "output_type": "execute_result"
    },
    {
     "data": {
      "image/png": "[encoded data removed]",
      "text/plain": [
       "<Figure size 1152x648 with 1 Axes>"
      ]
     },
     "metadata": {
      "needs_background": "light"
     },
     "output_type": "display_data"
    }
   ],
   "source": [
    "plt.figure(figsize=(16,9))\n",
    "plt.scatter(Base_final.Deuda,Base_final.Inflacion)\n",
    "plt.title(\"Deuda vs Inflación\")\n",
    "plt.xlabel(\"Deuda\")\n",
    "plt.ylabel(\"Inflación\")"
   ]
  },
  {
   "cell_type": "code",
   "execution_count": 63,
   "metadata": {},
   "outputs": [
    {
     "data": {
      "text/html": [
       "<div>\n",
       "<style scoped>\n",
       "    .dataframe tbody tr th:only-of-type {\n",
       "        vertical-align: middle;\n",
       "    }\n",
       "\n",
       "    .dataframe tbody tr th {\n",
       "        vertical-align: top;\n",
       "    }\n",
       "\n",
       "    .dataframe thead th {\n",
       "        text-align: right;\n",
       "    }\n",
       "</style>\n",
       "<table border=\"1\" class=\"dataframe\">\n",
       "  <thead>\n",
       "    <tr style=\"text-align: right;\">\n",
       "      <th></th>\n",
       "      <th>Inflacion</th>\n",
       "      <th>Deuda</th>\n",
       "    </tr>\n",
       "  </thead>\n",
       "  <tbody>\n",
       "    <tr>\n",
       "      <td>Inflacion</td>\n",
       "      <td>1.000000</td>\n",
       "      <td>0.276047</td>\n",
       "    </tr>\n",
       "    <tr>\n",
       "      <td>Deuda</td>\n",
       "      <td>0.276047</td>\n",
       "      <td>1.000000</td>\n",
       "    </tr>\n",
       "  </tbody>\n",
       "</table>\n",
       "</div>"
      ],
      "text/plain": [
       "           Inflacion     Deuda\n",
       "Inflacion   1.000000  0.276047\n",
       "Deuda       0.276047  1.000000"
      ]
     },
     "execution_count": 63,
     "metadata": {},
     "output_type": "execute_result"
    }
   ],
   "source": [
    "Base_final[[\"Inflacion\",\"Deuda\"]].corr()"
   ]
  },
  {
   "cell_type": "code",
   "execution_count": 69,
   "metadata": {},
   "outputs": [
    {
     "data": {
      "text/html": [
       "<div>\n",
       "<style scoped>\n",
       "    .dataframe tbody tr th:only-of-type {\n",
       "        vertical-align: middle;\n",
       "    }\n",
       "\n",
       "    .dataframe tbody tr th {\n",
       "        vertical-align: top;\n",
       "    }\n",
       "\n",
       "    .dataframe thead th {\n",
       "        text-align: right;\n",
       "    }\n",
       "</style>\n",
       "<table border=\"1\" class=\"dataframe\">\n",
       "  <thead>\n",
       "    <tr style=\"text-align: right;\">\n",
       "      <th></th>\n",
       "      <th>Inflacion</th>\n",
       "      <th>Deuda</th>\n",
       "    </tr>\n",
       "  </thead>\n",
       "  <tbody>\n",
       "    <tr>\n",
       "      <td>Inflacion</td>\n",
       "      <td>53.833545</td>\n",
       "      <td>67.461659</td>\n",
       "    </tr>\n",
       "    <tr>\n",
       "      <td>Deuda</td>\n",
       "      <td>67.461659</td>\n",
       "      <td>1109.418740</td>\n",
       "    </tr>\n",
       "  </tbody>\n",
       "</table>\n",
       "</div>"
      ],
      "text/plain": [
       "           Inflacion        Deuda\n",
       "Inflacion  53.833545    67.461659\n",
       "Deuda      67.461659  1109.418740"
      ]
     },
     "execution_count": 69,
     "metadata": {},
     "output_type": "execute_result"
    }
   ],
   "source": [
    "Base_final[[\"Inflacion\",\"Deuda\"]].cov()"
   ]
  },
  {
   "cell_type": "code",
   "execution_count": 33,
   "metadata": {
    "scrolled": true
   },
   "outputs": [
    {
     "data": {
      "text/plain": [
       "Text(0, 0.5, 'Tipo de Cambio')"
      ]
     },
     "execution_count": 33,
     "metadata": {},
     "output_type": "execute_result"
    },
    {
     "data": {
      "image/png": "[encoded data removed]",
      "text/plain": [
       "<Figure size 1152x648 with 1 Axes>"
      ]
     },
     "metadata": {
      "needs_background": "light"
     },
     "output_type": "display_data"
    }
   ],
   "source": [
    "plt.figure(figsize=(16,9))\n",
    "plt.scatter(Base_final.Gasto_público,Base_final.Tipo_de_cambio)\n",
    "plt.title(\"Gasto público vs Tipo de Cambio\")\n",
    "plt.xlabel(\"Gasto público\")\n",
    "plt.ylabel(\"Tipo de Cambio\")"
   ]
  },
  {
   "cell_type": "code",
   "execution_count": 62,
   "metadata": {},
   "outputs": [
    {
     "data": {
      "text/html": [
       "<div>\n",
       "<style scoped>\n",
       "    .dataframe tbody tr th:only-of-type {\n",
       "        vertical-align: middle;\n",
       "    }\n",
       "\n",
       "    .dataframe tbody tr th {\n",
       "        vertical-align: top;\n",
       "    }\n",
       "\n",
       "    .dataframe thead th {\n",
       "        text-align: right;\n",
       "    }\n",
       "</style>\n",
       "<table border=\"1\" class=\"dataframe\">\n",
       "  <thead>\n",
       "    <tr style=\"text-align: right;\">\n",
       "      <th></th>\n",
       "      <th>Gasto_público</th>\n",
       "      <th>Tipo_de_cambio</th>\n",
       "    </tr>\n",
       "  </thead>\n",
       "  <tbody>\n",
       "    <tr>\n",
       "      <td>Gasto_público</td>\n",
       "      <td>1.000000</td>\n",
       "      <td>0.129256</td>\n",
       "    </tr>\n",
       "    <tr>\n",
       "      <td>Tipo_de_cambio</td>\n",
       "      <td>0.129256</td>\n",
       "      <td>1.000000</td>\n",
       "    </tr>\n",
       "  </tbody>\n",
       "</table>\n",
       "</div>"
      ],
      "text/plain": [
       "                Gasto_público  Tipo_de_cambio\n",
       "Gasto_público        1.000000        0.129256\n",
       "Tipo_de_cambio       0.129256        1.000000"
      ]
     },
     "execution_count": 62,
     "metadata": {},
     "output_type": "execute_result"
    }
   ],
   "source": [
    "Base_final[[\"Gasto_público\",\"Tipo_de_cambio\"]].corr()"
   ]
  },
  {
   "cell_type": "code",
   "execution_count": 68,
   "metadata": {},
   "outputs": [
    {
     "data": {
      "text/html": [
       "<div>\n",
       "<style scoped>\n",
       "    .dataframe tbody tr th:only-of-type {\n",
       "        vertical-align: middle;\n",
       "    }\n",
       "\n",
       "    .dataframe tbody tr th {\n",
       "        vertical-align: top;\n",
       "    }\n",
       "\n",
       "    .dataframe thead th {\n",
       "        text-align: right;\n",
       "    }\n",
       "</style>\n",
       "<table border=\"1\" class=\"dataframe\">\n",
       "  <thead>\n",
       "    <tr style=\"text-align: right;\">\n",
       "      <th></th>\n",
       "      <th>Gasto_público</th>\n",
       "      <th>Tipo_de_cambio</th>\n",
       "    </tr>\n",
       "  </thead>\n",
       "  <tbody>\n",
       "    <tr>\n",
       "      <td>Gasto_público</td>\n",
       "      <td>53.198301</td>\n",
       "      <td>23.319461</td>\n",
       "    </tr>\n",
       "    <tr>\n",
       "      <td>Tipo_de_cambio</td>\n",
       "      <td>23.319461</td>\n",
       "      <td>611.835483</td>\n",
       "    </tr>\n",
       "  </tbody>\n",
       "</table>\n",
       "</div>"
      ],
      "text/plain": [
       "                Gasto_público  Tipo_de_cambio\n",
       "Gasto_público       53.198301       23.319461\n",
       "Tipo_de_cambio      23.319461      611.835483"
      ]
     },
     "execution_count": 68,
     "metadata": {},
     "output_type": "execute_result"
    }
   ],
   "source": [
    "Base_final[[\"Gasto_público\",\"Tipo_de_cambio\"]].cov()"
   ]
  },
  {
   "cell_type": "code",
   "execution_count": 36,
   "metadata": {
    "scrolled": false
   },
   "outputs": [
    {
     "data": {
      "text/plain": [
       "Text(0, 0.5, 'Reservas')"
      ]
     },
     "execution_count": 36,
     "metadata": {},
     "output_type": "execute_result"
    },
    {
     "data": {
      "image/png": "[encoded data removed]",
      "text/plain": [
       "<Figure size 1152x648 with 1 Axes>"
      ]
     },
     "metadata": {
      "needs_background": "light"
     },
     "output_type": "display_data"
    }
   ],
   "source": [
    "plt.figure(figsize=(16,9))\n",
    "plt.scatter(Base_final.Tipo_de_cambio,Base_final.Reservas)\n",
    "plt.title(\"Tipo de Cambio vs Reservas\")\n",
    "plt.xlabel(\"Tipo de Cambio\")\n",
    "plt.ylabel(\"Reservas\")"
   ]
  },
  {
   "cell_type": "code",
   "execution_count": 61,
   "metadata": {},
   "outputs": [
    {
     "data": {
      "text/html": [
       "<div>\n",
       "<style scoped>\n",
       "    .dataframe tbody tr th:only-of-type {\n",
       "        vertical-align: middle;\n",
       "    }\n",
       "\n",
       "    .dataframe tbody tr th {\n",
       "        vertical-align: top;\n",
       "    }\n",
       "\n",
       "    .dataframe thead th {\n",
       "        text-align: right;\n",
       "    }\n",
       "</style>\n",
       "<table border=\"1\" class=\"dataframe\">\n",
       "  <thead>\n",
       "    <tr style=\"text-align: right;\">\n",
       "      <th></th>\n",
       "      <th>Tipo_de_cambio</th>\n",
       "      <th>Reservas</th>\n",
       "    </tr>\n",
       "  </thead>\n",
       "  <tbody>\n",
       "    <tr>\n",
       "      <td>Tipo_de_cambio</td>\n",
       "      <td>1.000000</td>\n",
       "      <td>-0.217183</td>\n",
       "    </tr>\n",
       "    <tr>\n",
       "      <td>Reservas</td>\n",
       "      <td>-0.217183</td>\n",
       "      <td>1.000000</td>\n",
       "    </tr>\n",
       "  </tbody>\n",
       "</table>\n",
       "</div>"
      ],
      "text/plain": [
       "                Tipo_de_cambio  Reservas\n",
       "Tipo_de_cambio        1.000000 -0.217183\n",
       "Reservas             -0.217183  1.000000"
      ]
     },
     "execution_count": 61,
     "metadata": {},
     "output_type": "execute_result"
    }
   ],
   "source": [
    "Base_final[[\"Tipo_de_cambio\",\"Reservas\"]].corr()"
   ]
  },
  {
   "cell_type": "code",
   "execution_count": 66,
   "metadata": {},
   "outputs": [
    {
     "data": {
      "text/html": [
       "<div>\n",
       "<style scoped>\n",
       "    .dataframe tbody tr th:only-of-type {\n",
       "        vertical-align: middle;\n",
       "    }\n",
       "\n",
       "    .dataframe tbody tr th {\n",
       "        vertical-align: top;\n",
       "    }\n",
       "\n",
       "    .dataframe thead th {\n",
       "        text-align: right;\n",
       "    }\n",
       "</style>\n",
       "<table border=\"1\" class=\"dataframe\">\n",
       "  <thead>\n",
       "    <tr style=\"text-align: right;\">\n",
       "      <th></th>\n",
       "      <th>Tipo_de_cambio</th>\n",
       "      <th>Reservas</th>\n",
       "    </tr>\n",
       "  </thead>\n",
       "  <tbody>\n",
       "    <tr>\n",
       "      <td>Tipo_de_cambio</td>\n",
       "      <td>6.118355e+02</td>\n",
       "      <td>-3.795909e+11</td>\n",
       "    </tr>\n",
       "    <tr>\n",
       "      <td>Reservas</td>\n",
       "      <td>-3.795909e+11</td>\n",
       "      <td>4.992810e+21</td>\n",
       "    </tr>\n",
       "  </tbody>\n",
       "</table>\n",
       "</div>"
      ],
      "text/plain": [
       "                Tipo_de_cambio      Reservas\n",
       "Tipo_de_cambio    6.118355e+02 -3.795909e+11\n",
       "Reservas         -3.795909e+11  4.992810e+21"
      ]
     },
     "execution_count": 66,
     "metadata": {},
     "output_type": "execute_result"
    }
   ],
   "source": [
    "Base_final[[\"Tipo_de_cambio\",\"Reservas\"]].cov()"
   ]
  },
  {
   "cell_type": "code",
   "execution_count": 54,
   "metadata": {},
   "outputs": [
    {
     "data": {
      "text/plain": [
       "Text(0, 0.5, 'Tasa Fiscal')"
      ]
     },
     "execution_count": 54,
     "metadata": {},
     "output_type": "execute_result"
    },
    {
     "data": {
      "image/png": "[encoded data removed]",
      "text/plain": [
       "<Figure size 1152x648 with 1 Axes>"
      ]
     },
     "metadata": {
      "needs_background": "light"
     },
     "output_type": "display_data"
    }
   ],
   "source": [
    "plt.figure(figsize=(16,9))\n",
    "plt.scatter(Base_final.Gasto_público,Base_final.Tasa_fiscal)\n",
    "plt.title(\"Gasto Público vs Tasa Fiscal\")\n",
    "plt.xlabel(\"Gasto Público\")\n",
    "plt.ylabel(\"Tasa Fiscal\")"
   ]
  },
  {
   "cell_type": "code",
   "execution_count": 60,
   "metadata": {
    "scrolled": true
   },
   "outputs": [
    {
     "data": {
      "text/html": [
       "<div>\n",
       "<style scoped>\n",
       "    .dataframe tbody tr th:only-of-type {\n",
       "        vertical-align: middle;\n",
       "    }\n",
       "\n",
       "    .dataframe tbody tr th {\n",
       "        vertical-align: top;\n",
       "    }\n",
       "\n",
       "    .dataframe thead th {\n",
       "        text-align: right;\n",
       "    }\n",
       "</style>\n",
       "<table border=\"1\" class=\"dataframe\">\n",
       "  <thead>\n",
       "    <tr style=\"text-align: right;\">\n",
       "      <th></th>\n",
       "      <th>Gasto_público</th>\n",
       "      <th>Tasa_fiscal</th>\n",
       "    </tr>\n",
       "  </thead>\n",
       "  <tbody>\n",
       "    <tr>\n",
       "      <td>Gasto_público</td>\n",
       "      <td>1.000000</td>\n",
       "      <td>0.751251</td>\n",
       "    </tr>\n",
       "    <tr>\n",
       "      <td>Tasa_fiscal</td>\n",
       "      <td>0.751251</td>\n",
       "      <td>1.000000</td>\n",
       "    </tr>\n",
       "  </tbody>\n",
       "</table>\n",
       "</div>"
      ],
      "text/plain": [
       "               Gasto_público  Tasa_fiscal\n",
       "Gasto_público       1.000000     0.751251\n",
       "Tasa_fiscal         0.751251     1.000000"
      ]
     },
     "execution_count": 60,
     "metadata": {},
     "output_type": "execute_result"
    }
   ],
   "source": [
    "Base_final[[\"Gasto_público\",\"Tasa_fiscal\"]].corr()"
   ]
  },
  {
   "cell_type": "code",
   "execution_count": 67,
   "metadata": {
    "scrolled": true
   },
   "outputs": [
    {
     "data": {
      "text/html": [
       "<div>\n",
       "<style scoped>\n",
       "    .dataframe tbody tr th:only-of-type {\n",
       "        vertical-align: middle;\n",
       "    }\n",
       "\n",
       "    .dataframe tbody tr th {\n",
       "        vertical-align: top;\n",
       "    }\n",
       "\n",
       "    .dataframe thead th {\n",
       "        text-align: right;\n",
       "    }\n",
       "</style>\n",
       "<table border=\"1\" class=\"dataframe\">\n",
       "  <thead>\n",
       "    <tr style=\"text-align: right;\">\n",
       "      <th></th>\n",
       "      <th>Gasto_público</th>\n",
       "      <th>Tasa_fiscal</th>\n",
       "    </tr>\n",
       "  </thead>\n",
       "  <tbody>\n",
       "    <tr>\n",
       "      <td>Gasto_público</td>\n",
       "      <td>53.198301</td>\n",
       "      <td>33.158701</td>\n",
       "    </tr>\n",
       "    <tr>\n",
       "      <td>Tasa_fiscal</td>\n",
       "      <td>33.158701</td>\n",
       "      <td>36.620782</td>\n",
       "    </tr>\n",
       "  </tbody>\n",
       "</table>\n",
       "</div>"
      ],
      "text/plain": [
       "               Gasto_público  Tasa_fiscal\n",
       "Gasto_público      53.198301    33.158701\n",
       "Tasa_fiscal        33.158701    36.620782"
      ]
     },
     "execution_count": 67,
     "metadata": {},
     "output_type": "execute_result"
    }
   ],
   "source": [
    "Base_final[[\"Gasto_público\",\"Tasa_fiscal\"]].cov()"
   ]
  },
  {
   "cell_type": "markdown",
   "metadata": {},
   "source": [
    "### Deuda"
   ]
  },
  {
   "cell_type": "code",
   "execution_count": 35,
   "metadata": {},
   "outputs": [
    {
     "data": {
      "text/plain": [
       "count    294.000000\n",
       "mean      50.851689\n",
       "std       33.307938\n",
       "min        0.018398\n",
       "25%       26.459870\n",
       "50%       44.853644\n",
       "75%       64.231988\n",
       "max      232.832211\n",
       "Name: Deuda, dtype: float64"
      ]
     },
     "execution_count": 35,
     "metadata": {},
     "output_type": "execute_result"
    }
   ],
   "source": [
    "Base_final['Deuda'].describe()"
   ]
  },
  {
   "cell_type": "markdown",
   "metadata": {},
   "source": [
    "### Inflación"
   ]
  },
  {
   "cell_type": "code",
   "execution_count": 36,
   "metadata": {},
   "outputs": [
    {
     "data": {
      "text/plain": [
       "count    294.000000\n",
       "mean       5.644940\n",
       "std        7.337135\n",
       "min      -18.108630\n",
       "25%        2.205611\n",
       "50%        3.890281\n",
       "75%        6.830412\n",
       "max       77.296593\n",
       "Name: Inflacion, dtype: float64"
      ]
     },
     "execution_count": 36,
     "metadata": {},
     "output_type": "execute_result"
    }
   ],
   "source": [
    "Base_final['Inflacion'].describe()"
   ]
  },
  {
   "cell_type": "markdown",
   "metadata": {},
   "source": [
    "### Gasto Público"
   ]
  },
  {
   "cell_type": "code",
   "execution_count": 40,
   "metadata": {},
   "outputs": [
    {
     "data": {
      "text/plain": [
       "count    294.000000\n",
       "mean      21.875636\n",
       "std        7.293717\n",
       "min        7.562050\n",
       "25%       16.466839\n",
       "50%       20.175852\n",
       "75%       27.094002\n",
       "max       42.283512\n",
       "Name: Gasto_público, dtype: float64"
      ]
     },
     "execution_count": 40,
     "metadata": {},
     "output_type": "execute_result"
    }
   ],
   "source": [
    "Base_final['Gasto_público'].describe()"
   ]
  },
  {
   "cell_type": "markdown",
   "metadata": {},
   "source": [
    "### Tasa Fiscal"
   ]
  },
  {
   "cell_type": "code",
   "execution_count": 41,
   "metadata": {},
   "outputs": [
    {
     "data": {
      "text/plain": [
       "count    294.000000\n",
       "mean      16.127629\n",
       "std        6.051511\n",
       "min        4.413943\n",
       "25%       10.261597\n",
       "50%       16.078596\n",
       "75%       21.830268\n",
       "max       27.226929\n",
       "Name: Tasa_fiscal, dtype: float64"
      ]
     },
     "execution_count": 41,
     "metadata": {},
     "output_type": "execute_result"
    }
   ],
   "source": [
    "Base_final['Tasa_fiscal'].describe()"
   ]
  },
  {
   "cell_type": "markdown",
   "metadata": {},
   "source": [
    "### Reservas"
   ]
  },
  {
   "cell_type": "code",
   "execution_count": 42,
   "metadata": {},
   "outputs": [
    {
     "data": {
      "text/plain": [
       "count    2.940000e+02\n",
       "mean     4.440132e+10\n",
       "std      7.065982e+10\n",
       "min      8.512000e+07\n",
       "25%      1.147301e+09\n",
       "50%      1.052933e+10\n",
       "75%      6.015286e+10\n",
       "max      4.889285e+11\n",
       "Name: Reservas, dtype: float64"
      ]
     },
     "execution_count": 42,
     "metadata": {},
     "output_type": "execute_result"
    }
   ],
   "source": [
    "Base_final['Reservas'].describe()"
   ]
  },
  {
   "cell_type": "markdown",
   "metadata": {},
   "source": [
    "### Tipo de Cambio"
   ]
  },
  {
   "cell_type": "code",
   "execution_count": 43,
   "metadata": {},
   "outputs": [
    {
     "data": {
      "text/plain": [
       "count    294.000000\n",
       "mean      19.567441\n",
       "std       24.735308\n",
       "min        0.499772\n",
       "25%        1.094097\n",
       "50%        3.209600\n",
       "75%       35.425997\n",
       "max      123.638381\n",
       "Name: Tipo_de_cambio, dtype: float64"
      ]
     },
     "execution_count": 43,
     "metadata": {},
     "output_type": "execute_result"
    }
   ],
   "source": [
    "Base_final['Tipo_de_cambio'].describe()"
   ]
  },
  {
   "cell_type": "markdown",
   "metadata": {},
   "source": [
    "### Defaults previos"
   ]
  },
  {
   "cell_type": "code",
   "execution_count": 44,
   "metadata": {},
   "outputs": [
    {
     "data": {
      "text/plain": [
       "count    294.000000\n",
       "mean       0.302721\n",
       "std        0.460219\n",
       "min        0.000000\n",
       "25%        0.000000\n",
       "50%        0.000000\n",
       "75%        1.000000\n",
       "max        1.000000\n",
       "Name: Defaults_prev, dtype: float64"
      ]
     },
     "execution_count": 44,
     "metadata": {},
     "output_type": "execute_result"
    }
   ],
   "source": [
    "Base_final['Defaults_prev'].describe()"
   ]
  },
  {
   "cell_type": "markdown",
   "metadata": {},
   "source": [
    "### Defaults previos rezago de 3 años"
   ]
  },
  {
   "cell_type": "code",
   "execution_count": 45,
   "metadata": {},
   "outputs": [
    {
     "data": {
      "text/plain": [
       "count    294.000000\n",
       "mean       0.367347\n",
       "std        0.482904\n",
       "min        0.000000\n",
       "25%        0.000000\n",
       "50%        0.000000\n",
       "75%        1.000000\n",
       "max        1.000000\n",
       "Name: Default_previo_c_t (3 años), dtype: float64"
      ]
     },
     "execution_count": 45,
     "metadata": {},
     "output_type": "execute_result"
    }
   ],
   "source": [
    "Base_final['Default_previo_c_t (3 años)'].describe()"
   ]
  },
  {
   "cell_type": "markdown",
   "metadata": {},
   "source": [
    "### *Media y varianza de todas las variables*"
   ]
  },
  {
   "cell_type": "code",
   "execution_count": 46,
   "metadata": {},
   "outputs": [
    {
     "data": {
      "text/plain": [
       "Año                            2.000000e+03\n",
       "Deuda                          5.085169e+01\n",
       "Inflacion                      5.644940e+00\n",
       "Gasto_público                  2.187564e+01\n",
       "Tasa_fiscal                    1.612763e+01\n",
       "Reservas                       4.440132e+10\n",
       "Tipo_de_cambio                 1.956744e+01\n",
       "Defaults_prev                  3.027211e-01\n",
       "Default_previo_c_t (3 años)    3.673469e-01\n",
       "dtype: float64"
      ]
     },
     "execution_count": 46,
     "metadata": {},
     "output_type": "execute_result"
    }
   ],
   "source": [
    "Base_final.mean()"
   ]
  },
  {
   "cell_type": "code",
   "execution_count": 47,
   "metadata": {},
   "outputs": [
    {
     "data": {
      "text/plain": [
       "Año                            3.679181e+01\n",
       "Deuda                          1.109419e+03\n",
       "Inflacion                      5.383355e+01\n",
       "Gasto_público                  5.319830e+01\n",
       "Tasa_fiscal                    3.662078e+01\n",
       "Reservas                       4.992810e+21\n",
       "Tipo_de_cambio                 6.118355e+02\n",
       "Defaults_prev                  2.118014e-01\n",
       "Default_previo_c_t (3 años)    2.331964e-01\n",
       "dtype: float64"
      ]
     },
     "execution_count": 47,
     "metadata": {},
     "output_type": "execute_result"
    }
   ],
   "source": [
    "Base_final.var()"
   ]
  },
  {
   "cell_type": "code",
   "execution_count": 48,
   "metadata": {},
   "outputs": [
    {
     "data": {
      "text/plain": [
       "Año                            2.000000e+03\n",
       "Deuda                          5.085169e+01\n",
       "Inflacion                      5.644940e+00\n",
       "Gasto_público                  2.187564e+01\n",
       "Tasa_fiscal                    1.612763e+01\n",
       "Reservas                       4.440132e+10\n",
       "Tipo_de_cambio                 1.956744e+01\n",
       "Defaults_prev                  3.027211e-01\n",
       "Default_previo_c_t (3 años)    3.673469e-01\n",
       "dtype: float64"
      ]
     },
     "execution_count": 48,
     "metadata": {},
     "output_type": "execute_result"
    }
   ],
   "source": [
    "np.mean(Base_final)"
   ]
  },
  {
   "cell_type": "code",
   "execution_count": 49,
   "metadata": {},
   "outputs": [
    {
     "data": {
      "text/plain": [
       "Año                            3.666667e+01\n",
       "Deuda                          1.105645e+03\n",
       "Inflacion                      5.365044e+01\n",
       "Gasto_público                  5.301735e+01\n",
       "Tasa_fiscal                    3.649622e+01\n",
       "Reservas                       4.975828e+21\n",
       "Tipo_de_cambio                 6.097544e+02\n",
       "Defaults_prev                  2.110810e-01\n",
       "Default_previo_c_t (3 años)    2.324032e-01\n",
       "dtype: float64"
      ]
     },
     "execution_count": 49,
     "metadata": {},
     "output_type": "execute_result"
    }
   ],
   "source": [
    "np.var(Base_final, 0)"
   ]
  },
  {
   "cell_type": "code",
   "execution_count": null,
   "metadata": {},
   "outputs": [],
   "source": []
  }
 ],
 "metadata": {
  "kernelspec": {
   "display_name": "Python 3",
   "language": "python",
   "name": "python3"
  },
  "language_info": {
   "codemirror_mode": {
    "name": "ipython",
    "version": 3
   },
   "file_extension": ".py",
   "mimetype": "text/x-python",
   "name": "python",
   "nbconvert_exporter": "python",
   "pygments_lexer": "ipython3",
   "version": "3.7.4"
  }
 },
 "nbformat": 4,
 "nbformat_minor": 2
}
