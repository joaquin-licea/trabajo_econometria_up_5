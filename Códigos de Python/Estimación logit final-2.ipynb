{
 "cells": [
  {
   "cell_type": "markdown",
   "metadata": {},
   "source": [
    "# Estimación del modelo (logit), validación, PEA y APE"
   ]
  },
  {
   "cell_type": "markdown",
   "metadata": {},
   "source": [
    "## 1) Estimación"
   ]
  },
  {
   "cell_type": "code",
   "execution_count": 1,
   "metadata": {},
   "outputs": [],
   "source": [
    "import matplotlib.pyplot as plt\n",
    "plt.style.use('ggplot')\n",
    "import pandas as pd\n",
    "import numpy as np\n",
    "import statsmodels.api as sm"
   ]
  },
  {
   "cell_type": "code",
   "execution_count": 2,
   "metadata": {},
   "outputs": [],
   "source": [
    "## Usar base_final_logit\n",
    "Base_final = pd.read_excel('/Users/carolinasanchez/Desktop/base_final_logit.xlsx')"
   ]
  },
  {
   "cell_type": "code",
   "execution_count": 3,
   "metadata": {},
   "outputs": [],
   "source": [
    "Base_final = Base_final.drop(['Unnamed: 0'], axis=1)"
   ]
  },
  {
   "cell_type": "code",
   "execution_count": 4,
   "metadata": {},
   "outputs": [],
   "source": [
    "Base_final = Base_final.rename(columns={'Defaults prev':'y_binaria'})"
   ]
  },
  {
   "cell_type": "code",
   "execution_count": 5,
   "metadata": {},
   "outputs": [],
   "source": [
    "Base_final = Base_final.join(pd.get_dummies(Base_final['pais']))"
   ]
  },
  {
   "cell_type": "code",
   "execution_count": 6,
   "metadata": {},
   "outputs": [],
   "source": [
    "x_columns = ['Deuda', 'Inflacion', 'Reservas', 'Gasto público', 'Tasa fiscal',  'Tipo de cambio'] + list(Base_final['pais'].unique())"
   ]
  },
  {
   "cell_type": "code",
   "execution_count": 7,
   "metadata": {},
   "outputs": [
    {
     "name": "stdout",
     "output_type": "stream",
     "text": [
      "Warning: Maximum number of iterations has been exceeded.\n",
      "         Current function value: 0.162815\n",
      "         Iterations: 35\n",
      "                           Logit Regression Results                           \n",
      "==============================================================================\n",
      "Dep. Variable:              y_binaria   No. Observations:                  294\n",
      "Model:                          Logit   Df Residuals:                      274\n",
      "Method:                           MLE   Df Model:                           19\n",
      "Date:                Sat, 23 May 2020   Pseudo R-squ.:                  0.7345\n",
      "Time:                        23:44:11   Log-Likelihood:                -47.868\n",
      "converged:                      False   LL-Null:                       -180.27\n",
      "Covariance Type:            nonrobust   LLR p-value:                 3.075e-45\n",
      "==================================================================================\n",
      "                     coef    std err          z      P>|z|      [0.025      0.975]\n",
      "----------------------------------------------------------------------------------\n",
      "const             -9.7554        nan        nan        nan         nan         nan\n",
      "Deuda              0.0986      0.039      2.528      0.011       0.022       0.175\n",
      "Inflacion          0.2781      0.118      2.357      0.018       0.047       0.509\n",
      "Reservas        1.347e-11   1.02e-11      1.322      0.186    -6.5e-12    3.34e-11\n",
      "Gasto público      0.3860      0.150      2.581      0.010       0.093       0.679\n",
      "Tasa fiscal       -0.2242      0.224     -1.003      0.316      -0.662       0.214\n",
      "Tipo de cambio    -0.3445      0.082     -4.217      0.000      -0.505      -0.184\n",
      "Australia        -13.8213        nan        nan        nan         nan         nan\n",
      "Bhutan             9.7144        nan        nan        nan         nan         nan\n",
      "Guatemala          7.7651        nan        nan        nan         nan         nan\n",
      "Iceland           16.3527        nan        nan        nan         nan         nan\n",
      "India              5.8334        nan        nan        nan         nan         nan\n",
      "Jamaica           38.5925        nan        nan        nan         nan         nan\n",
      "Jordan            30.4344        nan        nan        nan         nan         nan\n",
      "Mauritius          7.9243        nan        nan        nan         nan         nan\n",
      "Singapore        -39.5452        nan        nan        nan         nan         nan\n",
      "Switzerland      -15.4322        nan        nan        nan         nan         nan\n",
      "Thailand          13.9281        nan        nan        nan         nan         nan\n",
      "Tunisia           -2.9905        nan        nan        nan         nan         nan\n",
      "United Kingdom   -34.6638        nan        nan        nan         nan         nan\n",
      "United States    -33.8692        nan        nan        nan         nan         nan\n",
      "==================================================================================\n",
      "\n",
      "Possibly complete quasi-separation: A fraction 0.52 of observations can be\n",
      "perfectly predicted. This might indicate that there is complete\n",
      "quasi-separation. In this case some parameters will not be identified.\n"
     ]
    },
    {
     "name": "stderr",
     "output_type": "stream",
     "text": [
      "/Users/carolinasanchez/opt/anaconda3/lib/python3.7/site-packages/numpy/core/fromnumeric.py:2495: FutureWarning: Method .ptp is deprecated and will be removed in a future version. Use numpy.ptp instead.\n",
      "  return ptp(axis=axis, out=out, **kwargs)\n",
      "/Users/carolinasanchez/opt/anaconda3/lib/python3.7/site-packages/statsmodels/base/model.py:512: ConvergenceWarning: Maximum Likelihood optimization failed to converge. Check mle_retvals\n",
      "  \"Check mle_retvals\", ConvergenceWarning)\n",
      "/Users/carolinasanchez/opt/anaconda3/lib/python3.7/site-packages/statsmodels/base/model.py:1286: RuntimeWarning: invalid value encountered in sqrt\n",
      "  bse_ = np.sqrt(np.diag(self.cov_params()))\n",
      "/Users/carolinasanchez/opt/anaconda3/lib/python3.7/site-packages/scipy/stats/_distn_infrastructure.py:901: RuntimeWarning: invalid value encountered in greater\n",
      "  return (a < x) & (x < b)\n",
      "/Users/carolinasanchez/opt/anaconda3/lib/python3.7/site-packages/scipy/stats/_distn_infrastructure.py:901: RuntimeWarning: invalid value encountered in less\n",
      "  return (a < x) & (x < b)\n",
      "/Users/carolinasanchez/opt/anaconda3/lib/python3.7/site-packages/scipy/stats/_distn_infrastructure.py:1892: RuntimeWarning: invalid value encountered in less_equal\n",
      "  cond2 = cond0 & (x <= _a)\n"
     ]
    }
   ],
   "source": [
    "X = Base_final[x_columns]\n",
    "Y = Base_final['y_binaria']\n",
    "X = sm.add_constant(X)\n",
    "model = sm.Logit(Y, X).fit()\n",
    "print(model.summary())"
   ]
  },
  {
   "cell_type": "markdown",
   "metadata": {},
   "source": [
    "## 2) Validación"
   ]
  },
  {
   "cell_type": "code",
   "execution_count": 8,
   "metadata": {},
   "outputs": [
    {
     "name": "stdout",
     "output_type": "stream",
     "text": [
      "Warning: Maximum number of iterations has been exceeded.\n",
      "         Current function value: 0.162815\n",
      "         Iterations: 35\n"
     ]
    },
    {
     "name": "stderr",
     "output_type": "stream",
     "text": [
      "/Users/carolinasanchez/opt/anaconda3/lib/python3.7/site-packages/statsmodels/base/model.py:512: ConvergenceWarning: Maximum Likelihood optimization failed to converge. Check mle_retvals\n",
      "  \"Check mle_retvals\", ConvergenceWarning)\n"
     ]
    }
   ],
   "source": [
    "Y = Base_final['y_binaria']\n",
    "X = X = Base_final[x_columns]\n",
    "X = sm.add_constant(X)\n",
    "model = sm.Logit(Y, X).fit()"
   ]
  },
  {
   "cell_type": "code",
   "execution_count": 9,
   "metadata": {},
   "outputs": [],
   "source": [
    "Y_hat_ps = model.predict(X)"
   ]
  },
  {
   "cell_type": "markdown",
   "metadata": {},
   "source": [
    "### threshold = .5 "
   ]
  },
  {
   "cell_type": "code",
   "execution_count": 10,
   "metadata": {},
   "outputs": [
    {
     "name": "stdout",
     "output_type": "stream",
     "text": [
      "Fitness: 0.9523809523809523\n",
      "89\n",
      "91\n"
     ]
    }
   ],
   "source": [
    "suma_correct = 0\n",
    "suma_y_1 = 0\n",
    "threshold = .5\n",
    "for i in range(294):\n",
    "    true_y = Base_final['y_binaria'][i]\n",
    "    y_hat_p = Y_hat_ps[i]\n",
    "    if y_hat_p >= threshold:\n",
    "        y_hat = 1\n",
    "    else:\n",
    "        y_hat = 0\n",
    "    if true_y == y_hat:\n",
    "        suma_correct +=1\n",
    "    suma_y_1 += y_hat\n",
    "print('Fitness:', suma_correct/294)\n",
    "print(Base_final['y_binaria'].sum())\n",
    "print(suma_y_1)"
   ]
  },
  {
   "cell_type": "markdown",
   "metadata": {},
   "source": [
    "### threshold = success rate "
   ]
  },
  {
   "cell_type": "code",
   "execution_count": 11,
   "metadata": {},
   "outputs": [
    {
     "name": "stdout",
     "output_type": "stream",
     "text": [
      "Fitness: 0.9455782312925171\n",
      "89\n",
      "95\n"
     ]
    }
   ],
   "source": [
    "suma_correct = 0\n",
    "suma_y_1 = 0\n",
    "threshold = Base_final['y_binaria'].sum()/294\n",
    "for i in range(294):\n",
    "    true_y = Base_final['y_binaria'][i]\n",
    "    y_hat_p = Y_hat_ps[i]\n",
    "    if y_hat_p >= threshold:\n",
    "        y_hat = 1\n",
    "    else:\n",
    "        y_hat = 0\n",
    "    if true_y == y_hat:\n",
    "        suma_correct += 1\n",
    "    suma_y_1 += y_hat\n",
    "print('Fitness:', suma_correct/294)\n",
    "print(Base_final['y_binaria'].sum())\n",
    "print(suma_y_1)"
   ]
  },
  {
   "cell_type": "markdown",
   "metadata": {},
   "source": [
    "### threshold=searched(basic boosting)"
   ]
  },
  {
   "cell_type": "code",
   "execution_count": 12,
   "metadata": {},
   "outputs": [],
   "source": [
    "success_rates = []\n",
    "for threshold in np.linspace(0, 1, 100):\n",
    "    suma_correct = 0\n",
    "    suma_y_1 = 0\n",
    "    for i in range(294):\n",
    "        true_y = Base_final['y_binaria'.format][i]\n",
    "        y_hat_p = Y_hat_ps[i]\n",
    "        if y_hat_p >= threshold:\n",
    "            y_hat = 1\n",
    "        else:\n",
    "            y_hat = 0\n",
    "        if true_y == y_hat:\n",
    "            suma_correct += 1\n",
    "        suma_y_1 += y_hat\n",
    "    success_rate = (suma_y_1) / 294\n",
    "    success_rates.append(success_rate)"
   ]
  },
  {
   "cell_type": "code",
   "execution_count": 13,
   "metadata": {},
   "outputs": [
    {
     "data": {
      "image/png": "[encoded data removed]",
      "text/plain": [
       "<Figure size 720x360 with 1 Axes>"
      ]
     },
     "metadata": {
      "needs_background": "light"
     },
     "output_type": "display_data"
    },
    {
     "name": "stdout",
     "output_type": "stream",
     "text": [
      "\n",
      "Done!\n"
     ]
    }
   ],
   "source": [
    "fig = plt.figure(figsize=(10, 5))\n",
    "axis = plt.gca()\n",
    "plt.plot(list(np.linspace(0, 1, 100)), success_rates)\n",
    "plt.axhline(Base_final['y_binaria'.format].sum() / 294, color='red', linewidth=1)\n",
    "plt.xlim(0, 1)\n",
    "fig.tight_layout()\n",
    "plt.show()\n",
    "plt.close(plt.gcf())\n",
    "print('\\nDone!')"
   ]
  },
  {
   "cell_type": "code",
   "execution_count": 14,
   "metadata": {},
   "outputs": [
    {
     "name": "stdout",
     "output_type": "stream",
     "text": [
      "Fitness: 0.9421768707482994\n",
      "89\n",
      "88\n"
     ]
    }
   ],
   "source": [
    "suma_correct = 0\n",
    "suma_y_1 = 0\n",
    "threshold = .55\n",
    "for i in range(294):\n",
    "    true_y = Base_final['y_binaria'][i]\n",
    "    y_hat_p = Y_hat_ps[i]\n",
    "    if y_hat_p >= threshold:\n",
    "        y_hat = 1\n",
    "    else:\n",
    "        y_hat = 0\n",
    "    if true_y == y_hat:\n",
    "        suma_correct +=1\n",
    "    suma_y_1 += y_hat\n",
    "print('Fitness:', suma_correct/294)\n",
    "print(Base_final['y_binaria'].sum())\n",
    "print(suma_y_1)"
   ]
  },
  {
   "cell_type": "markdown",
   "metadata": {},
   "source": [
    "## 3) PEA "
   ]
  },
  {
   "cell_type": "code",
   "execution_count": 15,
   "metadata": {},
   "outputs": [],
   "source": [
    "df=Base_final"
   ]
  },
  {
   "cell_type": "markdown",
   "metadata": {},
   "source": [
    "### *1-.Promediar x*"
   ]
  },
  {
   "cell_type": "code",
   "execution_count": 16,
   "metadata": {},
   "outputs": [
    {
     "name": "stdout",
     "output_type": "stream",
     "text": [
      "50.85168879787015\n"
     ]
    }
   ],
   "source": [
    "media_Deuda = df['Deuda'].mean()\n",
    "print (media_Deuda)"
   ]
  },
  {
   "cell_type": "code",
   "execution_count": 17,
   "metadata": {},
   "outputs": [
    {
     "name": "stdout",
     "output_type": "stream",
     "text": [
      "5.644939619508486\n"
     ]
    }
   ],
   "source": [
    "media_Inf = df['Inflacion'].mean()\n",
    "print (media_Inf)"
   ]
  },
  {
   "cell_type": "code",
   "execution_count": 18,
   "metadata": {},
   "outputs": [
    {
     "name": "stdout",
     "output_type": "stream",
     "text": [
      "21.875635911947423\n"
     ]
    }
   ],
   "source": [
    "media_GP = df['Gasto público'].mean()\n",
    "print (media_GP)"
   ]
  },
  {
   "cell_type": "code",
   "execution_count": 19,
   "metadata": {},
   "outputs": [
    {
     "name": "stdout",
     "output_type": "stream",
     "text": [
      "16.12762861585376\n"
     ]
    }
   ],
   "source": [
    "media_TF = df['Tasa fiscal'].mean()\n",
    "print (media_TF)"
   ]
  },
  {
   "cell_type": "code",
   "execution_count": 20,
   "metadata": {},
   "outputs": [
    {
     "name": "stdout",
     "output_type": "stream",
     "text": [
      "44401321668.920425\n"
     ]
    }
   ],
   "source": [
    "media_Reservas = df['Reservas'].mean()\n",
    "print (media_Reservas)"
   ]
  },
  {
   "cell_type": "code",
   "execution_count": 21,
   "metadata": {},
   "outputs": [
    {
     "name": "stdout",
     "output_type": "stream",
     "text": [
      "19.567440731381136\n"
     ]
    }
   ],
   "source": [
    "media_TC = df['Tipo de cambio'].mean()\n",
    "print (media_TC)"
   ]
  },
  {
   "cell_type": "markdown",
   "metadata": {},
   "source": [
    "### *Otro metodo de sacar los promedios*"
   ]
  },
  {
   "cell_type": "code",
   "execution_count": 22,
   "metadata": {},
   "outputs": [],
   "source": [
    "promedio_deuda = df['Deuda'].sum() / len(df)\n",
    "promedio_inflacion = df['Inflacion'].sum() / len(df)\n",
    "promedio_GP = df['Gasto público'].sum() / len(df)\n",
    "promedio_TF = df['Tasa fiscal'].sum() / len(df)\n",
    "promedio_Reservas = df['Reservas'].sum() / len(df)\n",
    "promedio_TC = df['Tipo de cambio'].sum() / len(df)"
   ]
  },
  {
   "cell_type": "code",
   "execution_count": 23,
   "metadata": {},
   "outputs": [],
   "source": [
    "results = model"
   ]
  },
  {
   "cell_type": "code",
   "execution_count": 24,
   "metadata": {},
   "outputs": [
    {
     "data": {
      "text/plain": [
       "['__class__',\n",
       " '__delattr__',\n",
       " '__dict__',\n",
       " '__dir__',\n",
       " '__doc__',\n",
       " '__eq__',\n",
       " '__format__',\n",
       " '__ge__',\n",
       " '__getattribute__',\n",
       " '__getstate__',\n",
       " '__gt__',\n",
       " '__hash__',\n",
       " '__init__',\n",
       " '__init_subclass__',\n",
       " '__le__',\n",
       " '__lt__',\n",
       " '__module__',\n",
       " '__ne__',\n",
       " '__new__',\n",
       " '__reduce__',\n",
       " '__reduce_ex__',\n",
       " '__repr__',\n",
       " '__setattr__',\n",
       " '__sizeof__',\n",
       " '__str__',\n",
       " '__subclasshook__',\n",
       " '__weakref__',\n",
       " '_cache',\n",
       " '_data_attr',\n",
       " '_get_endog_name',\n",
       " '_get_robustcov_results',\n",
       " 'aic',\n",
       " 'bic',\n",
       " 'bse',\n",
       " 'conf_int',\n",
       " 'cov_kwds',\n",
       " 'cov_params',\n",
       " 'cov_type',\n",
       " 'df_model',\n",
       " 'df_resid',\n",
       " 'f_test',\n",
       " 'fittedvalues',\n",
       " 'get_margeff',\n",
       " 'initialize',\n",
       " 'k_constant',\n",
       " 'llf',\n",
       " 'llnull',\n",
       " 'llr',\n",
       " 'llr_pvalue',\n",
       " 'load',\n",
       " 'mle_retvals',\n",
       " 'mle_settings',\n",
       " 'model',\n",
       " 'nobs',\n",
       " 'normalized_cov_params',\n",
       " 'params',\n",
       " 'pred_table',\n",
       " 'predict',\n",
       " 'prsquared',\n",
       " 'pvalues',\n",
       " 'remove_data',\n",
       " 'resid_dev',\n",
       " 'resid_generalized',\n",
       " 'resid_pearson',\n",
       " 'resid_response',\n",
       " 'save',\n",
       " 'scale',\n",
       " 'set_null_options',\n",
       " 'summary',\n",
       " 'summary2',\n",
       " 't_test',\n",
       " 't_test_pairwise',\n",
       " 'tvalues',\n",
       " 'use_t',\n",
       " 'wald_test',\n",
       " 'wald_test_terms']"
      ]
     },
     "execution_count": 24,
     "metadata": {},
     "output_type": "execute_result"
    }
   ],
   "source": [
    "dir(results)"
   ]
  },
  {
   "cell_type": "code",
   "execution_count": 25,
   "metadata": {},
   "outputs": [
    {
     "data": {
      "text/plain": [
       "const            -9.755437e+00\n",
       "Deuda             9.859366e-02\n",
       "Inflacion         2.780588e-01\n",
       "Reservas          1.346530e-11\n",
       "Gasto público     3.859946e-01\n",
       "Tasa fiscal      -2.242281e-01\n",
       "Tipo de cambio   -3.445464e-01\n",
       "Australia        -1.382131e+01\n",
       "Bhutan            9.714359e+00\n",
       "Guatemala         7.765073e+00\n",
       "Iceland           1.635271e+01\n",
       "India             5.833430e+00\n",
       "Jamaica           3.859249e+01\n",
       "Jordan            3.043443e+01\n",
       "Mauritius         7.924271e+00\n",
       "Singapore        -3.954517e+01\n",
       "Switzerland      -1.543219e+01\n",
       "Thailand          1.392814e+01\n",
       "Tunisia          -2.990541e+00\n",
       "United Kingdom   -3.466379e+01\n",
       "United States    -3.386925e+01\n",
       "dtype: float64"
      ]
     },
     "execution_count": 25,
     "metadata": {},
     "output_type": "execute_result"
    }
   ],
   "source": [
    "results.params"
   ]
  },
  {
   "cell_type": "code",
   "execution_count": 27,
   "metadata": {},
   "outputs": [],
   "source": [
    "df_betas =pd.DataFrame(results.params)"
   ]
  },
  {
   "cell_type": "code",
   "execution_count": 28,
   "metadata": {},
   "outputs": [
    {
     "data": {
      "text/plain": [
       "0   -9.755437\n",
       "Name: const, dtype: float64"
      ]
     },
     "execution_count": 28,
     "metadata": {},
     "output_type": "execute_result"
    }
   ],
   "source": [
    "df_betas.loc['const']"
   ]
  },
  {
   "cell_type": "code",
   "execution_count": 31,
   "metadata": {},
   "outputs": [],
   "source": [
    "def sigmoide_G(x):\n",
    "    rv = 1 / (1 + np.exp(-x)) \n",
    "    return rv"
   ]
  },
  {
   "cell_type": "markdown",
   "metadata": {},
   "source": [
    "### PEA Deuda"
   ]
  },
  {
   "cell_type": "code",
   "execution_count": 32,
   "metadata": {},
   "outputs": [],
   "source": [
    "cambio_deuda= .25"
   ]
  },
  {
   "cell_type": "code",
   "execution_count": 33,
   "metadata": {},
   "outputs": [
    {
     "data": {
      "text/plain": [
       "0    0.000274\n",
       "dtype: float64"
      ]
     },
     "execution_count": 33,
     "metadata": {},
     "output_type": "execute_result"
    }
   ],
   "source": [
    "(sigmoide_G(df_betas.loc['const'] + df_betas.loc['Deuda']*promedio_deuda+ df_betas.loc['Inflacion']*promedio_inflacion + df_betas.loc['Gasto público']*promedio_GP + df_betas.loc['Tasa fiscal']*promedio_TF + df_betas.loc['Tipo de cambio']* promedio_TC + df_betas.loc['Reservas'] * promedio_Reservas)*(df_betas.loc['Deuda']))*cambio_deuda"
   ]
  },
  {
   "cell_type": "markdown",
   "metadata": {},
   "source": [
    "### PEA Gasto público"
   ]
  },
  {
   "cell_type": "code",
   "execution_count": 34,
   "metadata": {},
   "outputs": [],
   "source": [
    "cambio_Gp = 0.6"
   ]
  },
  {
   "cell_type": "code",
   "execution_count": 35,
   "metadata": {},
   "outputs": [
    {
     "data": {
      "text/plain": [
       "0    0.002573\n",
       "dtype: float64"
      ]
     },
     "execution_count": 35,
     "metadata": {},
     "output_type": "execute_result"
    }
   ],
   "source": [
    "(sigmoide_G(df_betas.loc['const'] + df_betas.loc['Deuda']*promedio_deuda+ df_betas.loc['Inflacion']*promedio_inflacion + df_betas.loc['Gasto público']*promedio_GP + df_betas.loc['Tasa fiscal']*promedio_TF + df_betas.loc['Tipo de cambio']* promedio_TC + df_betas.loc['Reservas'] * promedio_Reservas)*(df_betas.loc['Gasto público']))*cambio_Gp"
   ]
  },
  {
   "cell_type": "markdown",
   "metadata": {},
   "source": [
    "### PEA Inflación"
   ]
  },
  {
   "cell_type": "code",
   "execution_count": 36,
   "metadata": {},
   "outputs": [],
   "source": [
    "cambio_Inf = 0.99"
   ]
  },
  {
   "cell_type": "code",
   "execution_count": 37,
   "metadata": {},
   "outputs": [
    {
     "data": {
      "text/plain": [
       "0    0.003059\n",
       "dtype: float64"
      ]
     },
     "execution_count": 37,
     "metadata": {},
     "output_type": "execute_result"
    }
   ],
   "source": [
    "(sigmoide_G(df_betas.loc['const'] + df_betas.loc['Deuda']*promedio_deuda+ df_betas.loc['Inflacion']*promedio_inflacion + df_betas.loc['Gasto público']*promedio_GP + df_betas.loc['Tasa fiscal']*promedio_TF + df_betas.loc['Tipo de cambio']* promedio_TC + df_betas.loc['Reservas'] * promedio_Reservas)*(df_betas.loc['Inflacion']))*cambio_Inf"
   ]
  },
  {
   "cell_type": "markdown",
   "metadata": {},
   "source": [
    "### PEA Tasa fiscal"
   ]
  },
  {
   "cell_type": "code",
   "execution_count": 38,
   "metadata": {},
   "outputs": [],
   "source": [
    "cambio_TF = 0.6"
   ]
  },
  {
   "cell_type": "code",
   "execution_count": 39,
   "metadata": {},
   "outputs": [
    {
     "data": {
      "text/plain": [
       "0   -0.001495\n",
       "dtype: float64"
      ]
     },
     "execution_count": 39,
     "metadata": {},
     "output_type": "execute_result"
    }
   ],
   "source": [
    "(sigmoide_G(df_betas.loc['const'] + df_betas.loc['Deuda']*promedio_deuda+ df_betas.loc['Inflacion']*promedio_inflacion + df_betas.loc['Gasto público']*promedio_GP + df_betas.loc['Tasa fiscal']*promedio_TF + df_betas.loc['Tipo de cambio']* promedio_TC + df_betas.loc['Reservas'] * promedio_Reservas)*(df_betas.loc['Tasa fiscal']))*cambio_TF"
   ]
  },
  {
   "cell_type": "markdown",
   "metadata": {},
   "source": [
    "### PEA Tipo de cambio"
   ]
  },
  {
   "cell_type": "code",
   "execution_count": 40,
   "metadata": {},
   "outputs": [],
   "source": [
    "cambio_TC = 0.45"
   ]
  },
  {
   "cell_type": "code",
   "execution_count": 41,
   "metadata": {},
   "outputs": [
    {
     "data": {
      "text/plain": [
       "0   -0.001723\n",
       "dtype: float64"
      ]
     },
     "execution_count": 41,
     "metadata": {},
     "output_type": "execute_result"
    }
   ],
   "source": [
    "(sigmoide_G(df_betas.loc['const'] + df_betas.loc['Deuda']*promedio_deuda+ df_betas.loc['Inflacion']*promedio_inflacion + df_betas.loc['Gasto público']*promedio_GP + df_betas.loc['Tasa fiscal']*promedio_TF + df_betas.loc['Tipo de cambio']* promedio_TC + df_betas.loc['Reservas'] * promedio_Reservas)*(df_betas.loc['Tipo de cambio']))*cambio_TC"
   ]
  },
  {
   "cell_type": "markdown",
   "metadata": {},
   "source": [
    "### PEA Reservas"
   ]
  },
  {
   "cell_type": "code",
   "execution_count": 50,
   "metadata": {},
   "outputs": [],
   "source": [
    "cambio_reservas = 0.90"
   ]
  },
  {
   "cell_type": "code",
   "execution_count": 51,
   "metadata": {},
   "outputs": [
    {
     "data": {
      "text/plain": [
       "0    1.346629e-13\n",
       "dtype: float64"
      ]
     },
     "execution_count": 51,
     "metadata": {},
     "output_type": "execute_result"
    }
   ],
   "source": [
    " (sigmoide_G(df_betas.loc['const'] + df_betas.loc['Deuda']*promedio_deuda+ df_betas.loc['Inflacion']*promedio_inflacion + df_betas.loc['Gasto público']*promedio_GP + df_betas.loc['Tasa fiscal']*promedio_TF + df_betas.loc['Tipo de cambio']* promedio_TC + df_betas.loc['Reservas'] * promedio_Reservas)*(df_betas.loc['Reservas']))*cambio_reservas"
   ]
  },
  {
   "cell_type": "code",
   "execution_count": 42,
   "metadata": {},
   "outputs": [
    {
     "name": "stdout",
     "output_type": "stream",
     "text": [
      "        Logit Marginal Effects       \n",
      "=====================================\n",
      "Dep. Variable:              y_binaria\n",
      "Method:                          dydx\n",
      "At:                              mean\n",
      "==================================================================================\n",
      "                    dy/dx    std err          z      P>|z|      [0.025      0.975]\n",
      "----------------------------------------------------------------------------------\n",
      "Deuda              0.0005    711.106   7.66e-07      1.000   -1393.741    1393.742\n",
      "Inflacion          0.0015   2005.496   7.66e-07      1.000   -3930.699    3930.702\n",
      "Reservas        7.442e-14   9.71e-08   7.66e-07      1.000    -1.9e-07     1.9e-07\n",
      "Gasto público      0.0021   2783.983   7.66e-07      1.000   -5456.504    5456.508\n",
      "Tasa fiscal       -0.0012   1617.243  -7.66e-07      1.000   -3169.740    3169.737\n",
      "Tipo de cambio    -0.0019   2485.038  -7.66e-07      1.000   -4870.587    4870.583\n",
      "Australia         -0.0764   6180.379  -1.24e-05      1.000   -1.21e+04    1.21e+04\n",
      "Bhutan             0.0537        nan        nan        nan         nan         nan\n",
      "Guatemala          0.0429        nan        nan        nan         nan         nan\n",
      "Iceland            0.0904   6.35e+04   1.42e-06      1.000   -1.24e+05    1.24e+05\n",
      "India              0.0322        nan        nan        nan         nan         nan\n",
      "Jamaica            0.2133    2.6e+05    8.2e-07      1.000    -5.1e+05     5.1e+05\n",
      "Jordan             0.1682   2.77e+05   6.07e-07      1.000   -5.43e+05    5.43e+05\n",
      "Mauritius          0.0438        nan        nan        nan         nan         nan\n",
      "Singapore         -0.2186   2.39e+05  -9.15e-07      1.000   -4.68e+05    4.68e+05\n",
      "Switzerland       -0.0853   5.01e+04   -1.7e-06      1.000   -9.83e+04    9.83e+04\n",
      "Thailand           0.0770   1.45e+04   5.31e-06      1.000   -2.84e+04    2.84e+04\n",
      "Tunisia           -0.0165        nan        nan        nan         nan         nan\n",
      "United Kingdom    -0.1916   2.29e+05  -8.35e-07      1.000   -4.49e+05    4.49e+05\n",
      "United States     -0.1872   2.23e+05  -8.39e-07      1.000   -4.37e+05    4.37e+05\n",
      "==================================================================================\n"
     ]
    },
    {
     "name": "stderr",
     "output_type": "stream",
     "text": [
      "/Users/carolinasanchez/opt/anaconda3/lib/python3.7/site-packages/statsmodels/discrete/discrete_margins.py:343: RuntimeWarning: invalid value encountered in sqrt\n",
      "  return cov_me, np.sqrt(np.diag(cov_me))\n"
     ]
    }
   ],
   "source": [
    "print(model.get_margeff(at = 'mean').summary())"
   ]
  },
  {
   "cell_type": "markdown",
   "metadata": {},
   "source": [
    "## 4) APE"
   ]
  },
  {
   "cell_type": "code",
   "execution_count": 43,
   "metadata": {},
   "outputs": [
    {
     "name": "stdout",
     "output_type": "stream",
     "text": [
      "APE         Logit Marginal Effects       \n",
      "=====================================\n",
      "Dep. Variable:              y_binaria\n",
      "Method:                          dydx\n",
      "At:                           overall\n",
      "==================================================================================\n",
      "                    dy/dx    std err          z      P>|z|      [0.025      0.975]\n",
      "----------------------------------------------------------------------------------\n",
      "Deuda              0.0051      0.002      2.697      0.007       0.001       0.009\n",
      "Inflacion          0.0144      0.006      2.422      0.015       0.003       0.026\n",
      "Reservas        6.956e-13   5.14e-13      1.352      0.176   -3.13e-13     1.7e-12\n",
      "Gasto público      0.0199      0.007      2.878      0.004       0.006       0.034\n",
      "Tasa fiscal       -0.0116      0.011     -1.017      0.309      -0.034       0.011\n",
      "Tipo de cambio    -0.0178      0.003     -5.584      0.000      -0.024      -0.012\n",
      "Australia         -0.7140        nan        nan        nan         nan         nan\n",
      "Bhutan             0.5019        nan        nan        nan         nan         nan\n",
      "Guatemala          0.4012        nan        nan        nan         nan         nan\n",
      "Iceland            0.8448        nan        nan        nan         nan         nan\n",
      "India              0.3014        nan        nan        nan         nan         nan\n",
      "Jamaica            1.9937        nan        nan        nan         nan         nan\n",
      "Jordan             1.5723        nan        nan        nan         nan         nan\n",
      "Mauritius          0.4094        nan        nan        nan         nan         nan\n",
      "Singapore         -2.0430        nan        nan        nan         nan         nan\n",
      "Switzerland       -0.7973        nan        nan        nan         nan         nan\n",
      "Thailand           0.7195        nan        nan        nan         nan         nan\n",
      "Tunisia           -0.1545        nan        nan        nan         nan         nan\n",
      "United Kingdom    -1.7908        nan        nan        nan         nan         nan\n",
      "United States     -1.7497        nan        nan        nan         nan         nan\n",
      "==================================================================================\n"
     ]
    }
   ],
   "source": [
    "print ('APE',model.get_margeff().summary())"
   ]
  },
  {
   "cell_type": "code",
   "execution_count": null,
   "metadata": {},
   "outputs": [],
   "source": []
  }
 ],
 "metadata": {
  "kernelspec": {
   "display_name": "Python 3",
   "language": "python",
   "name": "python3"
  },
  "language_info": {
   "codemirror_mode": {
    "name": "ipython",
    "version": 3
   },
   "file_extension": ".py",
   "mimetype": "text/x-python",
   "name": "python",
   "nbconvert_exporter": "python",
   "pygments_lexer": "ipython3",
   "version": "3.7.4"
  }
 },
 "nbformat": 4,
 "nbformat_minor": 2
}
