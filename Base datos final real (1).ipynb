{
 "cells": [
  {
   "cell_type": "markdown",
   "metadata": {},
   "source": [
    "# Construcción de la base de datos"
   ]
  },
  {
   "cell_type": "markdown",
   "metadata": {},
   "source": [
    "### 1) *Importar los datos*"
   ]
  },
  {
   "cell_type": "code",
   "execution_count": 73,
   "metadata": {},
   "outputs": [],
   "source": [
    "import wbdata"
   ]
  },
  {
   "cell_type": "code",
   "execution_count": 2,
   "metadata": {},
   "outputs": [],
   "source": [
    "wb_regions = ['Arab World', 'Caribbean small states',\n",
    "              'Central Europe and the Baltics', 'Early-demographic dividend',\n",
    "              'East Asia & Pacific', 'East Asia & Pacific (excluding high income)',\n",
    "              'East Asia & Pacific (IDA & IBRD countries)',\n",
    "              'Euro area', 'Europe & Central Asia',\n",
    "              'Europe & Central Asia (excluding high income)',\n",
    "              'Europe & Central Asia (IDA & IBRD countries)',\n",
    "              'European Union',\n",
    "              'Fragile and conflict affected situations',\n",
    "              'Heavily indebted poor countries (HIPC)',\n",
    "              'High income',\n",
    "              'IBRD only',\n",
    "              'IDA & IBRD total',\n",
    "              'IDA blend',\n",
    "              'IDA only',\n",
    "              'IDA total',\n",
    "              'Late-demographic dividend',\n",
    "              'Latin America & Caribbean',\n",
    "              'Latin America & Caribbean (excluding high income)',\n",
    "              'Latin America & the Caribbean (IDA & IBRD countries)',\n",
    "              'Least developed countries',\n",
    "              'Least developed countries: UN classification',\n",
    "              'Low & middle income',\n",
    "              'Low income',\n",
    "              'Lower middle income',\n",
    "              'Middle East & North Africa',\n",
    "              'Middle East & North Africa (excluding high income)',\n",
    "              'Middle East & North Africa (IDA & IBRD countries)',\n",
    "              'Middle income',\n",
    "              'North America',\n",
    "              'Not classified',\n",
    "              'OECD members',\n",
    "              'Other small states',\n",
    "              'Pacific island small states',\n",
    "              'Post-demographic dividend',\n",
    "              'Pre-demographic dividend',\n",
    "              'Small states',\n",
    "              'South Asia',\n",
    "              'South Asia (IDA & IBRD)',\n",
    "              'Sub-Saharan Africa',\n",
    "              'Sub-Saharan Africa (excluding high income)',\n",
    "              'Sub-Saharan Africa (IDA & IBRD countries)',\n",
    "              'Upper middle income',\n",
    "              'World']"
   ]
  },
  {
   "cell_type": "code",
   "execution_count": 3,
   "metadata": {},
   "outputs": [],
   "source": [
    "import matplotlib.pyplot as plt\n",
    "plt.style.use('ggplot')\n",
    "import pandas as pd\n",
    "import numpy as np\n",
    "import statsmodels.api as sm"
   ]
  },
  {
   "cell_type": "markdown",
   "metadata": {},
   "source": [
    "### 2) *Definir  y limpiar las Variables*"
   ]
  },
  {
   "cell_type": "code",
   "execution_count": 4,
   "metadata": {},
   "outputs": [],
   "source": [
    "Governmentdebt_raw = wbdata.get_data(\"GC.DOD.TOTL.GD.ZS\")"
   ]
  },
  {
   "cell_type": "code",
   "execution_count": 5,
   "metadata": {},
   "outputs": [],
   "source": [
    "Inflation_raw = wbdata.get_data(\"FP.CPI.TOTL.ZG\")"
   ]
  },
  {
   "cell_type": "code",
   "execution_count": 6,
   "metadata": {},
   "outputs": [],
   "source": [
    "Expense_raw = wbdata.get_data(\"GC.XPN.TOTL.GD.ZS\")"
   ]
  },
  {
   "cell_type": "code",
   "execution_count": 7,
   "metadata": {},
   "outputs": [],
   "source": [
    "Tax_raw = wbdata.get_data(\"GC.TAX.TOTL.GD.ZS\")"
   ]
  },
  {
   "cell_type": "code",
   "execution_count": 8,
   "metadata": {},
   "outputs": [],
   "source": [
    "Reserves_raw = wbdata.get_data(\"FI.RES.TOTL.CD\")"
   ]
  },
  {
   "cell_type": "code",
   "execution_count": 9,
   "metadata": {},
   "outputs": [],
   "source": [
    "Officialexchange_raw = wbdata.get_data(\"PA.NUS.FCRF\")"
   ]
  },
  {
   "cell_type": "code",
   "execution_count": 10,
   "metadata": {},
   "outputs": [],
   "source": [
    "Interestrate_raw = wbdata.get_data(\"FR.INR.RINR\")"
   ]
  },
  {
   "cell_type": "code",
   "execution_count": 11,
   "metadata": {},
   "outputs": [],
   "source": [
    "Unemployment_raw = wbdata.get_data(\"SL.UEM.TOTL.ZS\")"
   ]
  },
  {
   "cell_type": "code",
   "execution_count": 65,
   "metadata": {},
   "outputs": [],
   "source": [
    "def wb_clean_year_data(wb_raw, year):\n",
    "    rv = {}\n",
    "    for X in wb_raw:\n",
    "        date = X['date']\n",
    "        country = X['country']['value']\n",
    "        if date == year and country not in wb_regions:\n",
    "            try:\n",
    "                value = float(X['value'])\n",
    "                rv[country] = value\n",
    "            except:\n",
    "                pass\n",
    "    return rv"
   ]
  },
  {
   "cell_type": "code",
   "execution_count": 66,
   "metadata": {},
   "outputs": [],
   "source": [
    "def wb_dict_to_dataframe(dict_clean, nombre_variable, año):\n",
    "    df = pd.DataFrame({'pais': list(dict_clean.keys()),\n",
    "                       nombre_variable: list(dict_clean.values()),\n",
    "                       'año': [año] * len(dict_clean)})\n",
    "    return df"
   ]
  },
  {
   "cell_type": "markdown",
   "metadata": {},
   "source": [
    "### 3) *Obtenemos las variables limpias*"
   ]
  },
  {
   "cell_type": "code",
   "execution_count": 67,
   "metadata": {},
   "outputs": [],
   "source": [
    "variables=['GC.DOD.TOTL.GD.ZS','FP.CPI.TOTL.ZG','GC.XPN.TOTL.GD.ZS','GC.TAX.TOTL.GD.ZS','FI.RES.TOTL.CD','PA.NUS.FCRF','FR.INR.RINR','SL.UEM.TOTL.ZS']"
   ]
  },
  {
   "cell_type": "code",
   "execution_count": 68,
   "metadata": {},
   "outputs": [],
   "source": [
    "Governmentdebt_raw = wbdata.get_data(\"GC.DOD.TOTL.GD.ZS\")\n",
    "Inflation_raw = wbdata.get_data(\"FP.CPI.TOTL.ZG\")\n",
    "Expense_raw = wbdata.get_data(\"GC.XPN.TOTL.GD.ZS\")\n",
    "Tax_raw = wbdata.get_data(\"GC.TAX.TOTL.GD.ZS\")\n",
    "Reserves_raw = wbdata.get_data(\"FI.RES.TOTL.CD\")\n",
    "Officialexchange_raw = wbdata.get_data(\"PA.NUS.FCRF\")\n",
    "Interestrate_raw = wbdata.get_data(\"FR.INR.RINR\")\n",
    "Unemployment_raw = wbdata.get_data(\"SL.UEM.TOTL.ZS\")"
   ]
  },
  {
   "cell_type": "code",
   "execution_count": 69,
   "metadata": {},
   "outputs": [],
   "source": [
    "raw_lists = {'Deuda': Governmentdebt_raw,\n",
    "             'Inflacion': Inflation_raw,\n",
    "             'Gasto público': Expense_raw,\n",
    "             'Tasa fiscal': Tax_raw,\n",
    "             'Reservas':Reserves_raw,\n",
    "             'Tipo de cambio':Officialexchange_raw,\n",
    "             'Tasa de interes':Interestrate_raw,}\n",
    "            "
   ]
  },
  {
   "cell_type": "code",
   "execution_count": 70,
   "metadata": {},
   "outputs": [],
   "source": [
    "for año in range(1989, 2011):\n",
    "    dfs_año = []\n",
    "    for k, v in raw_lists.items():\n",
    "        v_clean = wb_clean_year_data(v, str(año))\n",
    "        df = wb_dict_to_dataframe(v_clean, k, str(año))\n",
    "        dfs_año.append(df)\n",
    "    if año == 1989:\n",
    "        for i, df in enumerate(dfs_año):\n",
    "            if i == 0:\n",
    "                df_año = df.merge(dfs_año[i + 1], on=['pais', 'año'])\n",
    "            else:\n",
    "                try:\n",
    "                    df_año = df_año.merge(dfs_año[i + 1], on=['pais', 'año'])\n",
    "                except:\n",
    "                    pass\n",
    "    else:\n",
    "        for i, df in enumerate(dfs_año):\n",
    "            if i == 0:\n",
    "                df_otros_años = df.merge(dfs_año[i + 1], on=['pais', 'año'])\n",
    "            else:\n",
    "                try:\n",
    "                    df_otros_años = df_otros_años.merge(dfs_año[i + 1], on=['pais', 'año'])\n",
    "                except:\n",
    "                    pass\n",
    "        df_año = df_año.append(df_otros_años, ignore_index=True,)"
   ]
  },
  {
   "cell_type": "code",
   "execution_count": 71,
   "metadata": {},
   "outputs": [
    {
     "data": {
      "text/plain": [
       "array(['1989', '1990', '1991', '1992', '1993', '1994', '1995', '1996',\n",
       "       '1997', '1998', '1999', '2000', '2001', '2002', '2003', '2004',\n",
       "       '2005', '2006', '2007', '2008', '2009', '2010'], dtype=object)"
      ]
     },
     "execution_count": 71,
     "metadata": {},
     "output_type": "execute_result"
    }
   ],
   "source": [
    "df_año['año'].unique()"
   ]
  },
  {
   "cell_type": "code",
   "execution_count": 72,
   "metadata": {},
   "outputs": [
    {
     "data": {
      "text/plain": [
       "United States          22\n",
       "Mauritius              21\n",
       "United Kingdom         21\n",
       "Bhutan                 21\n",
       "India                  21\n",
       "                       ..\n",
       "Trinidad and Tobago     2\n",
       "Korea, Rep.             2\n",
       "Malawi                  2\n",
       "Egypt, Arab Rep.        1\n",
       "Zambia                  1\n",
       "Name: pais, Length: 63, dtype: int64"
      ]
     },
     "execution_count": 72,
     "metadata": {},
     "output_type": "execute_result"
    }
   ],
   "source": [
    "df_año ['pais'].value_counts()"
   ]
  },
  {
   "cell_type": "markdown",
   "metadata": {},
   "source": [
    "### 4) *Balanceamos la base de datos*"
   ]
  },
  {
   "cell_type": "code",
   "execution_count": 24,
   "metadata": {},
   "outputs": [],
   "source": [
    "paises_buenos = []\n",
    "for country, counts in dict(df_año['pais'].value_counts()).items():\n",
    "    if counts >= 21:\n",
    "        paises_buenos.append(country)"
   ]
  },
  {
   "cell_type": "code",
   "execution_count": 25,
   "metadata": {},
   "outputs": [],
   "source": [
    "df_año_paises_buenos = df_año.loc[df_año['pais'].isin(paises_buenos)]"
   ]
  },
  {
   "cell_type": "code",
   "execution_count": 26,
   "metadata": {},
   "outputs": [],
   "source": [
    "df_año_paises_buenos = df_año_paises_buenos.loc[df_año_paises_buenos['año']!=\"1989\"]"
   ]
  },
  {
   "cell_type": "code",
   "execution_count": 27,
   "metadata": {},
   "outputs": [
    {
     "data": {
      "text/plain": [
       "Bhutan            21\n",
       "India             21\n",
       "Jamaica           21\n",
       "United Kingdom    21\n",
       "United States     21\n",
       "Iceland           21\n",
       "Australia         21\n",
       "Singapore         21\n",
       "Mauritius         21\n",
       "Name: pais, dtype: int64"
      ]
     },
     "execution_count": 27,
     "metadata": {},
     "output_type": "execute_result"
    }
   ],
   "source": [
    "df_año_paises_buenos ['pais'].value_counts()"
   ]
  },
  {
   "cell_type": "code",
   "execution_count": 43,
   "metadata": {},
   "outputs": [
    {
     "data": {
      "text/html": [
       "<div>\n",
       "<style scoped>\n",
       "    .dataframe tbody tr th:only-of-type {\n",
       "        vertical-align: middle;\n",
       "    }\n",
       "\n",
       "    .dataframe tbody tr th {\n",
       "        vertical-align: top;\n",
       "    }\n",
       "\n",
       "    .dataframe thead th {\n",
       "        text-align: right;\n",
       "    }\n",
       "</style>\n",
       "<table border=\"1\" class=\"dataframe\">\n",
       "  <thead>\n",
       "    <tr style=\"text-align: right;\">\n",
       "      <th></th>\n",
       "      <th>pais</th>\n",
       "      <th>Deuda</th>\n",
       "      <th>año</th>\n",
       "      <th>Inflacion</th>\n",
       "      <th>Gasto público</th>\n",
       "      <th>Tasa fiscal</th>\n",
       "      <th>Reservas</th>\n",
       "      <th>Tipo de cambio</th>\n",
       "      <th>Tasa de interes</th>\n",
       "    </tr>\n",
       "  </thead>\n",
       "  <tbody>\n",
       "    <tr>\n",
       "      <td>1</td>\n",
       "      <td>Australia</td>\n",
       "      <td>12.253160</td>\n",
       "      <td>1990</td>\n",
       "      <td>7.333022</td>\n",
       "      <td>21.861559</td>\n",
       "      <td>22.476879</td>\n",
       "      <td>1.931874e+10</td>\n",
       "      <td>1.281057</td>\n",
       "      <td>9.669791</td>\n",
       "    </tr>\n",
       "    <tr>\n",
       "      <td>4</td>\n",
       "      <td>Bhutan</td>\n",
       "      <td>51.188019</td>\n",
       "      <td>1990</td>\n",
       "      <td>10.000000</td>\n",
       "      <td>20.557124</td>\n",
       "      <td>4.413943</td>\n",
       "      <td>8.883421e+07</td>\n",
       "      <td>17.505325</td>\n",
       "      <td>8.789378</td>\n",
       "    </tr>\n",
       "    <tr>\n",
       "      <td>7</td>\n",
       "      <td>Iceland</td>\n",
       "      <td>29.869468</td>\n",
       "      <td>1990</td>\n",
       "      <td>15.510722</td>\n",
       "      <td>29.377902</td>\n",
       "      <td>23.472225</td>\n",
       "      <td>4.549824e+08</td>\n",
       "      <td>58.283775</td>\n",
       "      <td>0.878499</td>\n",
       "    </tr>\n",
       "    <tr>\n",
       "      <td>8</td>\n",
       "      <td>India</td>\n",
       "      <td>50.783254</td>\n",
       "      <td>1990</td>\n",
       "      <td>8.971233</td>\n",
       "      <td>15.484217</td>\n",
       "      <td>9.993591</td>\n",
       "      <td>5.637446e+09</td>\n",
       "      <td>17.503500</td>\n",
       "      <td>5.269527</td>\n",
       "    </tr>\n",
       "    <tr>\n",
       "      <td>10</td>\n",
       "      <td>Jamaica</td>\n",
       "      <td>138.741328</td>\n",
       "      <td>1990</td>\n",
       "      <td>21.960175</td>\n",
       "      <td>22.642856</td>\n",
       "      <td>23.486431</td>\n",
       "      <td>1.681553e+08</td>\n",
       "      <td>7.184025</td>\n",
       "      <td>4.302951</td>\n",
       "    </tr>\n",
       "    <tr>\n",
       "      <td>...</td>\n",
       "      <td>...</td>\n",
       "      <td>...</td>\n",
       "      <td>...</td>\n",
       "      <td>...</td>\n",
       "      <td>...</td>\n",
       "      <td>...</td>\n",
       "      <td>...</td>\n",
       "      <td>...</td>\n",
       "      <td>...</td>\n",
       "    </tr>\n",
       "    <tr>\n",
       "      <td>284</td>\n",
       "      <td>Mauritius</td>\n",
       "      <td>32.117443</td>\n",
       "      <td>2000</td>\n",
       "      <td>4.199288</td>\n",
       "      <td>20.092293</td>\n",
       "      <td>16.953664</td>\n",
       "      <td>9.143661e+08</td>\n",
       "      <td>26.249558</td>\n",
       "      <td>16.788430</td>\n",
       "    </tr>\n",
       "    <tr>\n",
       "      <td>291</td>\n",
       "      <td>Singapore</td>\n",
       "      <td>83.842292</td>\n",
       "      <td>2000</td>\n",
       "      <td>1.361624</td>\n",
       "      <td>15.716732</td>\n",
       "      <td>14.855789</td>\n",
       "      <td>8.108498e+10</td>\n",
       "      <td>1.723963</td>\n",
       "      <td>1.897404</td>\n",
       "    </tr>\n",
       "    <tr>\n",
       "      <td>297</td>\n",
       "      <td>United Kingdom</td>\n",
       "      <td>42.607454</td>\n",
       "      <td>2000</td>\n",
       "      <td>1.182956</td>\n",
       "      <td>32.251054</td>\n",
       "      <td>26.072901</td>\n",
       "      <td>5.093939e+10</td>\n",
       "      <td>0.660931</td>\n",
       "      <td>4.028270</td>\n",
       "    </tr>\n",
       "    <tr>\n",
       "      <td>298</td>\n",
       "      <td>United States</td>\n",
       "      <td>33.263120</td>\n",
       "      <td>2000</td>\n",
       "      <td>3.376857</td>\n",
       "      <td>17.924094</td>\n",
       "      <td>12.969032</td>\n",
       "      <td>1.283995e+11</td>\n",
       "      <td>1.000000</td>\n",
       "      <td>6.844844</td>\n",
       "    </tr>\n",
       "    <tr>\n",
       "      <td>299</td>\n",
       "      <td>Australia</td>\n",
       "      <td>0.027813</td>\n",
       "      <td>2001</td>\n",
       "      <td>4.407135</td>\n",
       "      <td>26.264917</td>\n",
       "      <td>24.940218</td>\n",
       "      <td>1.866398e+10</td>\n",
       "      <td>1.933442</td>\n",
       "      <td>2.122769</td>\n",
       "    </tr>\n",
       "  </tbody>\n",
       "</table>\n",
       "<p>100 rows × 9 columns</p>\n",
       "</div>"
      ],
      "text/plain": [
       "               pais       Deuda   año  Inflacion  Gasto público  Tasa fiscal  \\\n",
       "1         Australia   12.253160  1990   7.333022      21.861559    22.476879   \n",
       "4            Bhutan   51.188019  1990  10.000000      20.557124     4.413943   \n",
       "7           Iceland   29.869468  1990  15.510722      29.377902    23.472225   \n",
       "8             India   50.783254  1990   8.971233      15.484217     9.993591   \n",
       "10          Jamaica  138.741328  1990  21.960175      22.642856    23.486431   \n",
       "..              ...         ...   ...        ...            ...          ...   \n",
       "284       Mauritius   32.117443  2000   4.199288      20.092293    16.953664   \n",
       "291       Singapore   83.842292  2000   1.361624      15.716732    14.855789   \n",
       "297  United Kingdom   42.607454  2000   1.182956      32.251054    26.072901   \n",
       "298   United States   33.263120  2000   3.376857      17.924094    12.969032   \n",
       "299       Australia    0.027813  2001   4.407135      26.264917    24.940218   \n",
       "\n",
       "         Reservas  Tipo de cambio  Tasa de interes  \n",
       "1    1.931874e+10        1.281057         9.669791  \n",
       "4    8.883421e+07       17.505325         8.789378  \n",
       "7    4.549824e+08       58.283775         0.878499  \n",
       "8    5.637446e+09       17.503500         5.269527  \n",
       "10   1.681553e+08        7.184025         4.302951  \n",
       "..            ...             ...              ...  \n",
       "284  9.143661e+08       26.249558        16.788430  \n",
       "291  8.108498e+10        1.723963         1.897404  \n",
       "297  5.093939e+10        0.660931         4.028270  \n",
       "298  1.283995e+11        1.000000         6.844844  \n",
       "299  1.866398e+10        1.933442         2.122769  \n",
       "\n",
       "[100 rows x 9 columns]"
      ]
     },
     "execution_count": 43,
     "metadata": {},
     "output_type": "execute_result"
    }
   ],
   "source": [
    "df_año_paises_buenos.head(100)"
   ]
  },
  {
   "cell_type": "code",
   "execution_count": 29,
   "metadata": {},
   "outputs": [],
   "source": [
    "df_año_paises_buenos.to_excel('base_final.xlsx')"
   ]
  },
  {
   "cell_type": "markdown",
   "metadata": {},
   "source": [
    "### 5) *Agregamos la variable dummy*"
   ]
  },
  {
   "cell_type": "code",
   "execution_count": 35,
   "metadata": {},
   "outputs": [],
   "source": [
    "Base_final = pd.read_excel('/Users/joaco/Downloads/trabajo_econometria_up_5-master 4/base_final_1.xlsx')"
   ]
  },
  {
   "cell_type": "code",
   "execution_count": 51,
   "metadata": {
    "scrolled": true
   },
   "outputs": [
    {
     "data": {
      "text/html": [
       "<div>\n",
       "<style scoped>\n",
       "    .dataframe tbody tr th:only-of-type {\n",
       "        vertical-align: middle;\n",
       "    }\n",
       "\n",
       "    .dataframe tbody tr th {\n",
       "        vertical-align: top;\n",
       "    }\n",
       "\n",
       "    .dataframe thead th {\n",
       "        text-align: right;\n",
       "    }\n",
       "</style>\n",
       "<table border=\"1\" class=\"dataframe\">\n",
       "  <thead>\n",
       "    <tr style=\"text-align: right;\">\n",
       "      <th></th>\n",
       "      <th>Pais</th>\n",
       "      <th>Año</th>\n",
       "      <th>Deuda</th>\n",
       "      <th>Inflacion</th>\n",
       "      <th>Gasto público</th>\n",
       "      <th>Tasa fiscal</th>\n",
       "      <th>Reservas</th>\n",
       "      <th>Tipo de cambio</th>\n",
       "      <th>Defaults prev</th>\n",
       "      <th>Default previo_c_t (3 años)</th>\n",
       "    </tr>\n",
       "  </thead>\n",
       "  <tbody>\n",
       "    <tr>\n",
       "      <td>0</td>\n",
       "      <td>Australia</td>\n",
       "      <td>1990</td>\n",
       "      <td>12.253160</td>\n",
       "      <td>7.333022</td>\n",
       "      <td>21.861559</td>\n",
       "      <td>22.476879</td>\n",
       "      <td>1.931874e+10</td>\n",
       "      <td>1.281057</td>\n",
       "      <td>0</td>\n",
       "      <td>0</td>\n",
       "    </tr>\n",
       "    <tr>\n",
       "      <td>1</td>\n",
       "      <td>Bhutan</td>\n",
       "      <td>1990</td>\n",
       "      <td>51.188019</td>\n",
       "      <td>10.000000</td>\n",
       "      <td>20.557124</td>\n",
       "      <td>4.413943</td>\n",
       "      <td>8.883421e+07</td>\n",
       "      <td>17.505325</td>\n",
       "      <td>1</td>\n",
       "      <td>0</td>\n",
       "    </tr>\n",
       "    <tr>\n",
       "      <td>2</td>\n",
       "      <td>Guatemala</td>\n",
       "      <td>1990</td>\n",
       "      <td>24.480685</td>\n",
       "      <td>41.221867</td>\n",
       "      <td>9.131265</td>\n",
       "      <td>6.865212</td>\n",
       "      <td>3.618105e+08</td>\n",
       "      <td>4.485758</td>\n",
       "      <td>1</td>\n",
       "      <td>1</td>\n",
       "    </tr>\n",
       "    <tr>\n",
       "      <td>3</td>\n",
       "      <td>Iceland</td>\n",
       "      <td>1990</td>\n",
       "      <td>29.869468</td>\n",
       "      <td>15.510722</td>\n",
       "      <td>29.377902</td>\n",
       "      <td>23.472225</td>\n",
       "      <td>4.549824e+08</td>\n",
       "      <td>58.283775</td>\n",
       "      <td>0</td>\n",
       "      <td>0</td>\n",
       "    </tr>\n",
       "    <tr>\n",
       "      <td>4</td>\n",
       "      <td>India</td>\n",
       "      <td>1990</td>\n",
       "      <td>50.783254</td>\n",
       "      <td>8.971233</td>\n",
       "      <td>15.484217</td>\n",
       "      <td>9.993591</td>\n",
       "      <td>5.637446e+09</td>\n",
       "      <td>17.503500</td>\n",
       "      <td>0</td>\n",
       "      <td>0</td>\n",
       "    </tr>\n",
       "    <tr>\n",
       "      <td>...</td>\n",
       "      <td>...</td>\n",
       "      <td>...</td>\n",
       "      <td>...</td>\n",
       "      <td>...</td>\n",
       "      <td>...</td>\n",
       "      <td>...</td>\n",
       "      <td>...</td>\n",
       "      <td>...</td>\n",
       "      <td>...</td>\n",
       "      <td>...</td>\n",
       "    </tr>\n",
       "    <tr>\n",
       "      <td>95</td>\n",
       "      <td>Tunisia</td>\n",
       "      <td>1996</td>\n",
       "      <td>55.296518</td>\n",
       "      <td>3.725145</td>\n",
       "      <td>28.016448</td>\n",
       "      <td>19.837619</td>\n",
       "      <td>1.977688e+09</td>\n",
       "      <td>0.973408</td>\n",
       "      <td>1</td>\n",
       "      <td>1</td>\n",
       "    </tr>\n",
       "    <tr>\n",
       "      <td>96</td>\n",
       "      <td>United Kingdom</td>\n",
       "      <td>1996</td>\n",
       "      <td>43.628347</td>\n",
       "      <td>2.851782</td>\n",
       "      <td>33.857007</td>\n",
       "      <td>23.134875</td>\n",
       "      <td>4.670002e+10</td>\n",
       "      <td>0.640958</td>\n",
       "      <td>0</td>\n",
       "      <td>0</td>\n",
       "    </tr>\n",
       "    <tr>\n",
       "      <td>97</td>\n",
       "      <td>United States</td>\n",
       "      <td>1996</td>\n",
       "      <td>46.741769</td>\n",
       "      <td>2.931204</td>\n",
       "      <td>20.005396</td>\n",
       "      <td>11.373915</td>\n",
       "      <td>1.606602e+11</td>\n",
       "      <td>1.000000</td>\n",
       "      <td>0</td>\n",
       "      <td>0</td>\n",
       "    </tr>\n",
       "    <tr>\n",
       "      <td>98</td>\n",
       "      <td>Australia</td>\n",
       "      <td>1997</td>\n",
       "      <td>20.911558</td>\n",
       "      <td>0.224888</td>\n",
       "      <td>23.864424</td>\n",
       "      <td>22.430942</td>\n",
       "      <td>1.758826e+10</td>\n",
       "      <td>1.347380</td>\n",
       "      <td>0</td>\n",
       "      <td>0</td>\n",
       "    </tr>\n",
       "    <tr>\n",
       "      <td>99</td>\n",
       "      <td>Bhutan</td>\n",
       "      <td>1997</td>\n",
       "      <td>30.740875</td>\n",
       "      <td>6.513286</td>\n",
       "      <td>19.624221</td>\n",
       "      <td>6.538898</td>\n",
       "      <td>1.887168e+08</td>\n",
       "      <td>36.313286</td>\n",
       "      <td>0</td>\n",
       "      <td>1</td>\n",
       "    </tr>\n",
       "  </tbody>\n",
       "</table>\n",
       "<p>100 rows × 10 columns</p>\n",
       "</div>"
      ],
      "text/plain": [
       "              Pais   Año      Deuda  Inflacion  Gasto público  Tasa fiscal  \\\n",
       "0        Australia  1990  12.253160   7.333022      21.861559    22.476879   \n",
       "1           Bhutan  1990  51.188019  10.000000      20.557124     4.413943   \n",
       "2        Guatemala  1990  24.480685  41.221867       9.131265     6.865212   \n",
       "3          Iceland  1990  29.869468  15.510722      29.377902    23.472225   \n",
       "4            India  1990  50.783254   8.971233      15.484217     9.993591   \n",
       "..             ...   ...        ...        ...            ...          ...   \n",
       "95         Tunisia  1996  55.296518   3.725145      28.016448    19.837619   \n",
       "96  United Kingdom  1996  43.628347   2.851782      33.857007    23.134875   \n",
       "97   United States  1996  46.741769   2.931204      20.005396    11.373915   \n",
       "98       Australia  1997  20.911558   0.224888      23.864424    22.430942   \n",
       "99          Bhutan  1997  30.740875   6.513286      19.624221     6.538898   \n",
       "\n",
       "        Reservas  Tipo de cambio  Defaults prev  Default previo_c_t (3 años)  \n",
       "0   1.931874e+10        1.281057              0                            0  \n",
       "1   8.883421e+07       17.505325              1                            0  \n",
       "2   3.618105e+08        4.485758              1                            1  \n",
       "3   4.549824e+08       58.283775              0                            0  \n",
       "4   5.637446e+09       17.503500              0                            0  \n",
       "..           ...             ...            ...                          ...  \n",
       "95  1.977688e+09        0.973408              1                            1  \n",
       "96  4.670002e+10        0.640958              0                            0  \n",
       "97  1.606602e+11        1.000000              0                            0  \n",
       "98  1.758826e+10        1.347380              0                            0  \n",
       "99  1.887168e+08       36.313286              0                            1  \n",
       "\n",
       "[100 rows x 10 columns]"
      ]
     },
     "execution_count": 51,
     "metadata": {},
     "output_type": "execute_result"
    }
   ],
   "source": [
    "Base_final.head(100)"
   ]
  },
  {
   "cell_type": "markdown",
   "metadata": {},
   "source": [
    "# Media y varianza de cada variable"
   ]
  },
  {
   "cell_type": "code",
   "execution_count": 52,
   "metadata": {},
   "outputs": [
    {
     "data": {
      "text/plain": [
       "Index(['Pais', 'Año', 'Deuda', 'Inflacion', 'Gasto público', 'Tasa fiscal',\n",
       "       'Reservas', 'Tipo de cambio', 'Defaults prev',\n",
       "       'Default previo_c_t (3 años)'],\n",
       "      dtype='object')"
      ]
     },
     "execution_count": 52,
     "metadata": {},
     "output_type": "execute_result"
    }
   ],
   "source": [
    "Base_final.columns"
   ]
  },
  {
   "cell_type": "code",
   "execution_count": 76,
   "metadata": {},
   "outputs": [],
   "source": [
    "import statistics as stats\n",
    "from scipy import stats"
   ]
  },
  {
   "cell_type": "markdown",
   "metadata": {},
   "source": [
    "### Deuda"
   ]
  },
  {
   "cell_type": "code",
   "execution_count": 50,
   "metadata": {},
   "outputs": [
    {
     "data": {
      "text/plain": [
       "count    294.000000\n",
       "mean      50.851689\n",
       "std       33.307938\n",
       "min        0.018398\n",
       "25%       26.459870\n",
       "50%       44.853644\n",
       "75%       64.231988\n",
       "max      232.832211\n",
       "Name: Deuda, dtype: float64"
      ]
     },
     "execution_count": 50,
     "metadata": {},
     "output_type": "execute_result"
    }
   ],
   "source": [
    "Base_final['Deuda'].describe()"
   ]
  },
  {
   "cell_type": "markdown",
   "metadata": {},
   "source": [
    "### Inflación"
   ]
  },
  {
   "cell_type": "code",
   "execution_count": 53,
   "metadata": {},
   "outputs": [
    {
     "data": {
      "text/plain": [
       "count    294.000000\n",
       "mean       5.644940\n",
       "std        7.337135\n",
       "min      -18.108630\n",
       "25%        2.205611\n",
       "50%        3.890281\n",
       "75%        6.830412\n",
       "max       77.296593\n",
       "Name: Inflacion, dtype: float64"
      ]
     },
     "execution_count": 53,
     "metadata": {},
     "output_type": "execute_result"
    }
   ],
   "source": [
    "Base_final['Inflacion'].describe()"
   ]
  },
  {
   "cell_type": "markdown",
   "metadata": {},
   "source": [
    "### Gasto Público"
   ]
  },
  {
   "cell_type": "code",
   "execution_count": 56,
   "metadata": {},
   "outputs": [
    {
     "data": {
      "text/plain": [
       "count    294.000000\n",
       "mean      21.875636\n",
       "std        7.293717\n",
       "min        7.562050\n",
       "25%       16.466839\n",
       "50%       20.175852\n",
       "75%       27.094002\n",
       "max       42.283512\n",
       "Name: Gasto público, dtype: float64"
      ]
     },
     "execution_count": 56,
     "metadata": {},
     "output_type": "execute_result"
    }
   ],
   "source": [
    "Base_final['Gasto público'].describe()"
   ]
  },
  {
   "cell_type": "markdown",
   "metadata": {},
   "source": [
    "### Tasa Fiscal"
   ]
  },
  {
   "cell_type": "code",
   "execution_count": 58,
   "metadata": {},
   "outputs": [
    {
     "data": {
      "text/plain": [
       "count    294.000000\n",
       "mean      16.127629\n",
       "std        6.051511\n",
       "min        4.413943\n",
       "25%       10.261597\n",
       "50%       16.078596\n",
       "75%       21.830268\n",
       "max       27.226929\n",
       "Name: Tasa fiscal, dtype: float64"
      ]
     },
     "execution_count": 58,
     "metadata": {},
     "output_type": "execute_result"
    }
   ],
   "source": [
    "Base_final['Tasa fiscal'].describe()"
   ]
  },
  {
   "cell_type": "markdown",
   "metadata": {},
   "source": [
    "### Reservas"
   ]
  },
  {
   "cell_type": "code",
   "execution_count": 59,
   "metadata": {},
   "outputs": [
    {
     "data": {
      "text/plain": [
       "count    2.940000e+02\n",
       "mean     4.440132e+10\n",
       "std      7.065982e+10\n",
       "min      8.512000e+07\n",
       "25%      1.147301e+09\n",
       "50%      1.052933e+10\n",
       "75%      6.015286e+10\n",
       "max      4.889285e+11\n",
       "Name: Reservas, dtype: float64"
      ]
     },
     "execution_count": 59,
     "metadata": {},
     "output_type": "execute_result"
    }
   ],
   "source": [
    "Base_final['Reservas'].describe()"
   ]
  },
  {
   "cell_type": "markdown",
   "metadata": {},
   "source": [
    "### Tipo de Cambio"
   ]
  },
  {
   "cell_type": "code",
   "execution_count": 60,
   "metadata": {},
   "outputs": [
    {
     "data": {
      "text/plain": [
       "count    294.000000\n",
       "mean      19.567441\n",
       "std       24.735308\n",
       "min        0.499772\n",
       "25%        1.094097\n",
       "50%        3.209600\n",
       "75%       35.425997\n",
       "max      123.638381\n",
       "Name: Tipo de cambio, dtype: float64"
      ]
     },
     "execution_count": 60,
     "metadata": {},
     "output_type": "execute_result"
    }
   ],
   "source": [
    "Base_final['Tipo de cambio'].describe()"
   ]
  },
  {
   "cell_type": "markdown",
   "metadata": {},
   "source": [
    "### Defaults previos"
   ]
  },
  {
   "cell_type": "code",
   "execution_count": 62,
   "metadata": {},
   "outputs": [
    {
     "data": {
      "text/plain": [
       "count    294.000000\n",
       "mean       0.302721\n",
       "std        0.460219\n",
       "min        0.000000\n",
       "25%        0.000000\n",
       "50%        0.000000\n",
       "75%        1.000000\n",
       "max        1.000000\n",
       "Name: Defaults prev, dtype: float64"
      ]
     },
     "execution_count": 62,
     "metadata": {},
     "output_type": "execute_result"
    }
   ],
   "source": [
    "Base_final['Defaults prev'].describe()"
   ]
  },
  {
   "cell_type": "markdown",
   "metadata": {},
   "source": [
    "### Defaults previos rezago de 3 años"
   ]
  },
  {
   "cell_type": "code",
   "execution_count": 64,
   "metadata": {},
   "outputs": [
    {
     "data": {
      "text/plain": [
       "count    294.000000\n",
       "mean       0.367347\n",
       "std        0.482904\n",
       "min        0.000000\n",
       "25%        0.000000\n",
       "50%        0.000000\n",
       "75%        1.000000\n",
       "max        1.000000\n",
       "Name: Default previo_c_t (3 años), dtype: float64"
      ]
     },
     "execution_count": 64,
     "metadata": {},
     "output_type": "execute_result"
    }
   ],
   "source": [
    "Base_final['Default previo_c_t (3 años)'].describe()"
   ]
  },
  {
   "cell_type": "markdown",
   "metadata": {},
   "source": [
    "### *Media y varianza de todas las variables*"
   ]
  },
  {
   "cell_type": "code",
   "execution_count": 78,
   "metadata": {},
   "outputs": [
    {
     "data": {
      "text/plain": [
       "Año                            2.000000e+03\n",
       "Deuda                          5.085169e+01\n",
       "Inflacion                      5.644940e+00\n",
       "Gasto público                  2.187564e+01\n",
       "Tasa fiscal                    1.612763e+01\n",
       "Reservas                       4.440132e+10\n",
       "Tipo de cambio                 1.956744e+01\n",
       "Defaults prev                  3.027211e-01\n",
       "Default previo_c_t (3 años)    3.673469e-01\n",
       "dtype: float64"
      ]
     },
     "execution_count": 78,
     "metadata": {},
     "output_type": "execute_result"
    }
   ],
   "source": [
    "Base_final.mean()"
   ]
  },
  {
   "cell_type": "code",
   "execution_count": 79,
   "metadata": {},
   "outputs": [
    {
     "data": {
      "text/plain": [
       "Año                            3.679181e+01\n",
       "Deuda                          1.109419e+03\n",
       "Inflacion                      5.383355e+01\n",
       "Gasto público                  5.319830e+01\n",
       "Tasa fiscal                    3.662078e+01\n",
       "Reservas                       4.992810e+21\n",
       "Tipo de cambio                 6.118355e+02\n",
       "Defaults prev                  2.118014e-01\n",
       "Default previo_c_t (3 años)    2.331964e-01\n",
       "dtype: float64"
      ]
     },
     "execution_count": 79,
     "metadata": {},
     "output_type": "execute_result"
    }
   ],
   "source": [
    "Base_final.var()"
   ]
  },
  {
   "cell_type": "code",
   "execution_count": 80,
   "metadata": {},
   "outputs": [
    {
     "data": {
      "text/plain": [
       "Año                            2.000000e+03\n",
       "Deuda                          5.085169e+01\n",
       "Inflacion                      5.644940e+00\n",
       "Gasto público                  2.187564e+01\n",
       "Tasa fiscal                    1.612763e+01\n",
       "Reservas                       4.440132e+10\n",
       "Tipo de cambio                 1.956744e+01\n",
       "Defaults prev                  3.027211e-01\n",
       "Default previo_c_t (3 años)    3.673469e-01\n",
       "dtype: float64"
      ]
     },
     "execution_count": 80,
     "metadata": {},
     "output_type": "execute_result"
    }
   ],
   "source": [
    "np.mean(Base_final)"
   ]
  },
  {
   "cell_type": "code",
   "execution_count": 82,
   "metadata": {},
   "outputs": [
    {
     "data": {
      "text/plain": [
       "Año                            3.666667e+01\n",
       "Deuda                          1.105645e+03\n",
       "Inflacion                      5.365044e+01\n",
       "Gasto público                  5.301735e+01\n",
       "Tasa fiscal                    3.649622e+01\n",
       "Reservas                       4.975828e+21\n",
       "Tipo de cambio                 6.097544e+02\n",
       "Defaults prev                  2.110810e-01\n",
       "Default previo_c_t (3 años)    2.324032e-01\n",
       "dtype: float64"
      ]
     },
     "execution_count": 82,
     "metadata": {},
     "output_type": "execute_result"
    }
   ],
   "source": [
    "np.var(Base_final, 0)"
   ]
  }
 ],
 "metadata": {
  "kernelspec": {
   "display_name": "Python 3",
   "language": "python",
   "name": "python3"
  },
  "language_info": {
   "codemirror_mode": {
    "name": "ipython",
    "version": 3
   },
   "file_extension": ".py",
   "mimetype": "text/x-python",
   "name": "python",
   "nbconvert_exporter": "python",
   "pygments_lexer": "ipython3",
   "version": "3.7.4"
  }
 },
 "nbformat": 4,
 "nbformat_minor": 2
}
