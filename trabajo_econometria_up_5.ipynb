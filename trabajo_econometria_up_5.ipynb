{
 "cells": [
  {
   "cell_type": "code",
   "execution_count": 1,
   "metadata": {},
   "outputs": [],
   "source": [
    "import numpy as np\n",
    "\n",
    "from pylatex import Document, Section, Subsection, Table, Math, TikZ, Axis, \\\n",
    "    Plot, Figure, Package\n",
    "from pylatex.utils import italic, escape_latex\n",
    "from pylatex.numpy import Matrix"
   ]
  },
  {
   "cell_type": "code",
   "execution_count": 5,
   "metadata": {},
   "outputs": [
    {
     "ename": "SyntaxError",
     "evalue": "invalid syntax (<ipython-input-5-281ff49ccf99>, line 1)",
     "output_type": "error",
     "traceback": [
      "\u001b[0;36m  File \u001b[0;32m\"<ipython-input-5-281ff49ccf99>\"\u001b[0;36m, line \u001b[0;32m1\u001b[0m\n\u001b[0;31m    a) $$y_{i}^{p} = G(\\\\alpha^{p} + \\\\beta_{1}^{p}*mujer_{i}^{p} + \\\\beta_{2}^{p}*pobreza_{i}^{p} + \\\\beta_{3}^{p}*voto2015_{i}^{p} + u_{i})$$\u001b[0m\n\u001b[0m     ^\u001b[0m\n\u001b[0;31mSyntaxError\u001b[0m\u001b[0;31m:\u001b[0m invalid syntax\n"
     ]
    }
   ],
   "source": [
    "a) $$y_{i}^{p} = G(\\\\alpha^{p} + \\\\beta_{1}^{p}*mujer_{i}^{p} + \\\\beta_{2}^{p}*pobreza_{i}^{p} + \\\\beta_{3}^{p}*voto2015_{i}^{p} + u_{i})$$\n",
    "\n"
   ]
  },
  {
   "cell_type": "code",
   "execution_count": null,
   "metadata": {},
   "outputs": [],
   "source": []
  }
 ],
 "metadata": {
  "kernelspec": {
   "display_name": "Python 3",
   "language": "python",
   "name": "python3"
  },
  "language_info": {
   "codemirror_mode": {
    "name": "ipython",
    "version": 3
   },
   "file_extension": ".py",
   "mimetype": "text/x-python",
   "name": "python",
   "nbconvert_exporter": "python",
   "pygments_lexer": "ipython3",
   "version": "3.7.4"
  }
 },
 "nbformat": 4,
 "nbformat_minor": 2
}
