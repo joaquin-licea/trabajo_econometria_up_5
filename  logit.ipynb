{
 "cells": [
  {
   "cell_type": "markdown",
   "metadata": {},
   "source": [
    "# Construcción de la base de datos"
   ]
  },
  {
   "cell_type": "markdown",
   "metadata": {},
   "source": [
    "### 1) *Importar los datos*"
   ]
  },
  {
   "cell_type": "code",
   "execution_count": 1,
   "metadata": {},
   "outputs": [],
   "source": [
    "import wbdata"
   ]
  },
  {
   "cell_type": "code",
   "execution_count": 2,
   "metadata": {},
   "outputs": [],
   "source": [
    "wb_regions = ['Arab World', 'Caribbean small states',\n",
    "              'Central Europe and the Baltics', 'Early-demographic dividend',\n",
    "              'East Asia & Pacific', 'East Asia & Pacific (excluding high income)',\n",
    "              'East Asia & Pacific (IDA & IBRD countries)',\n",
    "              'Euro area', 'Europe & Central Asia',\n",
    "              'Europe & Central Asia (excluding high income)',\n",
    "              'Europe & Central Asia (IDA & IBRD countries)',\n",
    "              'European Union',\n",
    "              'Fragile and conflict affected situations',\n",
    "              'Heavily indebted poor countries (HIPC)',\n",
    "              'High income',\n",
    "              'IBRD only',\n",
    "              'IDA & IBRD total',\n",
    "              'IDA blend',\n",
    "              'IDA only',\n",
    "              'IDA total',\n",
    "              'Late-demographic dividend',\n",
    "              'Latin America & Caribbean',\n",
    "              'Latin America & Caribbean (excluding high income)',\n",
    "              'Latin America & the Caribbean (IDA & IBRD countries)',\n",
    "              'Least developed countries',\n",
    "              'Least developed countries: UN classification',\n",
    "              'Low & middle income',\n",
    "              'Low income',\n",
    "              'Lower middle income',\n",
    "              'Middle East & North Africa',\n",
    "              'Middle East & North Africa (excluding high income)',\n",
    "              'Middle East & North Africa (IDA & IBRD countries)',\n",
    "              'Middle income',\n",
    "              'North America',\n",
    "              'Not classified',\n",
    "              'OECD members',\n",
    "              'Other small states',\n",
    "              'Pacific island small states',\n",
    "              'Post-demographic dividend',\n",
    "              'Pre-demographic dividend',\n",
    "              'Small states',\n",
    "              'South Asia',\n",
    "              'South Asia (IDA & IBRD)',\n",
    "              'Sub-Saharan Africa',\n",
    "              'Sub-Saharan Africa (excluding high income)',\n",
    "              'Sub-Saharan Africa (IDA & IBRD countries)',\n",
    "              'Upper middle income',\n",
    "              'World']"
   ]
  },
  {
   "cell_type": "code",
   "execution_count": 3,
   "metadata": {},
   "outputs": [],
   "source": [
    "import matplotlib.pyplot as plt\n",
    "plt.style.use('ggplot')\n",
    "import pandas as pd\n",
    "import numpy as np\n",
    "import statsmodels.api as sm"
   ]
  },
  {
   "cell_type": "markdown",
   "metadata": {},
   "source": [
    "### 2) *Definir  y limpiar las Variables*"
   ]
  },
  {
   "cell_type": "code",
   "execution_count": 4,
   "metadata": {},
   "outputs": [],
   "source": [
    "Governmentdebt_raw = wbdata.get_data(\"GC.DOD.TOTL.GD.ZS\")"
   ]
  },
  {
   "cell_type": "code",
   "execution_count": 5,
   "metadata": {},
   "outputs": [],
   "source": [
    "Inflation_raw = wbdata.get_data(\"FP.CPI.TOTL.ZG\")"
   ]
  },
  {
   "cell_type": "code",
   "execution_count": 6,
   "metadata": {},
   "outputs": [],
   "source": [
    "Expense_raw = wbdata.get_data(\"GC.XPN.TOTL.GD.ZS\")"
   ]
  },
  {
   "cell_type": "code",
   "execution_count": 7,
   "metadata": {},
   "outputs": [],
   "source": [
    "Tax_raw = wbdata.get_data(\"GC.TAX.TOTL.GD.ZS\")"
   ]
  },
  {
   "cell_type": "code",
   "execution_count": 8,
   "metadata": {},
   "outputs": [],
   "source": [
    "Reserves_raw = wbdata.get_data(\"FI.RES.TOTL.CD\")"
   ]
  },
  {
   "cell_type": "code",
   "execution_count": 9,
   "metadata": {},
   "outputs": [],
   "source": [
    "Officialexchange_raw = wbdata.get_data(\"PA.NUS.FCRF\")"
   ]
  },
  {
   "cell_type": "code",
   "execution_count": 10,
   "metadata": {},
   "outputs": [],
   "source": [
    "Interestrate_raw = wbdata.get_data(\"FR.INR.RINR\")"
   ]
  },
  {
   "cell_type": "code",
   "execution_count": 11,
   "metadata": {},
   "outputs": [],
   "source": [
    "Unemployment_raw = wbdata.get_data(\"SL.UEM.TOTL.ZS\")"
   ]
  },
  {
   "cell_type": "code",
   "execution_count": 12,
   "metadata": {},
   "outputs": [],
   "source": [
    "def wb_clean_year_data(wb_raw, year):\n",
    "    rv = {}\n",
    "    for X in wb_raw:\n",
    "        date = X['date']\n",
    "        country = X['country']['value']\n",
    "        if date == year and country not in wb_regions:\n",
    "            try:\n",
    "                value = float(X['value'])\n",
    "                rv[country] = value\n",
    "            except:\n",
    "                pass\n",
    "    return rv"
   ]
  },
  {
   "cell_type": "code",
   "execution_count": 13,
   "metadata": {},
   "outputs": [],
   "source": [
    "def wb_dict_to_dataframe(dict_clean, nombre_variable, año):\n",
    "    df = pd.DataFrame({'pais': list(dict_clean.keys()),\n",
    "                       nombre_variable: list(dict_clean.values()),\n",
    "                       'año': [año] * len(dict_clean)})\n",
    "    return df"
   ]
  },
  {
   "cell_type": "markdown",
   "metadata": {},
   "source": [
    "### 3) *Obtenemos las variables limpias*"
   ]
  },
  {
   "cell_type": "code",
   "execution_count": 14,
   "metadata": {},
   "outputs": [],
   "source": [
    "variables=['GC.DOD.TOTL.GD.ZS','FP.CPI.TOTL.ZG','GC.XPN.TOTL.GD.ZS','GC.TAX.TOTL.GD.ZS','FI.RES.TOTL.CD','PA.NUS.FCRF','FR.INR.RINR','SL.UEM.TOTL.ZS']"
   ]
  },
  {
   "cell_type": "code",
   "execution_count": 15,
   "metadata": {},
   "outputs": [],
   "source": [
    "Governmentdebt_raw = wbdata.get_data(\"GC.DOD.TOTL.GD.ZS\")\n",
    "Inflation_raw = wbdata.get_data(\"FP.CPI.TOTL.ZG\")\n",
    "Expense_raw = wbdata.get_data(\"GC.XPN.TOTL.GD.ZS\")\n",
    "Tax_raw = wbdata.get_data(\"GC.TAX.TOTL.GD.ZS\")\n",
    "Reserves_raw = wbdata.get_data(\"FI.RES.TOTL.CD\")\n",
    "Officialexchange_raw = wbdata.get_data(\"PA.NUS.FCRF\")\n",
    "Interestrate_raw = wbdata.get_data(\"FR.INR.RINR\")\n",
    "Unemployment_raw = wbdata.get_data(\"SL.UEM.TOTL.ZS\")"
   ]
  },
  {
   "cell_type": "code",
   "execution_count": 16,
   "metadata": {},
   "outputs": [],
   "source": [
    "raw_lists = {'Deuda': Governmentdebt_raw,\n",
    "             'Inflacion': Inflation_raw,\n",
    "             'Gasto público': Expense_raw,\n",
    "             'Tasa fiscal': Tax_raw,\n",
    "             'Reservas':Reserves_raw,\n",
    "             'Tipo de cambio':Officialexchange_raw,\n",
    "             'Tasa de interes':Interestrate_raw,}\n",
    "            "
   ]
  },
  {
   "cell_type": "code",
   "execution_count": 17,
   "metadata": {},
   "outputs": [],
   "source": [
    "for año in range(1989, 2011):\n",
    "    dfs_año = []\n",
    "    for k, v in raw_lists.items():\n",
    "        v_clean = wb_clean_year_data(v, str(año))\n",
    "        df = wb_dict_to_dataframe(v_clean, k, str(año))\n",
    "        dfs_año.append(df)\n",
    "    if año == 1989:\n",
    "        for i, df in enumerate(dfs_año):\n",
    "            if i == 0:\n",
    "                df_año = df.merge(dfs_año[i + 1], on=['pais', 'año'])\n",
    "            else:\n",
    "                try:\n",
    "                    df_año = df_año.merge(dfs_año[i + 1], on=['pais', 'año'])\n",
    "                except:\n",
    "                    pass\n",
    "    else:\n",
    "        for i, df in enumerate(dfs_año):\n",
    "            if i == 0:\n",
    "                df_otros_años = df.merge(dfs_año[i + 1], on=['pais', 'año'])\n",
    "            else:\n",
    "                try:\n",
    "                    df_otros_años = df_otros_años.merge(dfs_año[i + 1], on=['pais', 'año'])\n",
    "                except:\n",
    "                    pass\n",
    "        df_año = df_año.append(df_otros_años, ignore_index=True,)"
   ]
  },
  {
   "cell_type": "code",
   "execution_count": 18,
   "metadata": {},
   "outputs": [
    {
     "data": {
      "text/plain": [
       "array(['1989', '1990', '1991', '1992', '1993', '1994', '1995', '1996',\n",
       "       '1997', '1998', '1999', '2000', '2001', '2002', '2003', '2004',\n",
       "       '2005', '2006', '2007', '2008', '2009', '2010'], dtype=object)"
      ]
     },
     "execution_count": 18,
     "metadata": {},
     "output_type": "execute_result"
    }
   ],
   "source": [
    "df_año['año'].unique()"
   ]
  },
  {
   "cell_type": "code",
   "execution_count": 19,
   "metadata": {},
   "outputs": [
    {
     "data": {
      "text/plain": [
       "United States       22\n",
       "Jamaica             21\n",
       "Australia           21\n",
       "Singapore           21\n",
       "United Kingdom      21\n",
       "                    ..\n",
       "Czech Republic       2\n",
       "Korea, Rep.          2\n",
       "Italy                2\n",
       "Egypt, Arab Rep.     1\n",
       "Zambia               1\n",
       "Name: pais, Length: 63, dtype: int64"
      ]
     },
     "execution_count": 19,
     "metadata": {},
     "output_type": "execute_result"
    }
   ],
   "source": [
    "df_año ['pais'].value_counts()"
   ]
  },
  {
   "cell_type": "markdown",
   "metadata": {},
   "source": [
    "### 4) *Balanceamos la base de datos*"
   ]
  },
  {
   "cell_type": "code",
   "execution_count": 20,
   "metadata": {},
   "outputs": [],
   "source": [
    "paises_buenos = []\n",
    "for country, counts in dict(df_año['pais'].value_counts()).items():\n",
    "    if counts >= 21:\n",
    "        paises_buenos.append(country)"
   ]
  },
  {
   "cell_type": "code",
   "execution_count": 21,
   "metadata": {},
   "outputs": [],
   "source": [
    "df_año_paises_buenos = df_año.loc[df_año['pais'].isin(paises_buenos)]"
   ]
  },
  {
   "cell_type": "code",
   "execution_count": 22,
   "metadata": {},
   "outputs": [],
   "source": [
    "df_año_paises_buenos = df_año_paises_buenos.loc[df_año_paises_buenos['año']!=\"1989\"]"
   ]
  },
  {
   "cell_type": "code",
   "execution_count": 23,
   "metadata": {},
   "outputs": [
    {
     "data": {
      "text/plain": [
       "United Kingdom    21\n",
       "Jamaica           21\n",
       "India             21\n",
       "Mauritius         21\n",
       "Bhutan            21\n",
       "Singapore         21\n",
       "United States     21\n",
       "Australia         21\n",
       "Iceland           21\n",
       "Name: pais, dtype: int64"
      ]
     },
     "execution_count": 23,
     "metadata": {},
     "output_type": "execute_result"
    }
   ],
   "source": [
    "df_año_paises_buenos ['pais'].value_counts()"
   ]
  },
  {
   "cell_type": "code",
   "execution_count": 24,
   "metadata": {},
   "outputs": [
    {
     "data": {
      "text/html": [
       "<div>\n",
       "<style scoped>\n",
       "    .dataframe tbody tr th:only-of-type {\n",
       "        vertical-align: middle;\n",
       "    }\n",
       "\n",
       "    .dataframe tbody tr th {\n",
       "        vertical-align: top;\n",
       "    }\n",
       "\n",
       "    .dataframe thead th {\n",
       "        text-align: right;\n",
       "    }\n",
       "</style>\n",
       "<table border=\"1\" class=\"dataframe\">\n",
       "  <thead>\n",
       "    <tr style=\"text-align: right;\">\n",
       "      <th></th>\n",
       "      <th>pais</th>\n",
       "      <th>Deuda</th>\n",
       "      <th>año</th>\n",
       "      <th>Inflacion</th>\n",
       "      <th>Gasto público</th>\n",
       "      <th>Tasa fiscal</th>\n",
       "      <th>Reservas</th>\n",
       "      <th>Tipo de cambio</th>\n",
       "      <th>Tasa de interes</th>\n",
       "    </tr>\n",
       "  </thead>\n",
       "  <tbody>\n",
       "    <tr>\n",
       "      <td>1</td>\n",
       "      <td>Australia</td>\n",
       "      <td>12.253160</td>\n",
       "      <td>1990</td>\n",
       "      <td>7.333022</td>\n",
       "      <td>21.861559</td>\n",
       "      <td>22.476879</td>\n",
       "      <td>1.931874e+10</td>\n",
       "      <td>1.281057</td>\n",
       "      <td>9.669791</td>\n",
       "    </tr>\n",
       "    <tr>\n",
       "      <td>4</td>\n",
       "      <td>Bhutan</td>\n",
       "      <td>51.188019</td>\n",
       "      <td>1990</td>\n",
       "      <td>10.000000</td>\n",
       "      <td>20.557124</td>\n",
       "      <td>4.413943</td>\n",
       "      <td>8.883421e+07</td>\n",
       "      <td>17.505325</td>\n",
       "      <td>8.789378</td>\n",
       "    </tr>\n",
       "    <tr>\n",
       "      <td>7</td>\n",
       "      <td>Iceland</td>\n",
       "      <td>29.869468</td>\n",
       "      <td>1990</td>\n",
       "      <td>15.510722</td>\n",
       "      <td>29.377902</td>\n",
       "      <td>23.472225</td>\n",
       "      <td>4.549824e+08</td>\n",
       "      <td>58.283775</td>\n",
       "      <td>0.878499</td>\n",
       "    </tr>\n",
       "    <tr>\n",
       "      <td>8</td>\n",
       "      <td>India</td>\n",
       "      <td>50.783254</td>\n",
       "      <td>1990</td>\n",
       "      <td>8.971233</td>\n",
       "      <td>15.484217</td>\n",
       "      <td>9.993591</td>\n",
       "      <td>5.637446e+09</td>\n",
       "      <td>17.503500</td>\n",
       "      <td>5.269527</td>\n",
       "    </tr>\n",
       "    <tr>\n",
       "      <td>10</td>\n",
       "      <td>Jamaica</td>\n",
       "      <td>138.741328</td>\n",
       "      <td>1990</td>\n",
       "      <td>21.960175</td>\n",
       "      <td>22.642856</td>\n",
       "      <td>23.486431</td>\n",
       "      <td>1.681553e+08</td>\n",
       "      <td>7.184025</td>\n",
       "      <td>4.302951</td>\n",
       "    </tr>\n",
       "    <tr>\n",
       "      <td>...</td>\n",
       "      <td>...</td>\n",
       "      <td>...</td>\n",
       "      <td>...</td>\n",
       "      <td>...</td>\n",
       "      <td>...</td>\n",
       "      <td>...</td>\n",
       "      <td>...</td>\n",
       "      <td>...</td>\n",
       "      <td>...</td>\n",
       "    </tr>\n",
       "    <tr>\n",
       "      <td>284</td>\n",
       "      <td>Mauritius</td>\n",
       "      <td>32.117443</td>\n",
       "      <td>2000</td>\n",
       "      <td>4.199288</td>\n",
       "      <td>20.092293</td>\n",
       "      <td>16.953664</td>\n",
       "      <td>9.143661e+08</td>\n",
       "      <td>26.249558</td>\n",
       "      <td>16.788430</td>\n",
       "    </tr>\n",
       "    <tr>\n",
       "      <td>291</td>\n",
       "      <td>Singapore</td>\n",
       "      <td>83.842292</td>\n",
       "      <td>2000</td>\n",
       "      <td>1.361624</td>\n",
       "      <td>15.716732</td>\n",
       "      <td>14.855789</td>\n",
       "      <td>8.108498e+10</td>\n",
       "      <td>1.723963</td>\n",
       "      <td>1.897404</td>\n",
       "    </tr>\n",
       "    <tr>\n",
       "      <td>297</td>\n",
       "      <td>United Kingdom</td>\n",
       "      <td>42.607454</td>\n",
       "      <td>2000</td>\n",
       "      <td>1.182956</td>\n",
       "      <td>32.251054</td>\n",
       "      <td>26.072901</td>\n",
       "      <td>5.093939e+10</td>\n",
       "      <td>0.660931</td>\n",
       "      <td>4.028270</td>\n",
       "    </tr>\n",
       "    <tr>\n",
       "      <td>298</td>\n",
       "      <td>United States</td>\n",
       "      <td>33.263120</td>\n",
       "      <td>2000</td>\n",
       "      <td>3.376857</td>\n",
       "      <td>17.924094</td>\n",
       "      <td>12.969032</td>\n",
       "      <td>1.283995e+11</td>\n",
       "      <td>1.000000</td>\n",
       "      <td>6.844844</td>\n",
       "    </tr>\n",
       "    <tr>\n",
       "      <td>299</td>\n",
       "      <td>Australia</td>\n",
       "      <td>0.027813</td>\n",
       "      <td>2001</td>\n",
       "      <td>4.407135</td>\n",
       "      <td>26.264917</td>\n",
       "      <td>24.940218</td>\n",
       "      <td>1.866398e+10</td>\n",
       "      <td>1.933442</td>\n",
       "      <td>2.122769</td>\n",
       "    </tr>\n",
       "  </tbody>\n",
       "</table>\n",
       "<p>100 rows × 9 columns</p>\n",
       "</div>"
      ],
      "text/plain": [
       "               pais       Deuda   año  Inflacion  Gasto público  Tasa fiscal  \\\n",
       "1         Australia   12.253160  1990   7.333022      21.861559    22.476879   \n",
       "4            Bhutan   51.188019  1990  10.000000      20.557124     4.413943   \n",
       "7           Iceland   29.869468  1990  15.510722      29.377902    23.472225   \n",
       "8             India   50.783254  1990   8.971233      15.484217     9.993591   \n",
       "10          Jamaica  138.741328  1990  21.960175      22.642856    23.486431   \n",
       "..              ...         ...   ...        ...            ...          ...   \n",
       "284       Mauritius   32.117443  2000   4.199288      20.092293    16.953664   \n",
       "291       Singapore   83.842292  2000   1.361624      15.716732    14.855789   \n",
       "297  United Kingdom   42.607454  2000   1.182956      32.251054    26.072901   \n",
       "298   United States   33.263120  2000   3.376857      17.924094    12.969032   \n",
       "299       Australia    0.027813  2001   4.407135      26.264917    24.940218   \n",
       "\n",
       "         Reservas  Tipo de cambio  Tasa de interes  \n",
       "1    1.931874e+10        1.281057         9.669791  \n",
       "4    8.883421e+07       17.505325         8.789378  \n",
       "7    4.549824e+08       58.283775         0.878499  \n",
       "8    5.637446e+09       17.503500         5.269527  \n",
       "10   1.681553e+08        7.184025         4.302951  \n",
       "..            ...             ...              ...  \n",
       "284  9.143661e+08       26.249558        16.788430  \n",
       "291  8.108498e+10        1.723963         1.897404  \n",
       "297  5.093939e+10        0.660931         4.028270  \n",
       "298  1.283995e+11        1.000000         6.844844  \n",
       "299  1.866398e+10        1.933442         2.122769  \n",
       "\n",
       "[100 rows x 9 columns]"
      ]
     },
     "execution_count": 24,
     "metadata": {},
     "output_type": "execute_result"
    }
   ],
   "source": [
    "df_año_paises_buenos.head(100)"
   ]
  },
  {
   "cell_type": "code",
   "execution_count": 25,
   "metadata": {},
   "outputs": [],
   "source": [
    "df_año_paises_buenos.to_excel('base_final.xlsx')"
   ]
  },
  {
   "cell_type": "markdown",
   "metadata": {},
   "source": [
    "### 5) *Agregamos la variable dummy*"
   ]
  },
  {
   "cell_type": "code",
   "execution_count": 63,
   "metadata": {},
   "outputs": [],
   "source": [
    "Base_final = pd.read_excel('/Users/carolinasanchez/Desktop/trabajo_econometria_up_5-master-3/base_final_1.xlsx')"
   ]
  },
  {
   "cell_type": "code",
   "execution_count": 64,
   "metadata": {
    "scrolled": true
   },
   "outputs": [
    {
     "data": {
      "text/html": [
       "<div>\n",
       "<style scoped>\n",
       "    .dataframe tbody tr th:only-of-type {\n",
       "        vertical-align: middle;\n",
       "    }\n",
       "\n",
       "    .dataframe tbody tr th {\n",
       "        vertical-align: top;\n",
       "    }\n",
       "\n",
       "    .dataframe thead th {\n",
       "        text-align: right;\n",
       "    }\n",
       "</style>\n",
       "<table border=\"1\" class=\"dataframe\">\n",
       "  <thead>\n",
       "    <tr style=\"text-align: right;\">\n",
       "      <th></th>\n",
       "      <th>Unnamed: 0</th>\n",
       "      <th>pais</th>\n",
       "      <th>Deuda</th>\n",
       "      <th>año</th>\n",
       "      <th>Inflacion</th>\n",
       "      <th>Gasto público</th>\n",
       "      <th>Tasa fiscal</th>\n",
       "      <th>Reservas</th>\n",
       "      <th>Tipo de cambio</th>\n",
       "      <th>Defaults_prev</th>\n",
       "      <th>Default previo_c_t (3 años)</th>\n",
       "    </tr>\n",
       "  </thead>\n",
       "  <tbody>\n",
       "    <tr>\n",
       "      <td>0</td>\n",
       "      <td>1</td>\n",
       "      <td>Australia</td>\n",
       "      <td>12.253160</td>\n",
       "      <td>1990</td>\n",
       "      <td>7.333022</td>\n",
       "      <td>21.861559</td>\n",
       "      <td>22.476879</td>\n",
       "      <td>1.931874e+10</td>\n",
       "      <td>1.281057</td>\n",
       "      <td>0</td>\n",
       "      <td>0</td>\n",
       "    </tr>\n",
       "    <tr>\n",
       "      <td>1</td>\n",
       "      <td>4</td>\n",
       "      <td>Bhutan</td>\n",
       "      <td>51.188019</td>\n",
       "      <td>1990</td>\n",
       "      <td>10.000000</td>\n",
       "      <td>20.557124</td>\n",
       "      <td>4.413943</td>\n",
       "      <td>8.883421e+07</td>\n",
       "      <td>17.505325</td>\n",
       "      <td>1</td>\n",
       "      <td>0</td>\n",
       "    </tr>\n",
       "    <tr>\n",
       "      <td>2</td>\n",
       "      <td>10</td>\n",
       "      <td>Guatemala</td>\n",
       "      <td>24.480685</td>\n",
       "      <td>1990</td>\n",
       "      <td>41.221867</td>\n",
       "      <td>9.131265</td>\n",
       "      <td>6.865212</td>\n",
       "      <td>3.618105e+08</td>\n",
       "      <td>4.485758</td>\n",
       "      <td>1</td>\n",
       "      <td>1</td>\n",
       "    </tr>\n",
       "    <tr>\n",
       "      <td>3</td>\n",
       "      <td>11</td>\n",
       "      <td>Iceland</td>\n",
       "      <td>29.869468</td>\n",
       "      <td>1990</td>\n",
       "      <td>15.510722</td>\n",
       "      <td>29.377902</td>\n",
       "      <td>23.472225</td>\n",
       "      <td>4.549824e+08</td>\n",
       "      <td>58.283775</td>\n",
       "      <td>0</td>\n",
       "      <td>0</td>\n",
       "    </tr>\n",
       "    <tr>\n",
       "      <td>4</td>\n",
       "      <td>12</td>\n",
       "      <td>India</td>\n",
       "      <td>50.783254</td>\n",
       "      <td>1990</td>\n",
       "      <td>8.971233</td>\n",
       "      <td>15.484217</td>\n",
       "      <td>9.993591</td>\n",
       "      <td>5.637446e+09</td>\n",
       "      <td>17.503500</td>\n",
       "      <td>0</td>\n",
       "      <td>0</td>\n",
       "    </tr>\n",
       "    <tr>\n",
       "      <td>...</td>\n",
       "      <td>...</td>\n",
       "      <td>...</td>\n",
       "      <td>...</td>\n",
       "      <td>...</td>\n",
       "      <td>...</td>\n",
       "      <td>...</td>\n",
       "      <td>...</td>\n",
       "      <td>...</td>\n",
       "      <td>...</td>\n",
       "      <td>...</td>\n",
       "      <td>...</td>\n",
       "    </tr>\n",
       "    <tr>\n",
       "      <td>95</td>\n",
       "      <td>290</td>\n",
       "      <td>Tunisia</td>\n",
       "      <td>55.296518</td>\n",
       "      <td>1996</td>\n",
       "      <td>3.725145</td>\n",
       "      <td>28.016448</td>\n",
       "      <td>19.837619</td>\n",
       "      <td>1.977688e+09</td>\n",
       "      <td>0.973408</td>\n",
       "      <td>1</td>\n",
       "      <td>1</td>\n",
       "    </tr>\n",
       "    <tr>\n",
       "      <td>96</td>\n",
       "      <td>292</td>\n",
       "      <td>United Kingdom</td>\n",
       "      <td>43.628347</td>\n",
       "      <td>1996</td>\n",
       "      <td>2.851782</td>\n",
       "      <td>33.857007</td>\n",
       "      <td>23.134875</td>\n",
       "      <td>4.670002e+10</td>\n",
       "      <td>0.640958</td>\n",
       "      <td>0</td>\n",
       "      <td>0</td>\n",
       "    </tr>\n",
       "    <tr>\n",
       "      <td>97</td>\n",
       "      <td>293</td>\n",
       "      <td>United States</td>\n",
       "      <td>46.741769</td>\n",
       "      <td>1996</td>\n",
       "      <td>2.931204</td>\n",
       "      <td>20.005396</td>\n",
       "      <td>11.373915</td>\n",
       "      <td>1.606602e+11</td>\n",
       "      <td>1.000000</td>\n",
       "      <td>0</td>\n",
       "      <td>0</td>\n",
       "    </tr>\n",
       "    <tr>\n",
       "      <td>98</td>\n",
       "      <td>296</td>\n",
       "      <td>Australia</td>\n",
       "      <td>20.911558</td>\n",
       "      <td>1997</td>\n",
       "      <td>0.224888</td>\n",
       "      <td>23.864424</td>\n",
       "      <td>22.430942</td>\n",
       "      <td>1.758826e+10</td>\n",
       "      <td>1.347380</td>\n",
       "      <td>0</td>\n",
       "      <td>0</td>\n",
       "    </tr>\n",
       "    <tr>\n",
       "      <td>99</td>\n",
       "      <td>300</td>\n",
       "      <td>Bhutan</td>\n",
       "      <td>30.740875</td>\n",
       "      <td>1997</td>\n",
       "      <td>6.513286</td>\n",
       "      <td>19.624221</td>\n",
       "      <td>6.538898</td>\n",
       "      <td>1.887168e+08</td>\n",
       "      <td>36.313286</td>\n",
       "      <td>0</td>\n",
       "      <td>1</td>\n",
       "    </tr>\n",
       "  </tbody>\n",
       "</table>\n",
       "<p>100 rows × 11 columns</p>\n",
       "</div>"
      ],
      "text/plain": [
       "    Unnamed: 0            pais      Deuda   año  Inflacion  Gasto público  \\\n",
       "0            1       Australia  12.253160  1990   7.333022      21.861559   \n",
       "1            4          Bhutan  51.188019  1990  10.000000      20.557124   \n",
       "2           10       Guatemala  24.480685  1990  41.221867       9.131265   \n",
       "3           11         Iceland  29.869468  1990  15.510722      29.377902   \n",
       "4           12           India  50.783254  1990   8.971233      15.484217   \n",
       "..         ...             ...        ...   ...        ...            ...   \n",
       "95         290         Tunisia  55.296518  1996   3.725145      28.016448   \n",
       "96         292  United Kingdom  43.628347  1996   2.851782      33.857007   \n",
       "97         293   United States  46.741769  1996   2.931204      20.005396   \n",
       "98         296       Australia  20.911558  1997   0.224888      23.864424   \n",
       "99         300          Bhutan  30.740875  1997   6.513286      19.624221   \n",
       "\n",
       "    Tasa fiscal      Reservas  Tipo de cambio  Defaults_prev  \\\n",
       "0     22.476879  1.931874e+10        1.281057              0   \n",
       "1      4.413943  8.883421e+07       17.505325              1   \n",
       "2      6.865212  3.618105e+08        4.485758              1   \n",
       "3     23.472225  4.549824e+08       58.283775              0   \n",
       "4      9.993591  5.637446e+09       17.503500              0   \n",
       "..          ...           ...             ...            ...   \n",
       "95    19.837619  1.977688e+09        0.973408              1   \n",
       "96    23.134875  4.670002e+10        0.640958              0   \n",
       "97    11.373915  1.606602e+11        1.000000              0   \n",
       "98    22.430942  1.758826e+10        1.347380              0   \n",
       "99     6.538898  1.887168e+08       36.313286              0   \n",
       "\n",
       "    Default previo_c_t (3 años)  \n",
       "0                             0  \n",
       "1                             0  \n",
       "2                             1  \n",
       "3                             0  \n",
       "4                             0  \n",
       "..                          ...  \n",
       "95                            1  \n",
       "96                            0  \n",
       "97                            0  \n",
       "98                            0  \n",
       "99                            1  \n",
       "\n",
       "[100 rows x 11 columns]"
      ]
     },
     "execution_count": 64,
     "metadata": {},
     "output_type": "execute_result"
    }
   ],
   "source": [
    "Base_final.head(100)"
   ]
  },
  {
   "cell_type": "markdown",
   "metadata": {},
   "source": [
    "# Media y varianza de cada variable"
   ]
  },
  {
   "cell_type": "code",
   "execution_count": 65,
   "metadata": {},
   "outputs": [
    {
     "data": {
      "text/plain": [
       "Index(['Unnamed: 0', 'pais', 'Deuda', 'año', 'Inflacion', 'Gasto público',\n",
       "       'Tasa fiscal', 'Reservas', 'Tipo de cambio', 'Defaults_prev',\n",
       "       'Default previo_c_t (3 años)'],\n",
       "      dtype='object')"
      ]
     },
     "execution_count": 65,
     "metadata": {},
     "output_type": "execute_result"
    }
   ],
   "source": [
    "Base_final.columns"
   ]
  },
  {
   "cell_type": "code",
   "execution_count": 66,
   "metadata": {},
   "outputs": [],
   "source": [
    "import statistics as stats\n",
    "from scipy import stats"
   ]
  },
  {
   "cell_type": "markdown",
   "metadata": {},
   "source": [
    "### Deuda"
   ]
  },
  {
   "cell_type": "code",
   "execution_count": 67,
   "metadata": {},
   "outputs": [
    {
     "data": {
      "text/plain": [
       "count    294.000000\n",
       "mean      50.851689\n",
       "std       33.307938\n",
       "min        0.018398\n",
       "25%       26.459870\n",
       "50%       44.853644\n",
       "75%       64.231988\n",
       "max      232.832211\n",
       "Name: Deuda, dtype: float64"
      ]
     },
     "execution_count": 67,
     "metadata": {},
     "output_type": "execute_result"
    }
   ],
   "source": [
    "Base_final['Deuda'].describe()"
   ]
  },
  {
   "cell_type": "markdown",
   "metadata": {},
   "source": [
    "### Inflación"
   ]
  },
  {
   "cell_type": "code",
   "execution_count": 68,
   "metadata": {},
   "outputs": [
    {
     "data": {
      "text/plain": [
       "count    294.000000\n",
       "mean       5.644940\n",
       "std        7.337135\n",
       "min      -18.108630\n",
       "25%        2.205611\n",
       "50%        3.890281\n",
       "75%        6.830412\n",
       "max       77.296593\n",
       "Name: Inflacion, dtype: float64"
      ]
     },
     "execution_count": 68,
     "metadata": {},
     "output_type": "execute_result"
    }
   ],
   "source": [
    "Base_final['Inflacion'].describe()"
   ]
  },
  {
   "cell_type": "markdown",
   "metadata": {},
   "source": [
    "### Gasto Público"
   ]
  },
  {
   "cell_type": "code",
   "execution_count": 69,
   "metadata": {},
   "outputs": [
    {
     "data": {
      "text/plain": [
       "count    294.000000\n",
       "mean      21.875636\n",
       "std        7.293717\n",
       "min        7.562050\n",
       "25%       16.466839\n",
       "50%       20.175852\n",
       "75%       27.094002\n",
       "max       42.283512\n",
       "Name: Gasto público, dtype: float64"
      ]
     },
     "execution_count": 69,
     "metadata": {},
     "output_type": "execute_result"
    }
   ],
   "source": [
    "Base_final['Gasto público'].describe()"
   ]
  },
  {
   "cell_type": "markdown",
   "metadata": {},
   "source": [
    "### Tasa Fiscal"
   ]
  },
  {
   "cell_type": "code",
   "execution_count": 70,
   "metadata": {},
   "outputs": [
    {
     "data": {
      "text/plain": [
       "count    294.000000\n",
       "mean      16.127629\n",
       "std        6.051511\n",
       "min        4.413943\n",
       "25%       10.261597\n",
       "50%       16.078596\n",
       "75%       21.830268\n",
       "max       27.226929\n",
       "Name: Tasa fiscal, dtype: float64"
      ]
     },
     "execution_count": 70,
     "metadata": {},
     "output_type": "execute_result"
    }
   ],
   "source": [
    "Base_final['Tasa fiscal'].describe()"
   ]
  },
  {
   "cell_type": "markdown",
   "metadata": {},
   "source": [
    "### Reservas"
   ]
  },
  {
   "cell_type": "code",
   "execution_count": 71,
   "metadata": {},
   "outputs": [
    {
     "data": {
      "text/plain": [
       "count    2.940000e+02\n",
       "mean     4.440132e+10\n",
       "std      7.065982e+10\n",
       "min      8.512000e+07\n",
       "25%      1.147301e+09\n",
       "50%      1.052933e+10\n",
       "75%      6.015286e+10\n",
       "max      4.889285e+11\n",
       "Name: Reservas, dtype: float64"
      ]
     },
     "execution_count": 71,
     "metadata": {},
     "output_type": "execute_result"
    }
   ],
   "source": [
    "Base_final['Reservas'].describe()"
   ]
  },
  {
   "cell_type": "markdown",
   "metadata": {},
   "source": [
    "### Tipo de Cambio"
   ]
  },
  {
   "cell_type": "code",
   "execution_count": 72,
   "metadata": {},
   "outputs": [
    {
     "data": {
      "text/plain": [
       "count    294.000000\n",
       "mean      19.567441\n",
       "std       24.735308\n",
       "min        0.499772\n",
       "25%        1.094097\n",
       "50%        3.209600\n",
       "75%       35.425997\n",
       "max      123.638381\n",
       "Name: Tipo de cambio, dtype: float64"
      ]
     },
     "execution_count": 72,
     "metadata": {},
     "output_type": "execute_result"
    }
   ],
   "source": [
    "Base_final['Tipo de cambio'].describe()"
   ]
  },
  {
   "cell_type": "markdown",
   "metadata": {},
   "source": [
    "### Defaults previos"
   ]
  },
  {
   "cell_type": "code",
   "execution_count": 84,
   "metadata": {},
   "outputs": [
    {
     "data": {
      "text/plain": [
       "count    294.000000\n",
       "mean       0.302721\n",
       "std        0.460219\n",
       "min        0.000000\n",
       "25%        0.000000\n",
       "50%        0.000000\n",
       "75%        1.000000\n",
       "max        1.000000\n",
       "Name: Defaults_prev, dtype: float64"
      ]
     },
     "execution_count": 84,
     "metadata": {},
     "output_type": "execute_result"
    }
   ],
   "source": [
    "Base_final['Defaults_prev'].describe()"
   ]
  },
  {
   "cell_type": "markdown",
   "metadata": {},
   "source": [
    "### Defaults previos rezago de 3 años"
   ]
  },
  {
   "cell_type": "code",
   "execution_count": 74,
   "metadata": {},
   "outputs": [
    {
     "data": {
      "text/plain": [
       "count    294.000000\n",
       "mean       0.367347\n",
       "std        0.482904\n",
       "min        0.000000\n",
       "25%        0.000000\n",
       "50%        0.000000\n",
       "75%        1.000000\n",
       "max        1.000000\n",
       "Name: Default previo_c_t (3 años), dtype: float64"
      ]
     },
     "execution_count": 74,
     "metadata": {},
     "output_type": "execute_result"
    }
   ],
   "source": [
    "Base_final['Default previo_c_t (3 años)'].describe()"
   ]
  },
  {
   "cell_type": "markdown",
   "metadata": {},
   "source": [
    "### *Media y varianza de todas las variables*"
   ]
  },
  {
   "cell_type": "code",
   "execution_count": 75,
   "metadata": {},
   "outputs": [
    {
     "data": {
      "text/plain": [
       "Unnamed: 0                     4.207483e+02\n",
       "Deuda                          5.085169e+01\n",
       "año                            2.000000e+03\n",
       "Inflacion                      5.644940e+00\n",
       "Gasto público                  2.187564e+01\n",
       "Tasa fiscal                    1.612763e+01\n",
       "Reservas                       4.440132e+10\n",
       "Tipo de cambio                 1.956744e+01\n",
       "Defaults_prev                  3.027211e-01\n",
       "Default previo_c_t (3 años)    3.673469e-01\n",
       "dtype: float64"
      ]
     },
     "execution_count": 75,
     "metadata": {},
     "output_type": "execute_result"
    }
   ],
   "source": [
    "Base_final.mean()"
   ]
  },
  {
   "cell_type": "code",
   "execution_count": 76,
   "metadata": {},
   "outputs": [
    {
     "data": {
      "text/plain": [
       "Unnamed: 0                     5.341318e+04\n",
       "Deuda                          1.109419e+03\n",
       "año                            3.679181e+01\n",
       "Inflacion                      5.383355e+01\n",
       "Gasto público                  5.319830e+01\n",
       "Tasa fiscal                    3.662078e+01\n",
       "Reservas                       4.992810e+21\n",
       "Tipo de cambio                 6.118355e+02\n",
       "Defaults_prev                  2.118014e-01\n",
       "Default previo_c_t (3 años)    2.331964e-01\n",
       "dtype: float64"
      ]
     },
     "execution_count": 76,
     "metadata": {},
     "output_type": "execute_result"
    }
   ],
   "source": [
    "Base_final.var()"
   ]
  },
  {
   "cell_type": "code",
   "execution_count": 77,
   "metadata": {},
   "outputs": [
    {
     "data": {
      "text/plain": [
       "Unnamed: 0                     4.207483e+02\n",
       "Deuda                          5.085169e+01\n",
       "año                            2.000000e+03\n",
       "Inflacion                      5.644940e+00\n",
       "Gasto público                  2.187564e+01\n",
       "Tasa fiscal                    1.612763e+01\n",
       "Reservas                       4.440132e+10\n",
       "Tipo de cambio                 1.956744e+01\n",
       "Defaults_prev                  3.027211e-01\n",
       "Default previo_c_t (3 años)    3.673469e-01\n",
       "dtype: float64"
      ]
     },
     "execution_count": 77,
     "metadata": {},
     "output_type": "execute_result"
    }
   ],
   "source": [
    "np.mean(Base_final)"
   ]
  },
  {
   "cell_type": "code",
   "execution_count": 78,
   "metadata": {},
   "outputs": [
    {
     "data": {
      "text/plain": [
       "Unnamed: 0                     5.323150e+04\n",
       "Deuda                          1.105645e+03\n",
       "año                            3.666667e+01\n",
       "Inflacion                      5.365044e+01\n",
       "Gasto público                  5.301735e+01\n",
       "Tasa fiscal                    3.649622e+01\n",
       "Reservas                       4.975828e+21\n",
       "Tipo de cambio                 6.097544e+02\n",
       "Defaults_prev                  2.110810e-01\n",
       "Default previo_c_t (3 años)    2.324032e-01\n",
       "dtype: float64"
      ]
     },
     "execution_count": 78,
     "metadata": {},
     "output_type": "execute_result"
    }
   ],
   "source": [
    "np.var(Base_final, 0)"
   ]
  },
  {
   "cell_type": "markdown",
   "metadata": {},
   "source": [
    "### *Estimación LOGIT efectos fijos*"
   ]
  },
  {
   "cell_type": "code",
   "execution_count": 79,
   "metadata": {},
   "outputs": [],
   "source": [
    "Base_final= Base_final.reset_index(drop=True)"
   ]
  },
  {
   "cell_type": "code",
   "execution_count": 80,
   "metadata": {},
   "outputs": [
    {
     "data": {
      "text/html": [
       "<div>\n",
       "<style scoped>\n",
       "    .dataframe tbody tr th:only-of-type {\n",
       "        vertical-align: middle;\n",
       "    }\n",
       "\n",
       "    .dataframe tbody tr th {\n",
       "        vertical-align: top;\n",
       "    }\n",
       "\n",
       "    .dataframe thead th {\n",
       "        text-align: right;\n",
       "    }\n",
       "</style>\n",
       "<table border=\"1\" class=\"dataframe\">\n",
       "  <thead>\n",
       "    <tr style=\"text-align: right;\">\n",
       "      <th></th>\n",
       "      <th>Unnamed: 0</th>\n",
       "      <th>pais</th>\n",
       "      <th>Deuda</th>\n",
       "      <th>año</th>\n",
       "      <th>Inflacion</th>\n",
       "      <th>Gasto público</th>\n",
       "      <th>Tasa fiscal</th>\n",
       "      <th>Reservas</th>\n",
       "      <th>Tipo de cambio</th>\n",
       "      <th>Defaults_prev</th>\n",
       "      <th>Default previo_c_t (3 años)</th>\n",
       "    </tr>\n",
       "  </thead>\n",
       "  <tbody>\n",
       "    <tr>\n",
       "      <td>0</td>\n",
       "      <td>1</td>\n",
       "      <td>Australia</td>\n",
       "      <td>12.253160</td>\n",
       "      <td>1990</td>\n",
       "      <td>7.333022</td>\n",
       "      <td>21.861559</td>\n",
       "      <td>22.476879</td>\n",
       "      <td>1.931874e+10</td>\n",
       "      <td>1.281057</td>\n",
       "      <td>0</td>\n",
       "      <td>0</td>\n",
       "    </tr>\n",
       "    <tr>\n",
       "      <td>1</td>\n",
       "      <td>4</td>\n",
       "      <td>Bhutan</td>\n",
       "      <td>51.188019</td>\n",
       "      <td>1990</td>\n",
       "      <td>10.000000</td>\n",
       "      <td>20.557124</td>\n",
       "      <td>4.413943</td>\n",
       "      <td>8.883421e+07</td>\n",
       "      <td>17.505325</td>\n",
       "      <td>1</td>\n",
       "      <td>0</td>\n",
       "    </tr>\n",
       "    <tr>\n",
       "      <td>2</td>\n",
       "      <td>10</td>\n",
       "      <td>Guatemala</td>\n",
       "      <td>24.480685</td>\n",
       "      <td>1990</td>\n",
       "      <td>41.221867</td>\n",
       "      <td>9.131265</td>\n",
       "      <td>6.865212</td>\n",
       "      <td>3.618105e+08</td>\n",
       "      <td>4.485758</td>\n",
       "      <td>1</td>\n",
       "      <td>1</td>\n",
       "    </tr>\n",
       "    <tr>\n",
       "      <td>3</td>\n",
       "      <td>11</td>\n",
       "      <td>Iceland</td>\n",
       "      <td>29.869468</td>\n",
       "      <td>1990</td>\n",
       "      <td>15.510722</td>\n",
       "      <td>29.377902</td>\n",
       "      <td>23.472225</td>\n",
       "      <td>4.549824e+08</td>\n",
       "      <td>58.283775</td>\n",
       "      <td>0</td>\n",
       "      <td>0</td>\n",
       "    </tr>\n",
       "    <tr>\n",
       "      <td>4</td>\n",
       "      <td>12</td>\n",
       "      <td>India</td>\n",
       "      <td>50.783254</td>\n",
       "      <td>1990</td>\n",
       "      <td>8.971233</td>\n",
       "      <td>15.484217</td>\n",
       "      <td>9.993591</td>\n",
       "      <td>5.637446e+09</td>\n",
       "      <td>17.503500</td>\n",
       "      <td>0</td>\n",
       "      <td>0</td>\n",
       "    </tr>\n",
       "  </tbody>\n",
       "</table>\n",
       "</div>"
      ],
      "text/plain": [
       "   Unnamed: 0       pais      Deuda   año  Inflacion  Gasto público  \\\n",
       "0           1  Australia  12.253160  1990   7.333022      21.861559   \n",
       "1           4     Bhutan  51.188019  1990  10.000000      20.557124   \n",
       "2          10  Guatemala  24.480685  1990  41.221867       9.131265   \n",
       "3          11    Iceland  29.869468  1990  15.510722      29.377902   \n",
       "4          12      India  50.783254  1990   8.971233      15.484217   \n",
       "\n",
       "   Tasa fiscal      Reservas  Tipo de cambio  Defaults_prev  \\\n",
       "0    22.476879  1.931874e+10        1.281057              0   \n",
       "1     4.413943  8.883421e+07       17.505325              1   \n",
       "2     6.865212  3.618105e+08        4.485758              1   \n",
       "3    23.472225  4.549824e+08       58.283775              0   \n",
       "4     9.993591  5.637446e+09       17.503500              0   \n",
       "\n",
       "   Default previo_c_t (3 años)  \n",
       "0                            0  \n",
       "1                            0  \n",
       "2                            1  \n",
       "3                            0  \n",
       "4                            0  "
      ]
     },
     "execution_count": 80,
     "metadata": {},
     "output_type": "execute_result"
    }
   ],
   "source": [
    "Base_final.head()"
   ]
  },
  {
   "cell_type": "code",
   "execution_count": 95,
   "metadata": {},
   "outputs": [
    {
     "data": {
      "text/plain": [
       "Index(['Unnamed: 0', 'pais', 'Deuda', 'año', 'Inflacion', 'Gasto público',\n",
       "       'Tasa fiscal', 'Reservas', 'Tipo de cambio', 'Defaults_prev',\n",
       "       'Default previo_c_t (3 años)'],\n",
       "      dtype='object')"
      ]
     },
     "execution_count": 95,
     "metadata": {},
     "output_type": "execute_result"
    }
   ],
   "source": [
    "Base_final.columns"
   ]
  },
  {
   "cell_type": "code",
   "execution_count": 99,
   "metadata": {},
   "outputs": [],
   "source": [
    "Base_final=Base_final.rename(columns={'Defaults_prev':'y_binaria'})"
   ]
  },
  {
   "cell_type": "code",
   "execution_count": 101,
   "metadata": {},
   "outputs": [
    {
     "data": {
      "text/html": [
       "<div>\n",
       "<style scoped>\n",
       "    .dataframe tbody tr th:only-of-type {\n",
       "        vertical-align: middle;\n",
       "    }\n",
       "\n",
       "    .dataframe tbody tr th {\n",
       "        vertical-align: top;\n",
       "    }\n",
       "\n",
       "    .dataframe thead th {\n",
       "        text-align: right;\n",
       "    }\n",
       "</style>\n",
       "<table border=\"1\" class=\"dataframe\">\n",
       "  <thead>\n",
       "    <tr style=\"text-align: right;\">\n",
       "      <th></th>\n",
       "      <th>Unnamed: 0</th>\n",
       "      <th>pais</th>\n",
       "      <th>Deuda</th>\n",
       "      <th>año</th>\n",
       "      <th>Inflacion</th>\n",
       "      <th>Gasto público</th>\n",
       "      <th>Tasa fiscal</th>\n",
       "      <th>Reservas</th>\n",
       "      <th>Tipo de cambio</th>\n",
       "      <th>y_binaria</th>\n",
       "      <th>Default previo_c_t (3 años)</th>\n",
       "    </tr>\n",
       "  </thead>\n",
       "  <tbody>\n",
       "    <tr>\n",
       "      <td>0</td>\n",
       "      <td>1</td>\n",
       "      <td>Australia</td>\n",
       "      <td>12.253160</td>\n",
       "      <td>1990</td>\n",
       "      <td>7.333022</td>\n",
       "      <td>21.861559</td>\n",
       "      <td>22.476879</td>\n",
       "      <td>1.931874e+10</td>\n",
       "      <td>1.281057</td>\n",
       "      <td>0</td>\n",
       "      <td>0</td>\n",
       "    </tr>\n",
       "    <tr>\n",
       "      <td>1</td>\n",
       "      <td>4</td>\n",
       "      <td>Bhutan</td>\n",
       "      <td>51.188019</td>\n",
       "      <td>1990</td>\n",
       "      <td>10.000000</td>\n",
       "      <td>20.557124</td>\n",
       "      <td>4.413943</td>\n",
       "      <td>8.883421e+07</td>\n",
       "      <td>17.505325</td>\n",
       "      <td>1</td>\n",
       "      <td>0</td>\n",
       "    </tr>\n",
       "    <tr>\n",
       "      <td>2</td>\n",
       "      <td>10</td>\n",
       "      <td>Guatemala</td>\n",
       "      <td>24.480685</td>\n",
       "      <td>1990</td>\n",
       "      <td>41.221867</td>\n",
       "      <td>9.131265</td>\n",
       "      <td>6.865212</td>\n",
       "      <td>3.618105e+08</td>\n",
       "      <td>4.485758</td>\n",
       "      <td>1</td>\n",
       "      <td>1</td>\n",
       "    </tr>\n",
       "    <tr>\n",
       "      <td>3</td>\n",
       "      <td>11</td>\n",
       "      <td>Iceland</td>\n",
       "      <td>29.869468</td>\n",
       "      <td>1990</td>\n",
       "      <td>15.510722</td>\n",
       "      <td>29.377902</td>\n",
       "      <td>23.472225</td>\n",
       "      <td>4.549824e+08</td>\n",
       "      <td>58.283775</td>\n",
       "      <td>0</td>\n",
       "      <td>0</td>\n",
       "    </tr>\n",
       "    <tr>\n",
       "      <td>4</td>\n",
       "      <td>12</td>\n",
       "      <td>India</td>\n",
       "      <td>50.783254</td>\n",
       "      <td>1990</td>\n",
       "      <td>8.971233</td>\n",
       "      <td>15.484217</td>\n",
       "      <td>9.993591</td>\n",
       "      <td>5.637446e+09</td>\n",
       "      <td>17.503500</td>\n",
       "      <td>0</td>\n",
       "      <td>0</td>\n",
       "    </tr>\n",
       "  </tbody>\n",
       "</table>\n",
       "</div>"
      ],
      "text/plain": [
       "   Unnamed: 0       pais      Deuda   año  Inflacion  Gasto público  \\\n",
       "0           1  Australia  12.253160  1990   7.333022      21.861559   \n",
       "1           4     Bhutan  51.188019  1990  10.000000      20.557124   \n",
       "2          10  Guatemala  24.480685  1990  41.221867       9.131265   \n",
       "3          11    Iceland  29.869468  1990  15.510722      29.377902   \n",
       "4          12      India  50.783254  1990   8.971233      15.484217   \n",
       "\n",
       "   Tasa fiscal      Reservas  Tipo de cambio  y_binaria  \\\n",
       "0    22.476879  1.931874e+10        1.281057          0   \n",
       "1     4.413943  8.883421e+07       17.505325          1   \n",
       "2     6.865212  3.618105e+08        4.485758          1   \n",
       "3    23.472225  4.549824e+08       58.283775          0   \n",
       "4     9.993591  5.637446e+09       17.503500          0   \n",
       "\n",
       "   Default previo_c_t (3 años)  \n",
       "0                            0  \n",
       "1                            0  \n",
       "2                            1  \n",
       "3                            0  \n",
       "4                            0  "
      ]
     },
     "execution_count": 101,
     "metadata": {},
     "output_type": "execute_result"
    }
   ],
   "source": [
    "Base_final.head()"
   ]
  },
  {
   "cell_type": "code",
   "execution_count": 104,
   "metadata": {},
   "outputs": [],
   "source": [
    "Base_final = Base_final.join(pd.get_dummies(Base_final['pais']))"
   ]
  },
  {
   "cell_type": "code",
   "execution_count": 105,
   "metadata": {},
   "outputs": [],
   "source": [
    "Base_final.to_excel('dummies.xlsx')"
   ]
  },
  {
   "cell_type": "code",
   "execution_count": 106,
   "metadata": {},
   "outputs": [
    {
     "name": "stdout",
     "output_type": "stream",
     "text": [
      "['Unnamed: 0', 'pais', 'Deuda', 'año', 'Inflacion', 'Gasto público', 'Tasa fiscal', 'Reservas', 'Tipo de cambio', 'y_binaria', 'Default previo_c_t (3 años)', 'Australia', 'Bhutan', 'Guatemala', 'Iceland', 'India', 'Jamaica', 'Jordan', 'Mauritius', 'Singapore', 'Switzerland', 'Thailand', 'Tunisia', 'United Kingdom', 'United States']\n"
     ]
    }
   ],
   "source": [
    "print(list(Base_final.columns))"
   ]
  },
  {
   "cell_type": "code",
   "execution_count": 110,
   "metadata": {},
   "outputs": [],
   "source": [
    "x_columns = ['Deuda','Inflacion','Gasto público','Tasa fiscal','Reservas','Tipo de cambio','Default previo_c_t (3 años)'] + list(Base_final['pais'].unique())"
   ]
  },
  {
   "cell_type": "code",
   "execution_count": 111,
   "metadata": {},
   "outputs": [
    {
     "name": "stdout",
     "output_type": "stream",
     "text": [
      "['Deuda', 'Inflacion', 'Gasto público', 'Tasa fiscal', 'Reservas', 'Tipo de cambio', 'Default previo_c_t (3 años)', 'Australia', 'Bhutan', 'Guatemala', 'Iceland', 'India', 'Jamaica', 'Jordan', 'Mauritius', 'Singapore', 'Switzerland', 'Thailand', 'Tunisia', 'United Kingdom', 'United States']\n"
     ]
    }
   ],
   "source": [
    "print(x_columns)"
   ]
  },
  {
   "cell_type": "code",
   "execution_count": 113,
   "metadata": {},
   "outputs": [
    {
     "name": "stdout",
     "output_type": "stream",
     "text": [
      "Warning: Maximum number of iterations has been exceeded.\n",
      "         Current function value: 0.154995\n",
      "         Iterations: 35\n"
     ]
    },
    {
     "ename": "LinAlgError",
     "evalue": "Singular matrix",
     "output_type": "error",
     "traceback": [
      "\u001b[0;31m---------------------------------------------------------------------------\u001b[0m",
      "\u001b[0;31mLinAlgError\u001b[0m                               Traceback (most recent call last)",
      "\u001b[0;32m<ipython-input-113-682d38111dc5>\u001b[0m in \u001b[0;36m<module>\u001b[0;34m\u001b[0m\n\u001b[1;32m      2\u001b[0m \u001b[0mY\u001b[0m \u001b[0;34m=\u001b[0m \u001b[0mBase_final\u001b[0m\u001b[0;34m[\u001b[0m\u001b[0;34m[\u001b[0m\u001b[0;34m'y_binaria'\u001b[0m\u001b[0;34m]\u001b[0m\u001b[0;34m]\u001b[0m\u001b[0;34m\u001b[0m\u001b[0;34m\u001b[0m\u001b[0m\n\u001b[1;32m      3\u001b[0m \u001b[0mX\u001b[0m \u001b[0;34m=\u001b[0m \u001b[0msm\u001b[0m\u001b[0;34m.\u001b[0m\u001b[0madd_constant\u001b[0m\u001b[0;34m(\u001b[0m\u001b[0mX\u001b[0m\u001b[0;34m)\u001b[0m\u001b[0;34m\u001b[0m\u001b[0;34m\u001b[0m\u001b[0m\n\u001b[0;32m----> 4\u001b[0;31m \u001b[0mmodel\u001b[0m \u001b[0;34m=\u001b[0m \u001b[0msm\u001b[0m\u001b[0;34m.\u001b[0m\u001b[0mLogit\u001b[0m\u001b[0;34m(\u001b[0m\u001b[0mY\u001b[0m\u001b[0;34m,\u001b[0m \u001b[0mX\u001b[0m\u001b[0;34m)\u001b[0m\u001b[0;34m.\u001b[0m\u001b[0mfit\u001b[0m\u001b[0;34m(\u001b[0m\u001b[0;34m)\u001b[0m\u001b[0;34m\u001b[0m\u001b[0;34m\u001b[0m\u001b[0m\n\u001b[0m\u001b[1;32m      5\u001b[0m \u001b[0mprint\u001b[0m\u001b[0;34m(\u001b[0m\u001b[0mmodel\u001b[0m\u001b[0;34m.\u001b[0m\u001b[0msummary\u001b[0m\u001b[0;34m(\u001b[0m\u001b[0;34m)\u001b[0m\u001b[0;34m)\u001b[0m\u001b[0;34m\u001b[0m\u001b[0;34m\u001b[0m\u001b[0m\n",
      "\u001b[0;32m~/opt/anaconda3/lib/python3.7/site-packages/statsmodels/discrete/discrete_model.py\u001b[0m in \u001b[0;36mfit\u001b[0;34m(self, start_params, method, maxiter, full_output, disp, callback, **kwargs)\u001b[0m\n\u001b[1;32m   1900\u001b[0m         bnryfit = super(Logit, self).fit(start_params=start_params,\n\u001b[1;32m   1901\u001b[0m                 \u001b[0mmethod\u001b[0m\u001b[0;34m=\u001b[0m\u001b[0mmethod\u001b[0m\u001b[0;34m,\u001b[0m \u001b[0mmaxiter\u001b[0m\u001b[0;34m=\u001b[0m\u001b[0mmaxiter\u001b[0m\u001b[0;34m,\u001b[0m \u001b[0mfull_output\u001b[0m\u001b[0;34m=\u001b[0m\u001b[0mfull_output\u001b[0m\u001b[0;34m,\u001b[0m\u001b[0;34m\u001b[0m\u001b[0;34m\u001b[0m\u001b[0m\n\u001b[0;32m-> 1902\u001b[0;31m                 disp=disp, callback=callback, **kwargs)\n\u001b[0m\u001b[1;32m   1903\u001b[0m \u001b[0;34m\u001b[0m\u001b[0m\n\u001b[1;32m   1904\u001b[0m         \u001b[0mdiscretefit\u001b[0m \u001b[0;34m=\u001b[0m \u001b[0mLogitResults\u001b[0m\u001b[0;34m(\u001b[0m\u001b[0mself\u001b[0m\u001b[0;34m,\u001b[0m \u001b[0mbnryfit\u001b[0m\u001b[0;34m)\u001b[0m\u001b[0;34m\u001b[0m\u001b[0;34m\u001b[0m\u001b[0m\n",
      "\u001b[0;32m~/opt/anaconda3/lib/python3.7/site-packages/statsmodels/discrete/discrete_model.py\u001b[0m in \u001b[0;36mfit\u001b[0;34m(self, start_params, method, maxiter, full_output, disp, callback, **kwargs)\u001b[0m\n\u001b[1;32m    215\u001b[0m         mlefit = super(DiscreteModel, self).fit(start_params=start_params,\n\u001b[1;32m    216\u001b[0m                 \u001b[0mmethod\u001b[0m\u001b[0;34m=\u001b[0m\u001b[0mmethod\u001b[0m\u001b[0;34m,\u001b[0m \u001b[0mmaxiter\u001b[0m\u001b[0;34m=\u001b[0m\u001b[0mmaxiter\u001b[0m\u001b[0;34m,\u001b[0m \u001b[0mfull_output\u001b[0m\u001b[0;34m=\u001b[0m\u001b[0mfull_output\u001b[0m\u001b[0;34m,\u001b[0m\u001b[0;34m\u001b[0m\u001b[0;34m\u001b[0m\u001b[0m\n\u001b[0;32m--> 217\u001b[0;31m                 disp=disp, callback=callback, **kwargs)\n\u001b[0m\u001b[1;32m    218\u001b[0m \u001b[0;34m\u001b[0m\u001b[0m\n\u001b[1;32m    219\u001b[0m         \u001b[0;32mreturn\u001b[0m \u001b[0mmlefit\u001b[0m \u001b[0;31m# up to subclasses to wrap results\u001b[0m\u001b[0;34m\u001b[0m\u001b[0;34m\u001b[0m\u001b[0m\n",
      "\u001b[0;32m~/opt/anaconda3/lib/python3.7/site-packages/statsmodels/base/model.py\u001b[0m in \u001b[0;36mfit\u001b[0;34m(self, start_params, method, maxiter, full_output, disp, fargs, callback, retall, skip_hessian, **kwargs)\u001b[0m\n\u001b[1;32m    475\u001b[0m             \u001b[0mHinv\u001b[0m \u001b[0;34m=\u001b[0m \u001b[0mcov_params_func\u001b[0m\u001b[0;34m(\u001b[0m\u001b[0mself\u001b[0m\u001b[0;34m,\u001b[0m \u001b[0mxopt\u001b[0m\u001b[0;34m,\u001b[0m \u001b[0mretvals\u001b[0m\u001b[0;34m)\u001b[0m\u001b[0;34m\u001b[0m\u001b[0;34m\u001b[0m\u001b[0m\n\u001b[1;32m    476\u001b[0m         \u001b[0;32melif\u001b[0m \u001b[0mmethod\u001b[0m \u001b[0;34m==\u001b[0m \u001b[0;34m'newton'\u001b[0m \u001b[0;32mand\u001b[0m \u001b[0mfull_output\u001b[0m\u001b[0;34m:\u001b[0m\u001b[0;34m\u001b[0m\u001b[0;34m\u001b[0m\u001b[0m\n\u001b[0;32m--> 477\u001b[0;31m             \u001b[0mHinv\u001b[0m \u001b[0;34m=\u001b[0m \u001b[0mnp\u001b[0m\u001b[0;34m.\u001b[0m\u001b[0mlinalg\u001b[0m\u001b[0;34m.\u001b[0m\u001b[0minv\u001b[0m\u001b[0;34m(\u001b[0m\u001b[0;34m-\u001b[0m\u001b[0mretvals\u001b[0m\u001b[0;34m[\u001b[0m\u001b[0;34m'Hessian'\u001b[0m\u001b[0;34m]\u001b[0m\u001b[0;34m)\u001b[0m \u001b[0;34m/\u001b[0m \u001b[0mnobs\u001b[0m\u001b[0;34m\u001b[0m\u001b[0;34m\u001b[0m\u001b[0m\n\u001b[0m\u001b[1;32m    478\u001b[0m         \u001b[0;32melif\u001b[0m \u001b[0;32mnot\u001b[0m \u001b[0mskip_hessian\u001b[0m\u001b[0;34m:\u001b[0m\u001b[0;34m\u001b[0m\u001b[0;34m\u001b[0m\u001b[0m\n\u001b[1;32m    479\u001b[0m             \u001b[0mH\u001b[0m \u001b[0;34m=\u001b[0m \u001b[0;34m-\u001b[0m\u001b[0;36m1\u001b[0m \u001b[0;34m*\u001b[0m \u001b[0mself\u001b[0m\u001b[0;34m.\u001b[0m\u001b[0mhessian\u001b[0m\u001b[0;34m(\u001b[0m\u001b[0mxopt\u001b[0m\u001b[0;34m)\u001b[0m\u001b[0;34m\u001b[0m\u001b[0;34m\u001b[0m\u001b[0m\n",
      "\u001b[0;32m<__array_function__ internals>\u001b[0m in \u001b[0;36minv\u001b[0;34m(*args, **kwargs)\u001b[0m\n",
      "\u001b[0;32m~/opt/anaconda3/lib/python3.7/site-packages/numpy/linalg/linalg.py\u001b[0m in \u001b[0;36minv\u001b[0;34m(a)\u001b[0m\n\u001b[1;32m    549\u001b[0m     \u001b[0msignature\u001b[0m \u001b[0;34m=\u001b[0m \u001b[0;34m'D->D'\u001b[0m \u001b[0;32mif\u001b[0m \u001b[0misComplexType\u001b[0m\u001b[0;34m(\u001b[0m\u001b[0mt\u001b[0m\u001b[0;34m)\u001b[0m \u001b[0;32melse\u001b[0m \u001b[0;34m'd->d'\u001b[0m\u001b[0;34m\u001b[0m\u001b[0;34m\u001b[0m\u001b[0m\n\u001b[1;32m    550\u001b[0m     \u001b[0mextobj\u001b[0m \u001b[0;34m=\u001b[0m \u001b[0mget_linalg_error_extobj\u001b[0m\u001b[0;34m(\u001b[0m\u001b[0m_raise_linalgerror_singular\u001b[0m\u001b[0;34m)\u001b[0m\u001b[0;34m\u001b[0m\u001b[0;34m\u001b[0m\u001b[0m\n\u001b[0;32m--> 551\u001b[0;31m     \u001b[0mainv\u001b[0m \u001b[0;34m=\u001b[0m \u001b[0m_umath_linalg\u001b[0m\u001b[0;34m.\u001b[0m\u001b[0minv\u001b[0m\u001b[0;34m(\u001b[0m\u001b[0ma\u001b[0m\u001b[0;34m,\u001b[0m \u001b[0msignature\u001b[0m\u001b[0;34m=\u001b[0m\u001b[0msignature\u001b[0m\u001b[0;34m,\u001b[0m \u001b[0mextobj\u001b[0m\u001b[0;34m=\u001b[0m\u001b[0mextobj\u001b[0m\u001b[0;34m)\u001b[0m\u001b[0;34m\u001b[0m\u001b[0;34m\u001b[0m\u001b[0m\n\u001b[0m\u001b[1;32m    552\u001b[0m     \u001b[0;32mreturn\u001b[0m \u001b[0mwrap\u001b[0m\u001b[0;34m(\u001b[0m\u001b[0mainv\u001b[0m\u001b[0;34m.\u001b[0m\u001b[0mastype\u001b[0m\u001b[0;34m(\u001b[0m\u001b[0mresult_t\u001b[0m\u001b[0;34m,\u001b[0m \u001b[0mcopy\u001b[0m\u001b[0;34m=\u001b[0m\u001b[0;32mFalse\u001b[0m\u001b[0;34m)\u001b[0m\u001b[0;34m)\u001b[0m\u001b[0;34m\u001b[0m\u001b[0;34m\u001b[0m\u001b[0m\n\u001b[1;32m    553\u001b[0m \u001b[0;34m\u001b[0m\u001b[0m\n",
      "\u001b[0;32m~/opt/anaconda3/lib/python3.7/site-packages/numpy/linalg/linalg.py\u001b[0m in \u001b[0;36m_raise_linalgerror_singular\u001b[0;34m(err, flag)\u001b[0m\n\u001b[1;32m     95\u001b[0m \u001b[0;34m\u001b[0m\u001b[0m\n\u001b[1;32m     96\u001b[0m \u001b[0;32mdef\u001b[0m \u001b[0m_raise_linalgerror_singular\u001b[0m\u001b[0;34m(\u001b[0m\u001b[0merr\u001b[0m\u001b[0;34m,\u001b[0m \u001b[0mflag\u001b[0m\u001b[0;34m)\u001b[0m\u001b[0;34m:\u001b[0m\u001b[0;34m\u001b[0m\u001b[0;34m\u001b[0m\u001b[0m\n\u001b[0;32m---> 97\u001b[0;31m     \u001b[0;32mraise\u001b[0m \u001b[0mLinAlgError\u001b[0m\u001b[0;34m(\u001b[0m\u001b[0;34m\"Singular matrix\"\u001b[0m\u001b[0;34m)\u001b[0m\u001b[0;34m\u001b[0m\u001b[0;34m\u001b[0m\u001b[0m\n\u001b[0m\u001b[1;32m     98\u001b[0m \u001b[0;34m\u001b[0m\u001b[0m\n\u001b[1;32m     99\u001b[0m \u001b[0;32mdef\u001b[0m \u001b[0m_raise_linalgerror_nonposdef\u001b[0m\u001b[0;34m(\u001b[0m\u001b[0merr\u001b[0m\u001b[0;34m,\u001b[0m \u001b[0mflag\u001b[0m\u001b[0;34m)\u001b[0m\u001b[0;34m:\u001b[0m\u001b[0;34m\u001b[0m\u001b[0;34m\u001b[0m\u001b[0m\n",
      "\u001b[0;31mLinAlgError\u001b[0m: Singular matrix"
     ]
    }
   ],
   "source": [
    "X = Base_final[x_columns]\n",
    "Y = Base_final[['y_binaria']]\n",
    "X = sm.add_constant(X)\n",
    "model = sm.Logit(Y, X).fit()\n",
    "print(model.summary())"
   ]
  },
  {
   "cell_type": "code",
   "execution_count": null,
   "metadata": {},
   "outputs": [],
   "source": []
  }
 ],
 "metadata": {
  "kernelspec": {
   "display_name": "Python 3",
   "language": "python",
   "name": "python3"
  },
  "language_info": {
   "codemirror_mode": {
    "name": "ipython",
    "version": 3
   },
   "file_extension": ".py",
   "mimetype": "text/x-python",
   "name": "python",
   "nbconvert_exporter": "python",
   "pygments_lexer": "ipython3",
   "version": "3.7.4"
  }
 },
 "nbformat": 4,
 "nbformat_minor": 2
}
